{
  "nbformat": 4,
  "nbformat_minor": 0,
  "metadata": {
    "colab": {
      "provenance": [],
      "authorship_tag": "ABX9TyMcf9njKEyR3oZx2C1fUAUj",
      "include_colab_link": true
    },
    "kernelspec": {
      "name": "python3",
      "display_name": "Python 3"
    },
    "language_info": {
      "name": "python"
    }
  },
  "cells": [
    {
      "cell_type": "markdown",
      "metadata": {
        "id": "view-in-github",
        "colab_type": "text"
      },
      "source": [
        "<a href=\"https://colab.research.google.com/github/Appseung/Oracle/blob/main/Python_09.ipynb\" target=\"_parent\"><img src=\"https://colab.research.google.com/assets/colab-badge.svg\" alt=\"Open In Colab\"/></a>"
      ]
    },
    {
      "cell_type": "markdown",
      "source": [
        "#dict"
      ],
      "metadata": {
        "id": "6AdwMkNisNxU"
      }
    },
    {
      "cell_type": "markdown",
      "source": [
        "* 사전(dictionary) 형식의 데이터 타입.\n",
        "* 키(key)를 기반으로 값(value)을 저장하는 데이터 타입.\n",
        "    * lust , tuple : 인덱스(index)를 기반으로 값(value)들을 저장하는 데이터 타입.\n",
        "    * dict 타입에서 키(key)의 역할은 list  , tuple 에서 인덱스와 비슷하게 , dict에 저장된 값 1개를 참조하기 위한 용도.\n",
        "        * 키(key)는 중복된 값을 허용하지 않음."
      ],
      "metadata": {
        "id": "gHTm1MV5sdcm"
      }
    },
    {
      "cell_type": "code",
      "source": [
        "students={100: '홍길동',101 : '오쌤',200:'Scott'}\n",
        "print(type(students))\n",
        "print(students)\n",
        "\n"
      ],
      "metadata": {
        "id": "rdFY15wOtsj5",
        "colab": {
          "base_uri": "https://localhost:8080/"
        },
        "outputId": "433102aa-4c12-4319-da42-2971b939e701"
      },
      "execution_count": 164,
      "outputs": [
        {
          "output_type": "stream",
          "name": "stdout",
          "text": [
            "<class 'dict'>\n",
            "{100: '홍길동', 101: '오쌤', 200: 'Scott'}\n"
          ]
        }
      ]
    },
    {
      "cell_type": "code",
      "source": [
        "students[100]"
      ],
      "metadata": {
        "id": "XNlMQ2tDyNtP",
        "colab": {
          "base_uri": "https://localhost:8080/",
          "height": 36
        },
        "outputId": "f138a3ae-99e9-4b66-a6c7-19cb47723796"
      },
      "execution_count": 165,
      "outputs": [
        {
          "output_type": "execute_result",
          "data": {
            "text/plain": [
              "'홍길동'"
            ],
            "application/vnd.google.colaboratory.intrinsic+json": {
              "type": "string"
            }
          },
          "metadata": {},
          "execution_count": 165
        }
      ]
    },
    {
      "cell_type": "markdown",
      "source": [
        "##dict 함수 (메서드)\n",
        "\n",
        " * dict는 key를 직접 검색해야 하기에 인덱스와 다르게 찾기가 어렵기에 제공되는 메서드가 있다."
      ],
      "metadata": {
        "id": "t3LJe8Bgvjrn"
      }
    },
    {
      "cell_type": "code",
      "source": [],
      "metadata": {
        "id": "Fi335moBzsZz"
      },
      "execution_count": 165,
      "outputs": []
    },
    {
      "cell_type": "code",
      "source": [
        "#dict.keys() : dict 객체가 가지고 있는 key들의 리스트를 반환.\n",
        "\n",
        "students.keys()\n"
      ],
      "metadata": {
        "colab": {
          "base_uri": "https://localhost:8080/"
        },
        "id": "nGTxrV2Hv-Bc",
        "outputId": "3473e282-48c0-43a4-cd15-2a99a83a541a"
      },
      "execution_count": 166,
      "outputs": [
        {
          "output_type": "execute_result",
          "data": {
            "text/plain": [
              "dict_keys([100, 101, 200])"
            ]
          },
          "metadata": {},
          "execution_count": 166
        }
      ]
    },
    {
      "cell_type": "code",
      "source": [
        "#dict.values() : dict 객체의 값(value)들의 리스트를 반환.\n",
        "students.values()"
      ],
      "metadata": {
        "colab": {
          "base_uri": "https://localhost:8080/"
        },
        "id": "UmAmKhoQwaZV",
        "outputId": "8f466363-47c8-4051-cdc0-49a276a2f803"
      },
      "execution_count": 167,
      "outputs": [
        {
          "output_type": "execute_result",
          "data": {
            "text/plain": [
              "dict_values(['홍길동', '오쌤', 'Scott'])"
            ]
          },
          "metadata": {},
          "execution_count": 167
        }
      ]
    },
    {
      "cell_type": "code",
      "source": [
        "#dict.items() : (key,value) 튜플들의 리스트를 반환.\n",
        "# students.items() :  dict_items([(100, '홍길동'), (101, '오쌤'), (200, 'Scott')]  -> 튜플((100, '홍길동'),(101, '오쌤'),(200, 'Scott'))  들을 원소로 갖는 리스트 []\n",
        "students.items()"
      ],
      "metadata": {
        "colab": {
          "base_uri": "https://localhost:8080/"
        },
        "id": "M-i3gyzQw0lG",
        "outputId": "66ea07a3-6f83-4c29-bd88-cd78739a86ff"
      },
      "execution_count": 168,
      "outputs": [
        {
          "output_type": "execute_result",
          "data": {
            "text/plain": [
              "dict_items([(100, '홍길동'), (101, '오쌤'), (200, 'Scott')])"
            ]
          },
          "metadata": {},
          "execution_count": 168
        }
      ]
    },
    {
      "cell_type": "code",
      "source": [
        "# dict.get(key) : key에 해당하는 value를 반환. dict[key]와 같은 기능.\n",
        "students.get(101)"
      ],
      "metadata": {
        "id": "2naLtV62xwVA",
        "colab": {
          "base_uri": "https://localhost:8080/",
          "height": 36
        },
        "outputId": "bd329e6d-8830-4799-96a0-26b1a3106116"
      },
      "execution_count": 169,
      "outputs": [
        {
          "output_type": "execute_result",
          "data": {
            "text/plain": [
              "'오쌤'"
            ],
            "application/vnd.google.colaboratory.intrinsic+json": {
              "type": "string"
            }
          },
          "metadata": {},
          "execution_count": 169
        }
      ]
    },
    {
      "cell_type": "markdown",
      "source": [
        "`dict[key] = value  : 없으면 추가  있으면 변경 `\n",
        "* key가 dict에 없을 때는 key : value 아이템을 dict에 추가  (append)\n",
        "* key가 dict에 있을 때는 key에 해당하는 값을 새로운 값 value로 바꿈."
      ],
      "metadata": {
        "id": "yBBAndBDymFn"
      }
    },
    {
      "cell_type": "code",
      "source": [
        "# 값이 없을 때\n",
        "students[300]='홍길동'\n",
        "print(students)"
      ],
      "metadata": {
        "colab": {
          "base_uri": "https://localhost:8080/"
        },
        "id": "UmaYDKB2zMP-",
        "outputId": "960b7e0d-55c3-4daf-e669-2dd19b6658a6"
      },
      "execution_count": 170,
      "outputs": [
        {
          "output_type": "stream",
          "name": "stdout",
          "text": [
            "{100: '홍길동', 101: '오쌤', 200: 'Scott', 300: '홍길동'}\n"
          ]
        }
      ]
    },
    {
      "cell_type": "code",
      "source": [
        "# 값이 있을 때\n",
        "students[300] = '김길동'\n",
        "print(students)"
      ],
      "metadata": {
        "colab": {
          "base_uri": "https://localhost:8080/"
        },
        "id": "nzXqQWvPzeCu",
        "outputId": "372aebcd-740c-41e9-a98b-6ca7b83aef12"
      },
      "execution_count": 171,
      "outputs": [
        {
          "output_type": "stream",
          "name": "stdout",
          "text": [
            "{100: '홍길동', 101: '오쌤', 200: 'Scott', 300: '김길동'}\n"
          ]
        }
      ]
    },
    {
      "cell_type": "code",
      "source": [
        "# students.pop(300) -- 한번사용했음\n",
        "\n",
        "print(students)"
      ],
      "metadata": {
        "colab": {
          "base_uri": "https://localhost:8080/"
        },
        "id": "m3AqWF2Kz4gP",
        "outputId": "8ed2cd95-32c0-4098-8fef-c7f9b561bf86"
      },
      "execution_count": 172,
      "outputs": [
        {
          "output_type": "stream",
          "name": "stdout",
          "text": [
            "{100: '홍길동', 101: '오쌤', 200: 'Scott', 300: '김길동'}\n"
          ]
        }
      ]
    },
    {
      "cell_type": "markdown",
      "source": [
        "#dict와 for 반복문"
      ],
      "metadata": {
        "id": "AHO677j9GrR2"
      }
    },
    {
      "cell_type": "code",
      "source": [
        "for k in students:\n",
        "    print(k)\n",
        "\n",
        "#for  - in 반복문에서 dict 객체를 사용하면 key들을 iteration함."
      ],
      "metadata": {
        "id": "n6jM6v3kGuER",
        "colab": {
          "base_uri": "https://localhost:8080/"
        },
        "outputId": "868cdb2c-b12b-4128-bfc0-6e676be02a51"
      },
      "execution_count": 173,
      "outputs": [
        {
          "output_type": "stream",
          "name": "stdout",
          "text": [
            "100\n",
            "101\n",
            "200\n",
            "300\n"
          ]
        }
      ]
    },
    {
      "cell_type": "code",
      "source": [
        "for k in students:\n",
        "    print(k, ':' , students.get(k)) # students.get[k] == students.get(k)"
      ],
      "metadata": {
        "colab": {
          "base_uri": "https://localhost:8080/"
        },
        "id": "RrxQ1Pb4HMiv",
        "outputId": "af92b130-7f92-4d5e-a3dd-d4449928a918"
      },
      "execution_count": 174,
      "outputs": [
        {
          "output_type": "stream",
          "name": "stdout",
          "text": [
            "100 : 홍길동\n",
            "101 : 오쌤\n",
            "200 : Scott\n",
            "300 : 김길동\n"
          ]
        }
      ]
    },
    {
      "cell_type": "code",
      "source": [
        "for k , v in students.items():\n",
        "    print(k , ' - ' , v)      # 위와 같은 내용이지만 가독성이 더 좋다."
      ],
      "metadata": {
        "colab": {
          "base_uri": "https://localhost:8080/"
        },
        "id": "ptBNWYKuHpXJ",
        "outputId": "140e38d4-76e0-4c94-ce3b-6152c0643b1f"
      },
      "execution_count": 175,
      "outputs": [
        {
          "output_type": "stream",
          "name": "stdout",
          "text": [
            "100  -  홍길동\n",
            "101  -  오쌤\n",
            "200  -  Scott\n",
            "300  -  김길동\n"
          ]
        }
      ]
    },
    {
      "cell_type": "code",
      "source": [
        "book = {'title' : '파이썬 200제','author' :  '장삼용' , 'publusher' : '정보문화사'}\n",
        "\n",
        "print(book)"
      ],
      "metadata": {
        "colab": {
          "base_uri": "https://localhost:8080/"
        },
        "id": "s4S_7lwpIpap",
        "outputId": "648a8388-e59e-44d8-ef33-4e37a7b1aab8"
      },
      "execution_count": 176,
      "outputs": [
        {
          "output_type": "stream",
          "name": "stdout",
          "text": [
            "{'title': '파이썬 200제', 'author': '장삼용', 'publusher': '정보문화사'}\n"
          ]
        }
      ]
    },
    {
      "cell_type": "code",
      "source": [
        "for k , v in book.items():\n",
        "    print ( k ,' : ', v )"
      ],
      "metadata": {
        "colab": {
          "base_uri": "https://localhost:8080/"
        },
        "id": "eY_pz7AfJB4y",
        "outputId": "fe673e69-3fbf-4d17-e81e-b3007c1e0f0e"
      },
      "execution_count": 177,
      "outputs": [
        {
          "output_type": "stream",
          "name": "stdout",
          "text": [
            "title  :  파이썬 200제\n",
            "author  :  장삼용\n",
            "publusher  :  정보문화사\n"
          ]
        }
      ]
    },
    {
      "cell_type": "markdown",
      "source": [
        "#다양한 자료를 저장하는 dict"
      ],
      "metadata": {
        "id": "38ZAvFuyJlcx"
      }
    },
    {
      "cell_type": "code",
      "source": [
        "contact = { 'name' : '홍길동',\n",
        "           'phone' : ['010-1234-5678','02-0000-5678'] ,\n",
        "           'email' : {'personal' : 'hgd@naver.com', 'company' : 'hgd@itwill.com'} ,\n",
        "           'no' : 1 }\n"
      ],
      "metadata": {
        "id": "pzOF5RFTJny6"
      },
      "execution_count": 178,
      "outputs": []
    },
    {
      "cell_type": "code",
      "source": [
        "for k , v in contact.items():\n",
        "    print(k , ':' , v)"
      ],
      "metadata": {
        "colab": {
          "base_uri": "https://localhost:8080/"
        },
        "id": "qW3F9NibLGWr",
        "outputId": "724046de-7c4e-4fca-c28f-be2d54e48e71"
      },
      "execution_count": 179,
      "outputs": [
        {
          "output_type": "stream",
          "name": "stdout",
          "text": [
            "name : 홍길동\n",
            "phone : ['010-1234-5678', '02-0000-5678']\n",
            "email : {'personal': 'hgd@naver.com', 'company': 'hgd@itwill.com'}\n",
            "no : 1\n"
          ]
        }
      ]
    },
    {
      "cell_type": "code",
      "source": [
        "# contact.get('phone')\n",
        "contact['phone']"
      ],
      "metadata": {
        "colab": {
          "base_uri": "https://localhost:8080/"
        },
        "id": "omg3qmQuLafg",
        "outputId": "37751f0a-9d66-4cea-fa73-11a350f795a8"
      },
      "execution_count": 180,
      "outputs": [
        {
          "output_type": "execute_result",
          "data": {
            "text/plain": [
              "['010-1234-5678', '02-0000-5678']"
            ]
          },
          "metadata": {},
          "execution_count": 180
        }
      ]
    },
    {
      "cell_type": "code",
      "source": [
        "#contact.get('phone')[0]\n",
        "\n",
        "contact['phone'][0]"
      ],
      "metadata": {
        "colab": {
          "base_uri": "https://localhost:8080/",
          "height": 36
        },
        "id": "jd9Xc8mULyjC",
        "outputId": "107fcacf-d77a-4e79-a221-13c0a6e3aafb"
      },
      "execution_count": 181,
      "outputs": [
        {
          "output_type": "execute_result",
          "data": {
            "text/plain": [
              "'010-1234-5678'"
            ],
            "application/vnd.google.colaboratory.intrinsic+json": {
              "type": "string"
            }
          },
          "metadata": {},
          "execution_count": 181
        }
      ]
    },
    {
      "cell_type": "code",
      "source": [
        "contact['email']['company']\n",
        "\n",
        "contact.get('email').get('company')\n",
        "\n"
      ],
      "metadata": {
        "colab": {
          "base_uri": "https://localhost:8080/",
          "height": 36
        },
        "id": "IcLczHvLMcwy",
        "outputId": "c712bf30-85f6-40fc-8e7e-cd81f49b61e1"
      },
      "execution_count": 182,
      "outputs": [
        {
          "output_type": "execute_result",
          "data": {
            "text/plain": [
              "'hgd@itwill.com'"
            ],
            "application/vnd.google.colaboratory.intrinsic+json": {
              "type": "string"
            }
          },
          "metadata": {},
          "execution_count": 182
        }
      ]
    },
    {
      "cell_type": "markdown",
      "source": [
        "#dictionary comprehension"
      ],
      "metadata": {
        "id": "Adur45QTNbpv"
      }
    },
    {
      "cell_type": "code",
      "source": [
        "emp_no=[1001,1002,1003,1004]\n",
        "emp_name=['scott','allen','king','오쌤']\n",
        "\n",
        "emp={} # empty dict\n",
        "\n",
        "\n",
        "for x , y  in zip(emp_no,emp_name):\n",
        "    emp[x]=y\n",
        "for k, v in emp.items():\n",
        "    print( k , \" : \" , v)"
      ],
      "metadata": {
        "colab": {
          "base_uri": "https://localhost:8080/"
        },
        "id": "4YlJALp8NeqJ",
        "outputId": "92684fc0-06e5-42c8-c2dd-ad1abbb2aca6"
      },
      "execution_count": 183,
      "outputs": [
        {
          "output_type": "stream",
          "name": "stdout",
          "text": [
            "1001  :  scott\n",
            "1002  :  allen\n",
            "1003  :  king\n",
            "1004  :  오쌤\n"
          ]
        }
      ]
    },
    {
      "cell_type": "code",
      "source": [
        "emp2={k : v for k,v in zip(emp_no,emp_name)}\n",
        "for k ,v in  emp2.items() :\n",
        "    print( k , ':' , v)"
      ],
      "metadata": {
        "colab": {
          "base_uri": "https://localhost:8080/"
        },
        "id": "mSU48UraPv9T",
        "outputId": "b0a1c5ec-1aff-485e-edf7-886d56a02460"
      },
      "execution_count": 184,
      "outputs": [
        {
          "output_type": "stream",
          "name": "stdout",
          "text": [
            "1001 : scott\n",
            "1002 : allen\n",
            "1003 : king\n",
            "1004 : 오쌤\n"
          ]
        }
      ]
    },
    {
      "cell_type": "code",
      "source": [
        "fruits = ['apple','banana','cherry','pineapple','watermellon','딸기']\n",
        "\n",
        "#리스트 fruits에 있는 과일 이름을 key로 하고 , 문자열의 길이를 value로 하는 dict를 생성하고 출력\n",
        "fruits_length={}"
      ],
      "metadata": {
        "id": "qjPTBEdBULrU"
      },
      "execution_count": 185,
      "outputs": []
    },
    {
      "cell_type": "code",
      "source": [
        "for k in fruits:\n",
        "    fruits_length[k]=len(k)  # 생각지도 못함  저장해야하는건 k 한개였기때문에 y가 없는데 어찌하나 했는데 len(k) 네;\n",
        "print (fruits_length)\n"
      ],
      "metadata": {
        "colab": {
          "base_uri": "https://localhost:8080/"
        },
        "id": "u1Lj90sWWZcU",
        "outputId": "c0242e64-2227-4e73-c08d-3bd59753e6a9"
      },
      "execution_count": 186,
      "outputs": [
        {
          "output_type": "stream",
          "name": "stdout",
          "text": [
            "{'apple': 5, 'banana': 6, 'cherry': 6, 'pineapple': 9, 'watermellon': 11, '딸기': 2}\n"
          ]
        }
      ]
    },
    {
      "cell_type": "code",
      "source": [
        "fruit_length2={k : len(k) for k in fruits}\n",
        "print(fruit_length2)"
      ],
      "metadata": {
        "colab": {
          "base_uri": "https://localhost:8080/"
        },
        "id": "3amRglbRVGb8",
        "outputId": "2a71fccb-5a1a-4c13-c4b9-afe6b6598e88"
      },
      "execution_count": 187,
      "outputs": [
        {
          "output_type": "stream",
          "name": "stdout",
          "text": [
            "{'apple': 5, 'banana': 6, 'cherry': 6, 'pineapple': 9, 'watermellon': 11, '딸기': 2}\n"
          ]
        }
      ]
    }
  ]
}