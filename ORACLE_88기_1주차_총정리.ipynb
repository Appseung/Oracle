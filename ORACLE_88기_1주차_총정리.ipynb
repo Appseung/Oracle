{
  "nbformat": 4,
  "nbformat_minor": 0,
  "metadata": {
    "colab": {
      "provenance": [],
      "toc_visible": true,
      "authorship_tag": "ABX9TyPr1g5XRbr7PmPLxPWpcGSC",
      "include_colab_link": true
    },
    "kernelspec": {
      "name": "python3",
      "display_name": "Python 3"
    },
    "language_info": {
      "name": "python"
    }
  },
  "cells": [
    {
      "cell_type": "markdown",
      "metadata": {
        "id": "view-in-github",
        "colab_type": "text"
      },
      "source": [
        "<a href=\"https://colab.research.google.com/github/Appseung/Oracle/blob/main/ORACLE_88%EA%B8%B0_1%EC%A3%BC%EC%B0%A8_%EC%B4%9D%EC%A0%95%EB%A6%AC.ipynb\" target=\"_parent\"><img src=\"https://colab.research.google.com/assets/colab-badge.svg\" alt=\"Open In Colab\"/></a>"
      ]
    },
    {
      "cell_type": "markdown",
      "source": [
        "#수업 정리\n",
        "\n",
        "```\n",
        "ORACLE 88기 : 20250418 - 20250425\n",
        "수업 내용 : 파이썬 기초 정리\n",
        "```"
      ],
      "metadata": {
        "id": "qstSxu-Ej3tJ"
      }
    },
    {
      "cell_type": "markdown",
      "source": [
        "##파이썬 버전확인"
      ],
      "metadata": {
        "id": "9k1WJCKEkNaD"
      }
    },
    {
      "cell_type": "code",
      "source": [
        "import sys\n",
        "print(sys.version)\n",
        "# 파이썬 버전 3.11.12 확인"
      ],
      "metadata": {
        "colab": {
          "base_uri": "https://localhost:8080/"
        },
        "id": "e7wHLP96kJA5",
        "outputId": "88e491c0-8584-4682-e80d-750e19307947"
      },
      "execution_count": null,
      "outputs": [
        {
          "output_type": "stream",
          "name": "stdout",
          "text": [
            "3.11.12 (main, Apr  9 2025, 08:55:54) [GCC 11.4.0]\n"
          ]
        }
      ]
    },
    {
      "cell_type": "markdown",
      "source": [
        "##여러가지 print 사용 방법"
      ],
      "metadata": {
        "id": "g-NNHYggxGFy"
      }
    },
    {
      "cell_type": "code",
      "source": [
        "print (\"hello Pyhton!\")\n",
        "print ('hello Python!')\n",
        "#파이썬은 \"\" 와 '' 을 구분하지 않으며 시작과 끝맺음을 동일하게 연결하면 가능"
      ],
      "metadata": {
        "colab": {
          "base_uri": "https://localhost:8080/"
        },
        "id": "Oy9XrQhcwHBc",
        "outputId": "2f9b3f39-100a-42c3-ef6f-6ea055987609"
      },
      "execution_count": null,
      "outputs": [
        {
          "output_type": "stream",
          "name": "stdout",
          "text": [
            "hello Pyhton!\n",
            "hello Python!\n"
          ]
        }
      ]
    },
    {
      "cell_type": "code",
      "source": [
        "print (' I\\'m a boy ')"
      ],
      "metadata": {
        "colab": {
          "base_uri": "https://localhost:8080/"
        },
        "id": "7yU7t3K2wQN8",
        "outputId": "563f6fde-ec43-45d4-bdcd-6698f66419e5"
      },
      "execution_count": null,
      "outputs": [
        {
          "output_type": "stream",
          "name": "stdout",
          "text": [
            " I'm a boy \n"
          ]
        }
      ]
    },
    {
      "cell_type": "markdown",
      "source": [
        "만약 사용해야 할 시 escape 문자열로 사용이 가능하다\n",
        "* 사용예시\n",
        "  * '(사용문자\\\\)' '\n",
        "  * '\\n' : 줄바꿈\n",
        "  * '\\t' : 탭\n",
        "  * 'etc' ..."
      ],
      "metadata": {
        "id": "bXRUH1VX8siI"
      }
    },
    {
      "cell_type": "code",
      "source": [
        "print ('hello','안녕하세요','Bon Jour')\n",
        "\n",
        "#print() 함수는 아규먼트로 전달된 문자열을 화면에 출력\n",
        "#print() 함수에 아규먼트가 여러개 전달되면 , 각각의 값들을 공백으로 연결하여 출력한다.\n",
        "# hello√안녕하세요√Bon Jour"
      ],
      "metadata": {
        "colab": {
          "base_uri": "https://localhost:8080/"
        },
        "id": "JeeG4G7TxQp8",
        "outputId": "3676e9c4-7885-49fd-e369-96372bfa24f1"
      },
      "execution_count": null,
      "outputs": [
        {
          "output_type": "stream",
          "name": "stdout",
          "text": [
            "hello 안녕하세요 Bon Jour\n"
          ]
        }
      ]
    },
    {
      "cell_type": "markdown",
      "source": [
        "`아규먼트(argument)` : 함수에게 전달되는 값\n",
        "\n",
        "`√ `: 공백 (정리약속)"
      ],
      "metadata": {
        "id": "DCjtaopXxlkq"
      }
    },
    {
      "cell_type": "code",
      "source": [
        "print ( 1, 2, 3 )\n",
        "print (1.242,14.242,5.12312)\n",
        "# 문자열 출력 뿐만 아닌 float , int 인 숫자도 출력 가능"
      ],
      "metadata": {
        "colab": {
          "base_uri": "https://localhost:8080/"
        },
        "id": "tef4WbSIyTpO",
        "outputId": "aef1ab52-46fc-47f1-debb-4600f3f5e1e8"
      },
      "execution_count": null,
      "outputs": [
        {
          "output_type": "stream",
          "name": "stdout",
          "text": [
            "1 2 3\n",
            "1.242 14.242 5.12312\n"
          ]
        }
      ]
    },
    {
      "cell_type": "code",
      "source": [
        "print ( 1 + 3 )\n",
        "# 내부를 계산 이후 출력\n",
        "# 1 + 3 -> print"
      ],
      "metadata": {
        "colab": {
          "base_uri": "https://localhost:8080/"
        },
        "id": "WKEKbntlyi1c",
        "outputId": "3b7b3931-5ea6-43e5-db95-2970291374eb"
      },
      "execution_count": null,
      "outputs": [
        {
          "output_type": "stream",
          "name": "stdout",
          "text": [
            "4\n"
          ]
        }
      ]
    },
    {
      "cell_type": "code",
      "source": [
        "print ( 1 , '+' , 3 , '=' , 1+3)"
      ],
      "metadata": {
        "colab": {
          "base_uri": "https://localhost:8080/"
        },
        "id": "rsybmvINysDU",
        "outputId": "e58c5b94-44d0-4457-8bc2-b6938d847e27"
      },
      "execution_count": null,
      "outputs": [
        {
          "output_type": "stream",
          "name": "stdout",
          "text": [
            "1 + 3 = 4\n"
          ]
        }
      ]
    },
    {
      "cell_type": "markdown",
      "source": [
        "`PlaceHolder` : 변수가 들어갈 공간 {}\n",
        "\n",
        "`변수(Variable)` : 값을 저장하는 메모리 공간"
      ],
      "metadata": {
        "id": "6BQp_PdI0iER"
      }
    },
    {
      "cell_type": "code",
      "source": [
        "print ('{} + {} = {}'.format(1, 2 ,1+2))\n",
        "#지정한 순서대로 값이 들어간다.\n",
        "print ('{x} + {y} = {z}'.format(x=1, y=2 ,z=1+2))\n",
        "#지정한 곳에 변수를 넣어서 진행도 가능하며 변수를 고정할시 위치는 상관없어짐"
      ],
      "metadata": {
        "id": "seCuJ_uny4_1",
        "colab": {
          "base_uri": "https://localhost:8080/"
        },
        "outputId": "546c913b-db2c-4e51-c8dc-533dbf21e0fb"
      },
      "execution_count": null,
      "outputs": [
        {
          "output_type": "stream",
          "name": "stdout",
          "text": [
            "1 + 2 = 3\n",
            "1 + 2 = 3\n"
          ]
        }
      ]
    },
    {
      "cell_type": "markdown",
      "source": [
        "3.6부터 제공되는 문법\n",
        "```\n",
        "f'{변수} 문자열 {변수}\n",
        "```"
      ],
      "metadata": {
        "id": "XR-76-Eb6tsC"
      }
    },
    {
      "cell_type": "code",
      "source": [
        "x=10\n",
        "y=20\n",
        "print (type(x),type(y))\n",
        "print (x, y ,x+y)\n",
        "print (f'{x}+{y}={x+y}')\n",
        "x,y=float(x),float(y)\n",
        "print (f'{x}+{y}={x+y}')\n",
        "#type이 정수 또는 실수 일때는 계산 가능"
      ],
      "metadata": {
        "colab": {
          "base_uri": "https://localhost:8080/"
        },
        "id": "pI187Bgp5UDM",
        "outputId": "53b09c1d-f256-4415-d64a-9494dacb315c"
      },
      "execution_count": null,
      "outputs": [
        {
          "output_type": "stream",
          "name": "stdout",
          "text": [
            "<class 'int'> <class 'int'>\n",
            "10 20 30\n",
            "10+20=30\n",
            "10.0+20.0=30.0\n"
          ]
        }
      ]
    },
    {
      "cell_type": "code",
      "source": [
        "x,y=str(x),str(y)\n",
        "print (type(x),type(y))\n",
        "print (x ,y , x+y)\n",
        "print (f'{x}+{y}={x+y}')"
      ],
      "metadata": {
        "colab": {
          "base_uri": "https://localhost:8080/"
        },
        "id": "3W4_OTMl1qHs",
        "outputId": "746216e7-c826-4015-8c9e-2a63d352d656"
      },
      "execution_count": null,
      "outputs": [
        {
          "output_type": "stream",
          "name": "stdout",
          "text": [
            "<class 'str'> <class 'str'>\n",
            "10.0 20.0 10.020.0\n",
            "10.0+20.0=10.020.0\n"
          ]
        }
      ]
    },
    {
      "cell_type": "markdown",
      "source": [
        "print () 함수의 파라미터 (parameter)\n",
        "* sep : Separator : 아규먼트와 아규먼트를 구분하는 구분자 . default = √\n",
        "* end : 아규먼트를 출력 한 후 마지막에 첨부하는 문자열 . default = \\n (줄바꿈)\n",
        "\n",
        "\n"
      ],
      "metadata": {
        "id": "teKJxCIK63Fp"
      }
    },
    {
      "cell_type": "code",
      "source": [
        "print ( 1, 2, 3 )\n",
        "#1, 2, 3 사이 √ 포함\n",
        "print ( 1, 2 , 3 ,sep = '√')\n",
        "# default :공백을 √로 변경"
      ],
      "metadata": {
        "colab": {
          "base_uri": "https://localhost:8080/"
        },
        "id": "e92PwtEE7WHm",
        "outputId": "b2e1a799-eb9f-474a-8d6a-7a1ac9981348"
      },
      "execution_count": null,
      "outputs": [
        {
          "output_type": "stream",
          "name": "stdout",
          "text": [
            "1 2 3\n",
            "1√2√3\n"
          ]
        }
      ]
    },
    {
      "cell_type": "code",
      "source": [
        "print ( 1, 2, 3)\n",
        "print ( 5, 4, 6)\n",
        "# end 줄바꿈이 적용되어 있어서 자동 줄바꿈\n",
        "\n",
        "print ( 1, 2, 3 , end= '√')\n",
        "print ( 4 ,5, 6 )"
      ],
      "metadata": {
        "colab": {
          "base_uri": "https://localhost:8080/"
        },
        "id": "Y4HfkusP7_HE",
        "outputId": "69d0f417-5359-4e33-8a77-84c6d608f518"
      },
      "execution_count": null,
      "outputs": [
        {
          "output_type": "stream",
          "name": "stdout",
          "text": [
            "1 2 3\n",
            "5 4 6\n",
            "1 2 3√4 5 6\n"
          ]
        }
      ]
    },
    {
      "cell_type": "markdown",
      "source": [
        "##파이썬의 자료형"
      ],
      "metadata": {
        "id": "jitnNP3A8fsE"
      }
    },
    {
      "cell_type": "markdown",
      "source": [
        "숫자타입\n",
        "* 정수 : int\n",
        "* 실수 : float\n",
        "* 문자열 : str\n",
        "* 논리 : bool\n",
        "\n",
        "\n",
        "```\n",
        "명시적 타입 변환이 가능하다.\n",
        "```"
      ],
      "metadata": {
        "id": "VBthj-3B-wkn"
      }
    },
    {
      "cell_type": "markdown",
      "source": [
        "####책(정수형상수)\n",
        "\n",
        "\n"
      ],
      "metadata": {
        "id": "G6yGc1X2tdMY"
      }
    },
    {
      "cell_type": "code",
      "source": [
        "intData1=20   # 기존 10진법\n",
        "octData=0o24  # 0o = 8진수\n",
        "hexData=0x24  # 0x = 16진수\n",
        "print (intData1,octData,hexData)"
      ],
      "metadata": {
        "colab": {
          "base_uri": "https://localhost:8080/"
        },
        "id": "zW-k3V81tlon",
        "outputId": "8c14ff30-73b1-4b4a-bbd3-0e9e8a246ab5"
      },
      "execution_count": 37,
      "outputs": [
        {
          "output_type": "stream",
          "name": "stdout",
          "text": [
            "20 20 36\n"
          ]
        }
      ]
    },
    {
      "cell_type": "code",
      "source": [
        "x= int (124214.1241242)\n",
        "# type은 int 로 나타나며 저장시 실수의 소수는 버림처리 되고 정수로 저장된다.\n",
        "print (type(x))\n",
        "print(x)"
      ],
      "metadata": {
        "colab": {
          "base_uri": "https://localhost:8080/"
        },
        "id": "lq7IL20Z_7BY",
        "outputId": "6d2cebec-ed1a-4232-9a12-219aaa9049c3"
      },
      "execution_count": null,
      "outputs": [
        {
          "output_type": "stream",
          "name": "stdout",
          "text": [
            "<class 'int'>\n",
            "124214\n"
          ]
        }
      ]
    },
    {
      "cell_type": "code",
      "source": [
        "x= float(1)\n",
        "# type은 float 으로 나타나며 저장시 정수와 소수까지 같이 할당\n",
        "print (type(x))\n",
        "print(x)"
      ],
      "metadata": {
        "colab": {
          "base_uri": "https://localhost:8080/"
        },
        "id": "aRY76NMWCLkp",
        "outputId": "1fc8a24d-a2c0-4739-8abf-880d91701da6"
      },
      "execution_count": null,
      "outputs": [
        {
          "output_type": "stream",
          "name": "stdout",
          "text": [
            "<class 'float'>\n",
            "1.0\n"
          ]
        }
      ]
    },
    {
      "cell_type": "code",
      "source": [
        "x= str(1)\n",
        "# type은 str 으로 나타나며 저장시 숫자의 역할이 사라지며 문자로 할당\n",
        "print (type(x))\n",
        "print(x)"
      ],
      "metadata": {
        "colab": {
          "base_uri": "https://localhost:8080/"
        },
        "id": "tiQiVHSCCVIr",
        "outputId": "65a6a5b4-0d06-4a73-b7fc-b86fc61f8240"
      },
      "execution_count": null,
      "outputs": [
        {
          "output_type": "stream",
          "name": "stdout",
          "text": [
            "<class 'str'>\n",
            "1\n"
          ]
        }
      ]
    },
    {
      "cell_type": "code",
      "source": [
        "x= bool(1)\n",
        "y= bool(0)\n",
        "print (type(x))\n",
        "print (type(y))\n",
        "print(x,y)\n",
        "x= bool(str(0))\n",
        "y= bool(str())\n",
        "print (type(x))\n",
        "print (type(y))\n",
        "print(x,y)"
      ],
      "metadata": {
        "colab": {
          "base_uri": "https://localhost:8080/"
        },
        "id": "fZjGBo97Cb_x",
        "outputId": "76c63536-9496-42c1-f168-ea996a0e41f1"
      },
      "execution_count": null,
      "outputs": [
        {
          "output_type": "stream",
          "name": "stdout",
          "text": [
            "<class 'bool'>\n",
            "<class 'bool'>\n",
            "True False\n",
            "<class 'bool'>\n",
            "<class 'bool'>\n",
            "True False\n"
          ]
        }
      ]
    },
    {
      "cell_type": "markdown",
      "source": [
        "논리 저장시\n",
        "* int , float\n",
        "  * True : 0이 아닌 숫자\n",
        "  * False =0\n",
        "* str\n",
        "  * True : 빈칸이 아닌 문자\n",
        "  * False : 빈칸"
      ],
      "metadata": {
        "id": "8OPZpVFnCoBS"
      }
    },
    {
      "cell_type": "code",
      "source": [
        "z=(x>y)\n",
        "print(x,y,z)\n",
        "#true >false"
      ],
      "metadata": {
        "colab": {
          "base_uri": "https://localhost:8080/"
        },
        "id": "F_V7m27XDdgv",
        "outputId": "5114b036-62e7-4fd1-ae3a-11eb3e17ebe0"
      },
      "execution_count": null,
      "outputs": [
        {
          "output_type": "stream",
          "name": "stdout",
          "text": [
            "True False True\n"
          ]
        }
      ]
    },
    {
      "cell_type": "markdown",
      "source": [
        "###연산자\n",
        "* 할당연산자 (assignment operator)"
      ],
      "metadata": {
        "id": "Vbz3pzNpE4-U"
      }
    },
    {
      "cell_type": "markdown",
      "source": [
        "* = : 오른쪽의 값을 왼쪽의 변수에 할당(저장)"
      ],
      "metadata": {
        "id": "umICcDKdGBhH"
      }
    },
    {
      "cell_type": "markdown",
      "source": [
        "산술연산자 (arithmetic operator)\n",
        "* 종류 : + , - , * , / , ** , // , %\n",
        "  * ** : 거듭제곱\n",
        "  * // : 나눈 몫\n",
        "  * % : 나눈 나머지\n",
        "\n"
      ],
      "metadata": {
        "id": "kTfy_tWdGOZn"
      }
    },
    {
      "cell_type": "code",
      "source": [
        "x=10\n",
        "y=3\n",
        "print(f\"{x}+{y}={x+y}\")\n",
        "print(f\"{x}-{y}={x-y}\")\n",
        "print(f\"{x}*{y}={x*y}\")\n",
        "print(f\"{x}/{y}={x/y}\")\n",
        "print(f\"{x}**{y}={x**y}\")\n",
        "print(f\"{x}//{y}={x//y}\")\n",
        "print(f\"{x}%{y}={x%y}\")"
      ],
      "metadata": {
        "colab": {
          "base_uri": "https://localhost:8080/"
        },
        "id": "lqa96tokKSCq",
        "outputId": "ab11d97b-a911-4f78-a598-2330a06a7fd8"
      },
      "execution_count": null,
      "outputs": [
        {
          "output_type": "stream",
          "name": "stdout",
          "text": [
            "10+3=13\n",
            "10-3=7\n",
            "10*3=30\n",
            "10/3=3.3333333333333335\n",
            "10**3=1000\n",
            "10//3=3\n",
            "10%3=1\n"
          ]
        }
      ]
    },
    {
      "cell_type": "markdown",
      "source": [
        "문자열(str)에서 사용할 수 있는 산술 연산자\n",
        "```\n",
        "+ : concatenate : 문자열 이어붙이기\n",
        "* : replicate : 문자열 복제\n",
        "```"
      ],
      "metadata": {
        "id": "cp4GsxpjKygf"
      }
    },
    {
      "cell_type": "markdown",
      "source": [
        "비교 연산자 , 논리 연산자\n",
        "* 비교 연산자 : ==, != , > , >= , < , <=\n",
        "* 논리 연산자 : and , or , not"
      ],
      "metadata": {
        "id": "wyFjnyGILK_T"
      }
    },
    {
      "cell_type": "code",
      "source": [
        "x , y = 100 , 200\n",
        "\n",
        "print (x == y ) #equl to\n",
        "print (x != y ) # not equal to\n",
        "print (x>=y)\n",
        "print (x>y) # greater than\n",
        "print (x<=y)\n",
        "print (x<y) # less than"
      ],
      "metadata": {
        "colab": {
          "base_uri": "https://localhost:8080/"
        },
        "id": "YlYh5JwXLVAk",
        "outputId": "ec3e69ed-53bf-46d4-b1b9-9bbf79bcbf2f"
      },
      "execution_count": null,
      "outputs": [
        {
          "output_type": "stream",
          "name": "stdout",
          "text": [
            "False\n",
            "True\n",
            "False\n",
            "False\n",
            "True\n",
            "True\n"
          ]
        }
      ]
    },
    {
      "cell_type": "code",
      "source": [
        "print ((x>50) and (x<150))\n",
        "print ((x>100) and (x < 200))\n",
        "print ((x>100) or (x<200))"
      ],
      "metadata": {
        "colab": {
          "base_uri": "https://localhost:8080/"
        },
        "id": "6RM4ujEzVLSk",
        "outputId": "c3d67ab5-6dee-4795-a9d6-c5ed57acb132"
      },
      "execution_count": null,
      "outputs": [
        {
          "output_type": "stream",
          "name": "stdout",
          "text": [
            "True\n",
            "False\n",
            "True\n"
          ]
        }
      ]
    },
    {
      "cell_type": "markdown",
      "source": [
        "복합 할당 연산자\n",
        "* 종류 : +=,-=,*=, /=,**= , //= ,%= , ...\n",
        "* 산술 연산자와 할당 연산자를 합쳐서 만들어진 연산자"
      ],
      "metadata": {
        "id": "nAuSaS8FWVoS"
      }
    },
    {
      "cell_type": "code",
      "source": [
        "x=10\n",
        "print(x)\n",
        "x+=1   # x에 +1\n",
        "print(x)\n",
        "x-=1   # x에 -1\n",
        "print(x)\n",
        "x*=2  #  x에 * 2\n",
        "print(x)\n",
        "x/=2  #  x에 / 2\n",
        "print(x)\n",
        "x**=2 #  x에 2 제곱\n",
        "print(x)\n",
        "x//=2 #  x에 2로 나눈 몫\n",
        "print(x)\n",
        "x%=3  #  x에 3으로 나누고 나머지 값\n",
        "print(x)\n"
      ],
      "metadata": {
        "colab": {
          "base_uri": "https://localhost:8080/"
        },
        "id": "uxFwg6bzXWfA",
        "outputId": "395d0da3-bace-4a0e-bb9f-836a22bf6a19"
      },
      "execution_count": null,
      "outputs": [
        {
          "output_type": "stream",
          "name": "stdout",
          "text": [
            "10\n",
            "11\n",
            "10\n",
            "20\n",
            "10.0\n",
            "100.0\n",
            "50.0\n",
            "2.0\n"
          ]
        }
      ]
    },
    {
      "cell_type": "markdown",
      "source": [
        "###콘솔 입력\n",
        "\n"
      ],
      "metadata": {
        "id": "y_wiT3SSaQvr"
      }
    },
    {
      "cell_type": "code",
      "source": [
        "name = input(\"이름을 입력해주세요 : \")\n",
        "print(type(name))\n",
        "print(f\"{name}님 안녕하세요 즐거운 하루 되세요. \")\n"
      ],
      "metadata": {
        "id": "9AhyqSM7aPIe",
        "colab": {
          "base_uri": "https://localhost:8080/"
        },
        "outputId": "fcc3695d-dfc6-4afa-f8ef-f4a9ad0c849a"
      },
      "execution_count": null,
      "outputs": [
        {
          "output_type": "stream",
          "name": "stdout",
          "text": [
            "이름을 입력해주세요 : 이승엽\n",
            "<class 'str'>\n",
            "이승엽님 안녕하세요 즐거운 하루 되세요. \n"
          ]
        }
      ]
    },
    {
      "cell_type": "markdown",
      "source": [
        "######연습문제 :\n",
        "* 섭씨 온도를 입력 받아 , 화씨 온도로 변환 후 출력하는 코드를 작성하시오.\n",
        "* 화씨 = 섭씨 * 1.8 + 32\n",
        "* 섭씨 = celcius\n",
        "* 화씨 = fahrenheit\n"
      ],
      "metadata": {
        "id": "ff0jNuJ2hefa"
      }
    },
    {
      "cell_type": "code",
      "source": [
        "celcius = float(input(\"현재 온도(섭씨) 를 입력해주세요 : \"))\n",
        "fahrenheit = celcius * 1.8 +32\n",
        "print (f'입력해주신 현재 온도 {celcius} ℃ 를 화씨 온도로 변환하면 {fahrenheit} ℉ 가 됩니다. ' )"
      ],
      "metadata": {
        "id": "RZvbCepth08K"
      },
      "execution_count": null,
      "outputs": []
    },
    {
      "cell_type": "markdown",
      "source": [],
      "metadata": {
        "id": "tqOuPOvVyzG_"
      }
    }
  ]
}