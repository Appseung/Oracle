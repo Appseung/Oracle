{
  "nbformat": 4,
  "nbformat_minor": 0,
  "metadata": {
    "colab": {
      "provenance": [],
      "toc_visible": true,
      "authorship_tag": "ABX9TyMvK16ycik0EB/Er6PGfUM3",
      "include_colab_link": true
    },
    "kernelspec": {
      "name": "python3",
      "display_name": "Python 3"
    },
    "language_info": {
      "name": "python"
    }
  },
  "cells": [
    {
      "cell_type": "markdown",
      "metadata": {
        "id": "view-in-github",
        "colab_type": "text"
      },
      "source": [
        "<a href=\"https://colab.research.google.com/github/Appseung/Oracle/blob/main/Python_03.ipynb\" target=\"_parent\"><img src=\"https://colab.research.google.com/assets/colab-badge.svg\" alt=\"Open In Colab\"/></a>"
      ]
    },
    {
      "cell_type": "markdown",
      "source": [
        "#조건문"
      ],
      "metadata": {
        "id": "vC6H-sZB6DNb"
      }
    },
    {
      "cell_type": "markdown",
      "source": [
        "##else 없는 조건문"
      ],
      "metadata": {
        "id": "XqMUS50h6HQp"
      }
    },
    {
      "cell_type": "markdown",
      "source": [
        "```\n",
        "if 조건식 :\n",
        "  조건식을 만족할 때 실행할 코드 블록(문장들)\n",
        "```\n",
        "* `if 조건식` 뒤에는 반드시 콜론(:) 을 써야 함. 블록 시작을 의미.\n",
        "* if 블록은 반드시 들여쓰기(indentation)를 해야 됨.\n",
        "* 들여쓰기의 크기는 일정해야 함."
      ],
      "metadata": {
        "id": "OpztUQtB6kNF"
      }
    },
    {
      "cell_type": "code",
      "source": [
        "age=int(input('당신의 나이는 몇살입니까 ? \\n answer : '))\n",
        "if age >= 0:\n",
        "    print(f'당신은 {age} 살이군요. ')\n",
        "print(f'=== end ===')\n"
      ],
      "metadata": {
        "id": "uvd3SBip_ZU8",
        "colab": {
          "base_uri": "https://localhost:8080/"
        },
        "outputId": "4610b63b-7d72-4bd8-d24c-d6d6caea5c0a"
      },
      "execution_count": 7,
      "outputs": [
        {
          "output_type": "stream",
          "name": "stdout",
          "text": [
            "당신의 나이는 몇살입니까 ? \n",
            " answer : 15\n",
            "당신은 15 살이군요. \n",
            "=== end ===\n"
          ]
        }
      ]
    },
    {
      "cell_type": "markdown",
      "source": [
        "##else 있는 조건문"
      ],
      "metadata": {
        "id": "lrmOv8eYCvsS"
      }
    },
    {
      "cell_type": "markdown",
      "source": [
        "```\n",
        "if 조건식 :\n",
        "    조건식을 만족할 때 실행할 코드 블록(문장 1)\n",
        "else :\n",
        "    조건식을 만족하지 못할 때 실행할 코드 블록(문장 2)\n",
        "```\n",
        "\n",
        "* 조건식을 만족하면 (문장 1) 블록을 실행. 조건을 만족하지 못하면 (문장 2) 블록을 실행.\n",
        "* `if 조건식` 과 `else` 다음에는 반드시 콜론(:)을 써야 함.\n",
        "*  if 블록 (문장 1) 과 else 블록 (문장 2)은  반드시 들여쓰기를 해야 함.\n",
        "*  들여쓰기의 크기는 일정해야 함."
      ],
      "metadata": {
        "id": "NYTxWgXNCx35"
      }
    },
    {
      "cell_type": "code",
      "source": [
        "age=int(input('당신의 나이는 몇살입니까 ? \\n answer : '))\n",
        "if age >= 0:\n",
        "    print(f\"당신은 {age} 살이군요.\")\n",
        "else :\n",
        "    print(\"정상적인 나이를 입력하지 않았습니다.\")"
      ],
      "metadata": {
        "id": "PFfvWSeCDTCn",
        "colab": {
          "base_uri": "https://localhost:8080/"
        },
        "outputId": "01e4e741-a165-4d08-c3e9-6043f39fa16d"
      },
      "execution_count": 19,
      "outputs": [
        {
          "output_type": "stream",
          "name": "stdout",
          "text": [
            "당신의 나이는 몇살입니까 ? \n",
            " answer : -5\n",
            "정상적인 나이를 입력하지 않았습니다.\n"
          ]
        }
      ]
    },
    {
      "cell_type": "code",
      "source": [
        "# 정수를 입력 받아서 변수에 저장\n",
        "# 입력 받은 정수가 짝수이면 '짝수'라고 출력\n",
        "# 그렇지 않으면 '홀수' 라고 출력\n",
        "\n",
        "intiger=int(input(\"양수를 입력해주세요 \\n : \"))\n",
        "if intiger%2==0:\n",
        "    print(\"이건 짝수네용\")\n",
        "else :\n",
        "    print(\"홀수네용\")\n",
        ""
      ],
      "metadata": {
        "id": "rBW8I0SWGlp-",
        "colab": {
          "base_uri": "https://localhost:8080/"
        },
        "outputId": "bc94baaf-c852-487c-cb56-0083d7616834"
      },
      "execution_count": 30,
      "outputs": [
        {
          "output_type": "stream",
          "name": "stdout",
          "text": [
            "양수를 입력해주세요 \n",
            " : 14\n",
            "이건 짝수네용\n"
          ]
        }
      ]
    },
    {
      "cell_type": "markdown",
      "source": [
        "Falsy Value: 파이썬에서 거짓(False)로 취급 하는 값.\n",
        "* 숫자 0\n",
        "* 빈 문자열( '', \"\" )\n",
        "* 빈 리스트([])\n",
        "* None (변수에 값을 할당하지 않을 때 사용하는 파이썬 예약어)\n",
        "\n",
        "    name= None\n",
        "\n"
      ],
      "metadata": {
        "id": "SH6CmVR-NIJ1"
      }
    },
    {
      "cell_type": "code",
      "source": [
        "intiger=int(input(\"양수를 입력해주세요 \\n : \"))\n",
        "if intiger%2:\n",
        "    #변수 intiger를 2로 나눈 나머지가 있으면\n",
        "    print(\"이건 홀수네용\")\n",
        "else :\n",
        "    #변수 intiger를 2로 나눈 나머지가 없으면\n",
        "    print(\"짝수네용\")"
      ],
      "metadata": {
        "id": "iMRZD_dQOLH5",
        "colab": {
          "base_uri": "https://localhost:8080/"
        },
        "outputId": "a66d727b-60ca-498b-ec30-200879995ff3"
      },
      "execution_count": 34,
      "outputs": [
        {
          "output_type": "stream",
          "name": "stdout",
          "text": [
            "양수를 입력해주세요 \n",
            " : 14\n",
            "짝수네용\n"
          ]
        }
      ]
    },
    {
      "cell_type": "markdown",
      "source": [
        "## 복합 조건문\n"
      ],
      "metadata": {
        "id": "meNCraJPPgpp"
      }
    },
    {
      "cell_type": "markdown",
      "source": [
        "```\n",
        "if 조건식1:\n",
        "    (조건식1)이 True인 경우 실행할 블록\n",
        "elif 조건식2:\n",
        "    (조건식2)이 True인 경우 실행할 블록\n",
        "...\n",
        "else:\n",
        "    (위의 조건식이 False일 때 실행할 블록\n",
        "```\n",
        "\n",
        "* 모든 블록들은 같은 크기로 들여쓰기를 해야 함.\n",
        "* `elif 조건식`블록은 1개 이상이 있을 수 있음.\n",
        "* else 블록은 생략할 수 있음."
      ],
      "metadata": {
        "id": "uNcbPi5PPmQ9"
      }
    },
    {
      "cell_type": "code",
      "source": [
        "number= float(input(\"숫자 입력 >>> \"))\n",
        "if number>0:\n",
        "    print(\"양수\")\n",
        "elif number <0:\n",
        "    print(\"음수\")\n",
        "else:\n",
        "    pass\n",
        "    print(\"0\")\n",
        ""
      ],
      "metadata": {
        "id": "0L2usLu5Q5qO",
        "colab": {
          "base_uri": "https://localhost:8080/"
        },
        "outputId": "75de5fee-1516-40a3-aef9-914746bea6bd"
      },
      "execution_count": 36,
      "outputs": [
        {
          "name": "stdout",
          "output_type": "stream",
          "text": [
            "숫자 입력 >>> 15\n"
          ]
        }
      ]
    },
    {
      "cell_type": "markdown",
      "source": [
        "##중첩 조건문\n"
      ],
      "metadata": {
        "id": "ms-SMieLSeZN"
      }
    },
    {
      "cell_type": "markdown",
      "source": [
        "* if 블록\n",
        "* elif 블룩,else 블록 안에서 또다른 조건문 (if 문), if-else 문 ,if elif-else 문를 사용하는 것\n",
        "* 들여쓰기를 특히 주의!\n",
        "* 들여쓰기 방식에 따라서 전혀 다른 로직의 실행문이 될 수 있음.\n",
        "* 논리 연산자(and ,or)를 사용하는 문장 또는 elif 블록을 중첩 조건문으로 바꿀 수 있음.\n"
      ],
      "metadata": {
        "id": "eNx_P1deShjE"
      }
    },
    {
      "cell_type": "code",
      "source": [
        "number= float(input(\"숫자 입력 >>> \"))\n",
        "if number>0:\n",
        "    print(\"양수\")\n",
        "else:\n",
        "    if number <0:\n",
        "        print(\"음수\")\n",
        "    else :\n",
        "        print(\"0\")"
      ],
      "metadata": {
        "id": "2NMwWp0qTVjU",
        "colab": {
          "base_uri": "https://localhost:8080/"
        },
        "outputId": "2ab53fd3-44a7-4dce-dbfd-a10c7440a579"
      },
      "execution_count": 43,
      "outputs": [
        {
          "output_type": "stream",
          "name": "stdout",
          "text": [
            "숫자 입력 >>> -5\n",
            "음수\n"
          ]
        }
      ]
    },
    {
      "cell_type": "markdown",
      "source": [
        "연습문제:\n",
        "\n",
        "1. 정수를 3개 입력받고 각각 변수에 저장\n",
        "2. 3개 정수의 총점과 평균을 계산하고 출력\n",
        "3. 평균이 90 이상일 경우 'A' , 80이상이면 'B' , 70이상이면 'C' , 60이상이면 'D' , 60미만이면 'F'"
      ],
      "metadata": {
        "id": "D836yy7uUNnx"
      }
    },
    {
      "cell_type": "code",
      "source": [
        "from os import name\n",
        "name_1=float(input(\"3개의 점수를 각각 입력후 엔터를 눌러주세요 \\n 첫번째 값 : \"))\n",
        "name_2=float(input(\"두번째 값 : \"))\n",
        "name_3=float(input(\"세번째 값 : \"))\n",
        "\n",
        "sum=name_1+name_2+name_3\n",
        "average=sum/3\n",
        "\n",
        "print(f\"입력하신 값의 계산 값입니다. \\n 총점 : {sum} \\n 평균 : {average} \\n 등급 \",end=': ')\n",
        "if average>=90:\n",
        "    print(\"A\")\n",
        "elif average>=80:\n",
        "    print(\"B\")\n",
        "elif average>=70:\n",
        "    print(\"C\")\n",
        "elif average>=60:\n",
        "    print(\"D\")\n",
        "else:\n",
        "    print(\"F\")\n",
        "\n"
      ],
      "metadata": {
        "colab": {
          "base_uri": "https://localhost:8080/"
        },
        "id": "MafZn9kNU-Ih",
        "outputId": "165ca090-b59c-49cc-9a9e-24ecce427b81"
      },
      "execution_count": 49,
      "outputs": [
        {
          "output_type": "stream",
          "name": "stdout",
          "text": [
            "3개의 정수를 각각 입력후 엔터를 눌러주세요 \n",
            " 첫번째 값 : 70\n",
            "두번째 값 : 50\n",
            "세번째 값 : 20\n",
            "입력하신 값의 계산 값입니다. \n",
            " 총점 : 140.0 \n",
            " 평균 : 46.666666666666664 \n",
            " 등급 : F\n"
          ]
        }
      ]
    }
  ]
}