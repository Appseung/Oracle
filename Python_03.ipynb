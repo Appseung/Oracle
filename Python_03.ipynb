{
  "nbformat": 4,
  "nbformat_minor": 0,
  "metadata": {
    "colab": {
      "provenance": [],
      "toc_visible": true,
      "authorship_tag": "ABX9TyNAeGDG59y0NbJjUYSzyiH/",
      "include_colab_link": true
    },
    "kernelspec": {
      "name": "python3",
      "display_name": "Python 3"
    },
    "language_info": {
      "name": "python"
    }
  },
  "cells": [
    {
      "cell_type": "markdown",
      "metadata": {
        "id": "view-in-github",
        "colab_type": "text"
      },
      "source": [
        "<a href=\"https://colab.research.google.com/github/Appseung/Oracle/blob/main/Python_03.ipynb\" target=\"_parent\"><img src=\"https://colab.research.google.com/assets/colab-badge.svg\" alt=\"Open In Colab\"/></a>"
      ]
    },
    {
      "cell_type": "markdown",
      "source": [
        "#조건문"
      ],
      "metadata": {
        "id": "vC6H-sZB6DNb"
      }
    },
    {
      "cell_type": "markdown",
      "source": [
        "##else 없는 조건문"
      ],
      "metadata": {
        "id": "XqMUS50h6HQp"
      }
    },
    {
      "cell_type": "markdown",
      "source": [
        "```\n",
        "if 조건식 :\n",
        "  조건식을 만족할 때 실행할 코드 블록(문장들)\n",
        "```\n",
        "* `if 조건식` 뒤에는 반드시 콜론(:) 을 써야 함. 블록 시작을 의미.\n",
        "* if 블록은 반드시 들여쓰기(indentation)를 해야 됨.\n",
        "* 들여쓰기의 크기는 일정해야 함."
      ],
      "metadata": {
        "id": "OpztUQtB6kNF"
      }
    },
    {
      "cell_type": "code",
      "source": [
        "age=int(input('당신의 나이는 몇살입니까 ? \\n answer : '))\n",
        "if age >= 0:\n",
        "    print(f'당신은 {age} 살이군요. ')\n",
        "print(f'=== end ===')\n"
      ],
      "metadata": {
        "id": "uvd3SBip_ZU8",
        "colab": {
          "base_uri": "https://localhost:8080/"
        },
        "outputId": "4610b63b-7d72-4bd8-d24c-d6d6caea5c0a"
      },
      "execution_count": 7,
      "outputs": [
        {
          "output_type": "stream",
          "name": "stdout",
          "text": [
            "당신의 나이는 몇살입니까 ? \n",
            " answer : 15\n",
            "당신은 15 살이군요. \n",
            "=== end ===\n"
          ]
        }
      ]
    },
    {
      "cell_type": "markdown",
      "source": [
        "##else 있는 조건문"
      ],
      "metadata": {
        "id": "lrmOv8eYCvsS"
      }
    },
    {
      "cell_type": "markdown",
      "source": [
        "```\n",
        "if 조건식 :\n",
        "    조건식을 만족할 때 실행할 코드 블록(문장 1)\n",
        "else :\n",
        "    조건식을 만족하지 못할 때 실행할 코드 블록(문장 2)\n",
        "```\n",
        "\n",
        "* 조건식을 만족하면 (문장 1) 블록을 실행. 조건을 만족하지 못하면 (문장 2) 블록을 실행.\n",
        "* `if 조건식` 과 `else` 다음에는 반드시 콜론(:)을 써야 함.\n",
        "*  if 블록 (문장 1) 과 else 블록 (문장 2)은  반드시 들여쓰기를 해야 함.\n",
        "*  들여쓰기의 크기는 일정해야 함."
      ],
      "metadata": {
        "id": "NYTxWgXNCx35"
      }
    },
    {
      "cell_type": "code",
      "source": [
        "age=int(input('당신의 나이는 몇살입니까 ? \\n answer : '))\n",
        "if age >= 0:\n",
        "    print(f\"당신은 {age} 살이군요.\")\n",
        "else :\n",
        "    print(\"정상적인 나이를 입력하지 않았습니다.\")"
      ],
      "metadata": {
        "id": "PFfvWSeCDTCn",
        "colab": {
          "base_uri": "https://localhost:8080/"
        },
        "outputId": "01e4e741-a165-4d08-c3e9-6043f39fa16d"
      },
      "execution_count": 19,
      "outputs": [
        {
          "output_type": "stream",
          "name": "stdout",
          "text": [
            "당신의 나이는 몇살입니까 ? \n",
            " answer : -5\n",
            "정상적인 나이를 입력하지 않았습니다.\n"
          ]
        }
      ]
    },
    {
      "cell_type": "code",
      "source": [
        "# 정수를 입력 받아서 변수에 저장\n",
        "# 입력 받은 정수가 짝수이면 '짝수'라고 출력\n",
        "# 그렇지 않으면 '홀수' 라고 출력\n",
        "\n",
        "intiger=int(input(\"양수를 입력해주세요 \\n : \"))\n",
        "if intiger%2==0:\n",
        "    print(\"이건 짝수네용\")\n",
        "else :\n",
        "    print(\"홀수네용\")\n",
        ""
      ],
      "metadata": {
        "id": "rBW8I0SWGlp-",
        "colab": {
          "base_uri": "https://localhost:8080/"
        },
        "outputId": "bc94baaf-c852-487c-cb56-0083d7616834"
      },
      "execution_count": 30,
      "outputs": [
        {
          "output_type": "stream",
          "name": "stdout",
          "text": [
            "양수를 입력해주세요 \n",
            " : 14\n",
            "이건 짝수네용\n"
          ]
        }
      ]
    },
    {
      "cell_type": "markdown",
      "source": [
        "Falsy Value: 파이썬에서 거짓(False)로 취급 하는 값.\n",
        "* 숫자 0\n",
        "* 빈 문자열( '', \"\" )\n",
        "* 빈 리스트([])\n",
        "* None (변수에 값을 할당하지 않을 때 사용하는 파이썬 예약어)\n",
        "\n",
        "    name= None\n",
        "\n"
      ],
      "metadata": {
        "id": "SH6CmVR-NIJ1"
      }
    },
    {
      "cell_type": "code",
      "source": [
        "intiger=int(input(\"양수를 입력해주세요 \\n : \"))\n",
        "if intiger%2:\n",
        "    #변수 intiger를 2로 나눈 나머지가 있으면\n",
        "    print(\"이건 홀수네용\")\n",
        "else :\n",
        "    #변수 intiger를 2로 나눈 나머지가 없으면\n",
        "    print(\"짝수네용\")"
      ],
      "metadata": {
        "id": "iMRZD_dQOLH5",
        "colab": {
          "base_uri": "https://localhost:8080/"
        },
        "outputId": "a66d727b-60ca-498b-ec30-200879995ff3"
      },
      "execution_count": 34,
      "outputs": [
        {
          "output_type": "stream",
          "name": "stdout",
          "text": [
            "양수를 입력해주세요 \n",
            " : 14\n",
            "짝수네용\n"
          ]
        }
      ]
    },
    {
      "cell_type": "markdown",
      "source": [
        "## 복합 조건문\n"
      ],
      "metadata": {
        "id": "meNCraJPPgpp"
      }
    },
    {
      "cell_type": "markdown",
      "source": [
        "```\n",
        "if 조건식1:\n",
        "    (조건식1)이 True인 경우 실행할 블록\n",
        "elif 조건식2:\n",
        "    (조건식2)이 True인 경우 실행할 블록\n",
        "...\n",
        "else:\n",
        "    (위의 조건식이 False일 때 실행할 블록\n",
        "```\n",
        "\n",
        "* 모든 블록들은 같은 크기로 들여쓰기를 해야 함.\n",
        "* `elif 조건식`블록은 1개 이상이 있을 수 있음.\n",
        "* else 블록은 생략할 수 있음."
      ],
      "metadata": {
        "id": "uNcbPi5PPmQ9"
      }
    },
    {
      "cell_type": "code",
      "source": [
        "number= float(input(\"숫자 입력 >>> \"))\n",
        "if number>0:\n",
        "    print(\"양수\")\n",
        "elif number <0:\n",
        "    print(\"음수\")\n",
        "else:\n",
        "    pass\n",
        "    print(\"0\")\n",
        ""
      ],
      "metadata": {
        "id": "0L2usLu5Q5qO",
        "colab": {
          "base_uri": "https://localhost:8080/"
        },
        "outputId": "75de5fee-1516-40a3-aef9-914746bea6bd"
      },
      "execution_count": 36,
      "outputs": [
        {
          "name": "stdout",
          "output_type": "stream",
          "text": [
            "숫자 입력 >>> 15\n"
          ]
        }
      ]
    },
    {
      "cell_type": "markdown",
      "source": [
        "##중첩 조건문\n"
      ],
      "metadata": {
        "id": "ms-SMieLSeZN"
      }
    },
    {
      "cell_type": "markdown",
      "source": [
        "* if 블록\n",
        "* elif 블룩,else 블록 안에서 또다른 조건문 (if 문), if-else 문 ,if elif-else 문를 사용하는 것\n",
        "* 들여쓰기를 특히 주의!\n",
        "* 들여쓰기 방식에 따라서 전혀 다른 로직의 실행문이 될 수 있음.\n",
        "* 논리 연산자(and ,or)를 사용하는 문장 또는 elif 블록을 중첩 조건문으로 바꿀 수 있음.\n"
      ],
      "metadata": {
        "id": "eNx_P1deShjE"
      }
    },
    {
      "cell_type": "code",
      "source": [
        "number= float(input(\"숫자 입력 >>> \"))\n",
        "if number>0:\n",
        "    print(\"양수\")\n",
        "else:\n",
        "    if number <0:\n",
        "        print(\"음수\")\n",
        "    else :\n",
        "        print(\"0\")"
      ],
      "metadata": {
        "id": "2NMwWp0qTVjU",
        "colab": {
          "base_uri": "https://localhost:8080/"
        },
        "outputId": "2ab53fd3-44a7-4dce-dbfd-a10c7440a579"
      },
      "execution_count": 43,
      "outputs": [
        {
          "output_type": "stream",
          "name": "stdout",
          "text": [
            "숫자 입력 >>> -5\n",
            "음수\n"
          ]
        }
      ]
    },
    {
      "cell_type": "markdown",
      "source": [
        "연습문제:\n",
        "\n",
        "1. 정수를 3개 입력받고 각각 변수에 저장\n",
        "2. 3개 정수의 총점과 평균을 계산하고 출력\n",
        "3. 평균이 90 이상일 경우 'A' , 80이상이면 'B' , 70이상이면 'C' , 60이상이면 'D' , 60미만이면 'F'"
      ],
      "metadata": {
        "id": "D836yy7uUNnx"
      }
    },
    {
      "cell_type": "code",
      "source": [
        "from os import name\n",
        "name_1=float(input(\"3개의 점수를 각각 입력후 엔터를 눌러주세요 \\n첫번째 값 : \"))\n",
        "name_2=float(input(\"두번째 값 : \"))\n",
        "name_3=float(input(\"세번째 값 : \"))\n",
        "\n",
        "sum=name_1+name_2+name_3\n",
        "average=sum/3\n",
        "\n",
        "print(f\"입력하신 값의 계산 값입니다. \\n 총점 : {sum} \\n 평균 : {average} \\n 등급 \",end=': ')\n",
        "if average>=90:\n",
        "    print(\"A\")\n",
        "elif average>=80:\n",
        "    print(\"B\")\n",
        "elif average>=70:\n",
        "    print(\"C\")\n",
        "elif average>=60:\n",
        "    print(\"D\")\n",
        "else:\n",
        "    print(\"F\")"
      ],
      "metadata": {
        "colab": {
          "base_uri": "https://localhost:8080/"
        },
        "id": "MafZn9kNU-Ih",
        "outputId": "dd1b9560-e2c3-4d0a-eb17-8ca729d7bfa5"
      },
      "execution_count": 53,
      "outputs": [
        {
          "output_type": "stream",
          "name": "stdout",
          "text": [
            "3개의 점수를 각각 입력후 엔터를 눌러주세요 \n",
            "첫번째 값 : 6\n",
            "두번째 값 : 4\n",
            "세번째 값 : 2\n",
            "입력하신 값의 계산 값입니다. \n",
            " 총점 : 12.0 \n",
            " 평균 : 4.0 \n",
            " 등급 : F\n"
          ]
        }
      ]
    },
    {
      "cell_type": "markdown",
      "source": [
        "정답"
      ],
      "metadata": {
        "id": "9rQh3fyYorUz"
      }
    },
    {
      "cell_type": "code",
      "source": [
        "score1 = int(input(\"점수1: \"))\n",
        "score2 = int(input(\"점수2: \"))\n",
        "score3 = int(input(\"점수3: \"))\n",
        "\n",
        "\n",
        "total = score1 + score2 + score3\n",
        "print(f\"총점: {total}\")\n",
        "mean = total / 3\n",
        "print(f\"평균: {mean}\")\n",
        "if mean >=90:\n",
        "    print(\"A\")\n",
        "elif mean >=80:\n",
        "    print(\"B\")\n",
        "elif mean >=70:\n",
        "    print(\"C\")\n",
        "elif mean >=60:\n",
        "    print(\"D\")\n",
        "else :\n",
        "    print(\"F\")"
      ],
      "metadata": {
        "id": "Im9gw9zmoeVN",
        "colab": {
          "base_uri": "https://localhost:8080/"
        },
        "outputId": "445263f2-bd2f-4d6c-e5ee-74d5bf1417ff"
      },
      "execution_count": 55,
      "outputs": [
        {
          "output_type": "stream",
          "name": "stdout",
          "text": [
            "점수1: 71\n",
            "점수2: 80\n",
            "점수3: 88\n",
            "총점: 239\n",
            "평균: 79.66666666666667\n",
            "C\n"
          ]
        }
      ]
    },
    {
      "cell_type": "markdown",
      "source": [
        "#match 문"
      ],
      "metadata": {
        "id": "vPtGbPHdrIly"
      }
    },
    {
      "cell_type": "markdown",
      "source": [
        "```\n",
        "match 변수(식):\n",
        "    case 값1:\n",
        "        변수(식)의 결과가 값1인 경우 실행할 코드 블록\n",
        "    case 값2:\n",
        "        변수(식)의 결과가 값2인 경우 실행할 코드 블록\n",
        "    ...\n",
        "    \n",
        "```"
      ],
      "metadata": {
        "id": "F4xqjBdprKK6"
      }
    },
    {
      "cell_type": "code",
      "source": [
        "day=int(input('0~6 사이의 정수를 입력>>> '))\n",
        "match day:\n",
        "    case 0:\n",
        "        print('일요일')\n",
        "    case 1:\n",
        "        print('월요일')\n",
        "    case 2:\n",
        "        print('화요일')\n",
        "    case 3:\n",
        "        print('수요일')\n",
        "    case 4:\n",
        "        print('목요일')\n",
        "    case 5:\n",
        "        print('금요일')\n",
        "    case 6:\n",
        "        print('토요일')\n",
        "    case _:\n",
        "        print('0~6사이의 수를 입력하지 않았습니다.')\n",
        ""
      ],
      "metadata": {
        "id": "W3stBc0HruhJ",
        "colab": {
          "base_uri": "https://localhost:8080/"
        },
        "outputId": "deba3ea1-8f3b-411c-89c7-6bd759a7395e"
      },
      "execution_count": 59,
      "outputs": [
        {
          "output_type": "stream",
          "name": "stdout",
          "text": [
            "0~6 사이의 정수를 입력>>> 10\n",
            "0~6사이의 수를 입력하지 않았습니다.\n"
          ]
        }
      ]
    },
    {
      "cell_type": "code",
      "source": [
        "day=int(input('0~6 사이의 정수를 입력>>> '))\n",
        "match day:\n",
        "    case 1 | 2 | 3 | 4 | 5 :\n",
        "        print(\"학원\")\n",
        "    case 0 | 6 :\n",
        "        print(\"주말\")\n",
        "\n",
        "# if day == 1 or day == 2 or day == 3 or day == 4 or day == 5\n",
        "#    pass\n",
        "# elif day == 0 or day == 6\n",
        "#    pass\n"
      ],
      "metadata": {
        "id": "nHNaHoFVtRDi"
      },
      "execution_count": null,
      "outputs": []
    },
    {
      "cell_type": "code",
      "source": [
        "day=int(input('0~6 사이의 정수를 입력>>> '))\n",
        "match day:\n",
        "    case 1 | 2 | 3 | 4 | 5 :\n",
        "        print(\"학원\")\n",
        "    case 0 | 6 :\n",
        "        print(\"주말\")\n",
        "    case _:\n",
        "        print(\"정상적인 수가 입력 되지 않았습니다.\")\n",
        ""
      ],
      "metadata": {
        "id": "UTH5SeelvOxB"
      },
      "execution_count": null,
      "outputs": []
    },
    {
      "cell_type": "markdown",
      "source": [
        "#난수 (random number) 생성 방법"
      ],
      "metadata": {
        "id": "ODT4Gn76wGeS"
      }
    },
    {
      "cell_type": "markdown",
      "source": [],
      "metadata": {
        "id": "o4IL8OnBwiWY"
      }
    },
    {
      "cell_type": "code",
      "source": [
        "import time #타임 생성 기능"
      ],
      "metadata": {
        "id": "2d5IeQsZ848t"
      },
      "execution_count": null,
      "outputs": []
    },
    {
      "cell_type": "code",
      "source": [
        "import random #난수 생성 기능(함수)들을 가지고 있는 random 모듈을 사용."
      ],
      "metadata": {
        "id": "hwxb8pccwjH7"
      },
      "execution_count": 63,
      "outputs": []
    },
    {
      "cell_type": "code",
      "source": [
        "random.random() #random.random() : 0 <= x < 1 의 범위의 실수 난수를 생성."
      ],
      "metadata": {
        "id": "vU-GtHSkwz_2",
        "colab": {
          "base_uri": "https://localhost:8080/"
        },
        "outputId": "2b3707cc-c0d4-457d-ba19-212eeb9553a2"
      },
      "execution_count": 70,
      "outputs": [
        {
          "output_type": "execute_result",
          "data": {
            "text/plain": [
              "0.26368283135845005"
            ]
          },
          "metadata": {},
          "execution_count": 70
        }
      ]
    },
    {
      "cell_type": "code",
      "source": [
        "random.randrange(0,2) #random.randrange(start, stop) : start <= x  < stop 범위의 정수 난수를 생성."
      ],
      "metadata": {
        "id": "JZYD1x8eyUb4",
        "colab": {
          "base_uri": "https://localhost:8080/"
        },
        "outputId": "59cfdad5-8600-46f5-ab50-2bcb5c5da31d"
      },
      "execution_count": 101,
      "outputs": [
        {
          "output_type": "execute_result",
          "data": {
            "text/plain": [
              "1"
            ]
          },
          "metadata": {},
          "execution_count": 101
        }
      ]
    },
    {
      "cell_type": "code",
      "source": [
        "random.randrage(stop) # random.randrange(stop) : 0 <= x < stop 범위의 정수 난수를 생성"
      ],
      "metadata": {
        "id": "DS8Sg_LnzTdH"
      },
      "execution_count": null,
      "outputs": []
    },
    {
      "cell_type": "markdown",
      "source": [
        "#연습문제\n",
        "\n",
        "가위바위보 제작"
      ],
      "metadata": {
        "id": "TydEHmba92YE"
      }
    },
    {
      "cell_type": "code",
      "source": [
        "hand=(int(input(\"자 시작한다. 미리 낼 손을 정해! \\n (가위(1), 바위(2) , 보(3): \")))\n",
        "print(\"안내면 진거 !\")\n",
        "time.sleep(0.5)\n",
        "print(\"가위 !\")\n",
        "time.sleep(0.5)\n",
        "print(\"바위 !\")\n",
        "time.sleep(0.5)\n",
        "print(\"보 !\")\n",
        "print(\"========결과창========\")\n",
        "if hand==1:\n",
        "    print(\"사용자 : 가위!\")\n",
        "elif hand==2:\n",
        "    print(\"사용자 : 바위!\")\n",
        "elif hand==3:\n",
        "    print(\"사용자 : 보!\")\n",
        "else:\n",
        "    print(\"하기 싫으면 말을 하지\")\n",
        "python=int(random.randrange(1,3))\n",
        "if python==1:\n",
        "    print(\"파이썬 : 가위!\")\n",
        "elif python==2:\n",
        "    print(\"파이썬 : 바위!\")\n",
        "elif python==3:\n",
        "    print(\"파이썬 : 보!\")\n",
        "\n",
        "## 기본 조건문\n",
        "if (hand==1 and python==3) or (hand==2 and python==1) or (hand==3 and python==2) :\n",
        "    print(\"사용자가 이겼습니다.\")\n",
        "elif (hand==3 and python==1) or (hand==1 and python==2) or (hand==2 and python==3):\n",
        "    print(\"파이썬이 이겼습니다.\")\n",
        "elif hand == python:\n",
        "    print(\"비겼군\")\n",
        "else:\n",
        "    print(\"사용자가 이상하게 입력했습니다.\")\n",
        "\n",
        "\n",
        "## 매치 케이스 문\n",
        "match (hand,python):\n",
        "    case (1,3) | (2,1) | (3,2):\n",
        "        print(\"사용자가 이겼습니다\")\n",
        "    case (3,1) | (1,2) | (2,3):\n",
        "        print(\"파이썬이 이겼습니다.\")\n",
        "    case (1,1) | (2,2) | (3,3):\n",
        "        print(\"비겼군\")\n",
        "    case _:\n",
        "        print(\"사용자가 이상하게 입력했습니다.\")\n"
      ],
      "metadata": {
        "id": "6WA7oGRJxty1",
        "colab": {
          "base_uri": "https://localhost:8080/"
        },
        "outputId": "7bd00001-31a6-4171-fff5-191a7a6333e4"
      },
      "execution_count": 129,
      "outputs": [
        {
          "output_type": "stream",
          "name": "stdout",
          "text": [
            "자 시작한다. 미리 낼 손을 정해! \n",
            " (가위(1), 바위(2) , 보(3): 3\n",
            "안내면 진거 !\n",
            "가위 !\n",
            "바위 !\n",
            "보 !\n",
            "========결과창========\n",
            "사용자 : 보!\n",
            "파이썬 : 가위!\n",
            "파이썬이 이겼습니다.\n",
            "파이썬이 이겼습니다.\n"
          ]
        }
      ]
    },
    {
      "cell_type": "markdown",
      "source": [
        "정답"
      ],
      "metadata": {
        "id": "sJiQyGCx-nyt"
      }
    },
    {
      "cell_type": "code",
      "source": [
        "if user == 1: # 사용자가 가위를 낸 경우\n",
        "    if computer == 1: #컴퓨터가 가위를 낸 경우\n",
        "        print(\"비겼습니다.\")\n",
        "    elif computer == 2: #컴퓨터가 바위를 낸 경우\n",
        "        print(\"컴퓨터가 이겼습니다.\")\n",
        "    else: #컴퓨터가 보를 낸 경우\n",
        "        print(\"사용자가 이겼습니다.\")\n",
        "elif user==2: # 사용자가 바위를 낸 경우\n",
        "    if computer == 1: #컴퓨터가 가위를 낸 경우\n",
        "        print(\"사용자가 이겼습니다.\")\n",
        "    elif computer == 2: #컴퓨터가 바위를 낸 경우\n",
        "        print(\"비겼습니다.\")\n",
        "    else: #컴퓨터가 보를 낸 경우\n",
        "        print(\"컴퓨터가 이겼습니다.\")\n",
        "else:  # 사용자가 보를 낸 경우\n",
        "    if computer == 1: #컴퓨터가 가위를 낸 경우\n",
        "        print(\"컴퓨터가 이겼습니다.\")\n",
        "    elif computer == 2: #컴퓨터가 바위를 낸 경우\n",
        "        print(\"사용자가 이겼습니다.\")\n",
        "    else: #컴퓨터가 보를 낸 경우\n",
        "        print(\"비겼습니다.\")\n",
        "\n",
        "\n",
        "\n"
      ],
      "metadata": {
        "id": "iRsnJZMz-lpG"
      },
      "execution_count": null,
      "outputs": []
    },
    {
      "cell_type": "code",
      "source": [],
      "metadata": {
        "id": "p8qH9Z54HMN0"
      },
      "execution_count": null,
      "outputs": []
    }
  ]
}