{
  "nbformat": 4,
  "nbformat_minor": 0,
  "metadata": {
    "colab": {
      "provenance": [],
      "authorship_tag": "ABX9TyPYNRIZ85KPrx8MRN80zMZF",
      "include_colab_link": true
    },
    "kernelspec": {
      "name": "python3",
      "display_name": "Python 3"
    },
    "language_info": {
      "name": "python"
    }
  },
  "cells": [
    {
      "cell_type": "markdown",
      "metadata": {
        "id": "view-in-github",
        "colab_type": "text"
      },
      "source": [
        "<a href=\"https://colab.research.google.com/github/Appseung/Oracle/blob/main/Python_02.ipynb\" target=\"_parent\"><img src=\"https://colab.research.google.com/assets/colab-badge.svg\" alt=\"Open In Colab\"/></a>"
      ]
    },
    {
      "cell_type": "markdown",
      "source": [
        "#Python의 자료형(Python Data Type)"
      ],
      "metadata": {
        "id": "vy2yIGOJbHo8"
      }
    },
    {
      "cell_type": "markdown",
      "source": [
        "* 숫자 타입\n",
        "  * 정수 : int\n",
        "  * 실수 : float\n",
        "* 문자열 타입 : str\n",
        "* 논리 타입 : bool\n"
      ],
      "metadata": {
        "id": "gjH-a8zvbP2r"
      }
    },
    {
      "cell_type": "code",
      "execution_count": 180,
      "metadata": {
        "colab": {
          "base_uri": "https://localhost:8080/"
        },
        "id": "6p-cKjn3aEOt",
        "outputId": "4247e613-4334-4055-8ccf-c5d09d0489f2"
      },
      "outputs": [
        {
          "output_type": "stream",
          "name": "stdout",
          "text": [
            "123\n",
            "<class 'int'>\n",
            "123\n",
            "<class 'float'>\n"
          ]
        }
      ],
      "source": [
        "#변수 n에 정수 123을 저장하고 출력\n",
        "n= int(123.12421442421)\n",
        "print(n)\n",
        "print(type(n))\n",
        "#변수 n의 타입 출력\n",
        "n= 123.1242142\n",
        "print(int(n))\n",
        "print(type(n))\n",
        "#다른 n이지만 숫자에 정수를 입힌 것과\n",
        "#실수를 출력할때만 정수로 출력한 것의 차이"
      ]
    },
    {
      "cell_type": "code",
      "source": [
        "pi=3.141592  # 변수 pi에 값 3.141592를 저장\n",
        "print(pi) # 변수 pi에 할당된 값을 출력\n",
        "print(type(pi)) #변수 pi에 할당된 값의 타입을 출력"
      ],
      "metadata": {
        "colab": {
          "base_uri": "https://localhost:8080/"
        },
        "id": "OgYPFG3ZdhEh",
        "outputId": "097fcd8a-c510-47dd-bbb1-f5882f868f7c"
      },
      "execution_count": null,
      "outputs": [
        {
          "output_type": "stream",
          "name": "stdout",
          "text": [
            "3.141592\n",
            "<class 'float'>\n"
          ]
        }
      ]
    },
    {
      "cell_type": "code",
      "source": [
        "s= \"안녕하세요\"\n",
        "print(s)\n",
        "print(type(s))"
      ],
      "metadata": {
        "colab": {
          "base_uri": "https://localhost:8080/"
        },
        "id": "m_wn9420eRmJ",
        "outputId": "92bd1690-f5e4-450f-ddb5-e725456e64bd"
      },
      "execution_count": null,
      "outputs": [
        {
          "output_type": "stream",
          "name": "stdout",
          "text": [
            "안녕하세요\n",
            "<class 'str'>\n"
          ]
        }
      ]
    },
    {
      "cell_type": "markdown",
      "source": [
        "논리타입 : 참(True) 또는 거짓(False)을 저장하는 타입.\n",
        "\n",
        "파이썬의 예약어는 대문자와 소문자를 구분한다."
      ],
      "metadata": {
        "id": "pyBwxg-cextg"
      }
    },
    {
      "cell_type": "code",
      "source": [
        "b= True\n",
        "print (b)\n",
        "print(type(b))"
      ],
      "metadata": {
        "colab": {
          "base_uri": "https://localhost:8080/"
        },
        "id": "ZXWEFThde_fw",
        "outputId": "9c84ca0a-1599-42a3-d4ed-6e8c3006353a"
      },
      "execution_count": null,
      "outputs": [
        {
          "output_type": "stream",
          "name": "stdout",
          "text": [
            "True\n",
            "<class 'bool'>\n"
          ]
        }
      ]
    },
    {
      "cell_type": "code",
      "source": [
        "b= 10<5\n",
        "print(b)"
      ],
      "metadata": {
        "colab": {
          "base_uri": "https://localhost:8080/"
        },
        "id": "kcC84S9cgXGA",
        "outputId": "d63b16bc-8b44-4baa-87df-b3664a3bcaa0"
      },
      "execution_count": null,
      "outputs": [
        {
          "output_type": "stream",
          "name": "stdout",
          "text": [
            "False\n"
          ]
        }
      ]
    },
    {
      "cell_type": "markdown",
      "source": [
        "# 명시적 타입 변환(explicit type conversion)"
      ],
      "metadata": {
        "id": "5ARISGd-g1Tr"
      }
    },
    {
      "cell_type": "markdown",
      "source": [
        "* `int(argument)` : 아규먼트로 전달된 값을 정수로 변환해주는함수\n",
        "  *  문자열 -> 정수\n",
        "  *  실수 -> 정수\n",
        "  \n",
        "* `float(argument)` : 아규먼트로 전달된 값을 실수로 변환해주는함수\n",
        "  *  문자열 -> 실수\n",
        "  *  정수 -> 실수\n",
        "* `str(argument)` : 아규먼트로 전달된 값을 문자열로 변환해주는함수\n",
        "  *  정수 , 실수 , ... -> 문자열"
      ],
      "metadata": {
        "id": "3pKvWGuOg7Tx"
      }
    },
    {
      "cell_type": "code",
      "source": [
        "num_str= \"1004\"\n",
        "print(type(num_str))  #> str\n",
        "num= int(num_str) #문자열을 정수로 변환해서 변수 num에 저장(할당)\n",
        "print(type(num)) #> int\n",
        "num= float(num_str)\n",
        "print(type(num)) #> float\n"
      ],
      "metadata": {
        "colab": {
          "base_uri": "https://localhost:8080/"
        },
        "id": "yBmSLd8NiTUB",
        "outputId": "c620bb9b-edd5-4842-b8ea-836683e1424a"
      },
      "execution_count": null,
      "outputs": [
        {
          "output_type": "stream",
          "name": "stdout",
          "text": [
            "<class 'str'>\n",
            "<class 'int'>\n",
            "<class 'float'>\n"
          ]
        }
      ]
    },
    {
      "cell_type": "code",
      "source": [
        "pi_int=int(pi)\n",
        "pi_str=str(pi)\n",
        "pi_float=float(pi)\n",
        "print(pi_int)\n",
        "print(type(pi_int))\n",
        "print(pi_str)\n",
        "print(type(pi_str))"
      ],
      "metadata": {
        "colab": {
          "base_uri": "https://localhost:8080/"
        },
        "id": "7t2HyR0ajYWX",
        "outputId": "49678ad9-bea8-4da4-c9c6-d11a6d38ef5d"
      },
      "execution_count": null,
      "outputs": [
        {
          "output_type": "stream",
          "name": "stdout",
          "text": [
            "3\n",
            "<class 'int'>\n",
            "3.141592\n",
            "<class 'str'>\n"
          ]
        }
      ]
    },
    {
      "cell_type": "markdown",
      "source": [
        "# 연산자(Operator)\n"
      ],
      "metadata": {
        "id": "nseoN-1Ho7Z_"
      }
    },
    {
      "cell_type": "markdown",
      "source": [
        "##할당 연산자(assignment operator)\n",
        "\n",
        "* `=`: 오른쪽의 값을 왼쪽의 변수에 할당(저장)\n"
      ],
      "metadata": {
        "id": "EygkXx1io-JA"
      }
    },
    {
      "cell_type": "markdown",
      "source": [
        "##산술 연산자(arithmetic operator)\n",
        "\n",
        "* 종류 : `+, - , * , / , ** , // , % `\n",
        "  * ** = 거듭제곱\n",
        "  * // = 나눈 몫\n",
        "  * % = 나눈 나머지 값\n",
        "* 산술 연산자는 일반적으로 숫자 타입(int,float)의 값에서 사용 가능.\n",
        "* 일부 산출 연산자는 문자열과 같은 타입에서도 사용 가능."
      ],
      "metadata": {
        "id": "ppBmz2qppp8l"
      }
    },
    {
      "cell_type": "code",
      "source": [
        "x= 10\n",
        "y= 3\n",
        "# == 동일한 의미\n",
        "print(f'{x}+{y}={x+y}')\n",
        "print(f'{x}-{y}={x-y}')\n",
        "print(f'{x}*{y}={x*y}')\n",
        "print(f'{x}/{y}={x/y}') #무한소수기 때문에 오차가 있음.\n",
        "print(f'{x}의 {y} 제곱={x**y}') # 거듭제곱 연산자\n",
        "print(f'{x}을 {y}으로 나눈 몫={x//y}') # 몫 연산자\n",
        "print(f'{x}을 {y}으로 나눈 나머지 값={x%y}') #나머지 연산자"
      ],
      "metadata": {
        "colab": {
          "base_uri": "https://localhost:8080/",
          "height": 139
        },
        "id": "dQmQyVPlqyN1",
        "outputId": "ddaadc2d-ab08-4168-d8f9-f7a3df03bddb"
      },
      "execution_count": null,
      "outputs": [
        {
          "output_type": "stream",
          "name": "stdout",
          "text": [
            "10+3=13\n",
            "10-3=7\n",
            "10*3=30\n",
            "10/3=3.3333333333333335\n",
            "10의 3 제곱=1000\n",
            "10을 3으로 나눈 몫=3\n"
          ]
        },
        {
          "output_type": "execute_result",
          "data": {
            "text/plain": [
              "'10을 3으로 나눈 나머지 값=1'"
            ],
            "application/vnd.google.colaboratory.intrinsic+json": {
              "type": "string"
            }
          },
          "metadata": {},
          "execution_count": 76
        }
      ]
    },
    {
      "cell_type": "markdown",
      "source": [
        "문자열(str)에서 사용할 수 있는 산술연산자\n",
        "\n",
        "*  `+` : concatenate : 문자열 이어붙이기.\n",
        "*  `*` : replicate : 문자열 복제.\n"
      ],
      "metadata": {
        "id": "4fd4Ync6thNo"
      }
    },
    {
      "cell_type": "code",
      "source": [
        "'hello'+'Python'  # 문자열 + 문자열\n",
        "#하나의 코드셀에선 마지막의 한줄만 print 문이 없어도 사용 가능\n"
      ],
      "metadata": {
        "colab": {
          "base_uri": "https://localhost:8080/",
          "height": 35
        },
        "id": "ZPi1dBCjt59N",
        "outputId": "108ed6a1-3904-4933-870c-3e603674fcd9"
      },
      "execution_count": null,
      "outputs": [
        {
          "output_type": "execute_result",
          "data": {
            "text/plain": [
              "'helloPython'"
            ],
            "application/vnd.google.colaboratory.intrinsic+json": {
              "type": "string"
            }
          },
          "metadata": {},
          "execution_count": 83
        }
      ]
    },
    {
      "cell_type": "code",
      "source": [
        "'hello'*10 # 문자열 x 정수"
      ],
      "metadata": {
        "colab": {
          "base_uri": "https://localhost:8080/",
          "height": 35
        },
        "id": "Vx-VSeBkus9l",
        "outputId": "02a3947c-ba32-426d-8332-65eb8c923c58"
      },
      "execution_count": null,
      "outputs": [
        {
          "output_type": "execute_result",
          "data": {
            "text/plain": [
              "'hellohellohellohellohellohellohellohellohellohello'"
            ],
            "application/vnd.google.colaboratory.intrinsic+json": {
              "type": "string"
            }
          },
          "metadata": {},
          "execution_count": 87
        }
      ]
    },
    {
      "cell_type": "code",
      "source": [
        "'안녕'+ '1'"
      ],
      "metadata": {
        "colab": {
          "base_uri": "https://localhost:8080/",
          "height": 35
        },
        "id": "T0yV33cGu_iU",
        "outputId": "18fb84b9-ca43-4a99-fb36-84810f91510e"
      },
      "execution_count": null,
      "outputs": [
        {
          "output_type": "execute_result",
          "data": {
            "text/plain": [
              "'안녕1'"
            ],
            "application/vnd.google.colaboratory.intrinsic+json": {
              "type": "string"
            }
          },
          "metadata": {},
          "execution_count": 89
        }
      ]
    },
    {
      "cell_type": "code",
      "source": [
        "'안녕' + str(int(float(1)))"
      ],
      "metadata": {
        "colab": {
          "base_uri": "https://localhost:8080/",
          "height": 35
        },
        "id": "FOb4SVuXvOH0",
        "outputId": "44eef996-7629-4165-b1b2-25686e65c49f"
      },
      "execution_count": null,
      "outputs": [
        {
          "output_type": "execute_result",
          "data": {
            "text/plain": [
              "'안녕1'"
            ],
            "application/vnd.google.colaboratory.intrinsic+json": {
              "type": "string"
            }
          },
          "metadata": {},
          "execution_count": 131
        }
      ]
    },
    {
      "cell_type": "markdown",
      "source": [
        "## 비교 연산자 , 논리 연산자\n",
        "* 비교 연산자 : `== , != , > , >= , < , <= `  \n",
        "* 논리 연산자 : `and , or , not`"
      ],
      "metadata": {
        "id": "zNoOZS6LvxjA"
      }
    },
    {
      "cell_type": "code",
      "source": [
        "x , y = 100 , 200\n",
        "\n",
        "print(x==y) # equal to\n",
        "print(x!=y) # not equal to\n",
        "print(x>=y)\n",
        "print(x>y) # greater than\n",
        "print(x<=y)\n",
        "print(x<y) # less than\n"
      ],
      "metadata": {
        "colab": {
          "base_uri": "https://localhost:8080/"
        },
        "id": "pejZH7dUwvhi",
        "outputId": "d5a4cde7-fedb-4a85-84fb-5bc0bb3455b1"
      },
      "execution_count": null,
      "outputs": [
        {
          "output_type": "stream",
          "name": "stdout",
          "text": [
            "False\n",
            "True\n",
            "False\n",
            "False\n",
            "True\n",
            "True\n"
          ]
        }
      ]
    },
    {
      "cell_type": "code",
      "source": [
        "print (( x > 50 ) and ( x < 150 ))\n",
        "print (( x > 100 ) and ( x < 200 ))\n",
        "print (( x > 100 ) or ( x < 200 ))\n",
        "\n",
        "print(x and y >x+y)\n",
        "print((x or y) >x+y)\n",
        "print(x or y >x+y)\n",
        "print(not x and y >x+y)"
      ],
      "metadata": {
        "colab": {
          "base_uri": "https://localhost:8080/"
        },
        "id": "5PJVY2MCw9LU",
        "outputId": "5a673e7a-3a8a-4df8-b49c-77d2a78b3188"
      },
      "execution_count": null,
      "outputs": [
        {
          "output_type": "stream",
          "name": "stdout",
          "text": [
            "True\n",
            "False\n",
            "True\n",
            "False\n",
            "False\n",
            "100\n",
            "False\n"
          ]
        }
      ]
    },
    {
      "cell_type": "markdown",
      "source": [
        "## 복합 할당 연산자\n",
        "* 종류 : `+= , -= , *= , /= , **= , //= , %= , ...`\n",
        "* 산술 연산자와 할당 연산자를 합쳐서 만들어진 연산자."
      ],
      "metadata": {
        "id": "mwTCgmmy3KMA"
      }
    },
    {
      "cell_type": "code",
      "source": [
        "x = 10\n",
        "print(x)\n",
        "x = x + 1\n",
        "print (x)"
      ],
      "metadata": {
        "colab": {
          "base_uri": "https://localhost:8080/"
        },
        "id": "SrMFSrzT3q2J",
        "outputId": "07e0b29f-b60d-4be9-88b9-9f61895fd50f"
      },
      "execution_count": null,
      "outputs": [
        {
          "output_type": "stream",
          "name": "stdout",
          "text": [
            "10\n",
            "11\n"
          ]
        }
      ]
    },
    {
      "cell_type": "code",
      "source": [
        "x = 10\n",
        "print(x)\n",
        "x += 1 # 1. x (왼쪽) + 1 (오른쪽) 을 우선 계산 2. (1.)의 결과를 변수 x에 저장\n",
        "print(x)"
      ],
      "metadata": {
        "colab": {
          "base_uri": "https://localhost:8080/"
        },
        "id": "IW6o2sob40Ui",
        "outputId": "449fea81-a46a-438c-dba5-382397ba02ae"
      },
      "execution_count": null,
      "outputs": [
        {
          "output_type": "stream",
          "name": "stdout",
          "text": [
            "10\n",
            "11\n"
          ]
        }
      ]
    },
    {
      "cell_type": "markdown",
      "source": [
        "# 콘솔 입력"
      ],
      "metadata": {
        "id": "Pw9yY1aOBDys"
      }
    },
    {
      "cell_type": "code",
      "source": [
        "name = input('이름을 입력 >>> ')\n",
        "print(type(name))\n",
        "print(f'안녕하세요 , {name}!')"
      ],
      "metadata": {
        "colab": {
          "base_uri": "https://localhost:8080/"
        },
        "id": "6giomfitBGbp",
        "outputId": "6d0ae1ae-1814-436c-c96f-a5691d594fd6"
      },
      "execution_count": 179,
      "outputs": [
        {
          "output_type": "stream",
          "name": "stdout",
          "text": [
            "이름을 입력 >>> 승이\n",
            "<class 'str'>\n",
            "안녕하세요 , 승이!\n"
          ]
        }
      ]
    },
    {
      "cell_type": "markdown",
      "source": [
        "연습문제 :\n",
        "* 섭씨 온도를 입력받아서 , 화씨 온도로 변환 후 출력하는 코드를 작성.\n",
        "* `화씨 = 섭씨 * 1.8 + 32 `\n"
      ],
      "metadata": {
        "id": "DamO1q95BVjj"
      }
    },
    {
      "cell_type": "code",
      "source": [
        "celcius= float(input(\"현재 온도를 입력해주세요 : \"))\n",
        "fahrenheit= celcius * 1.8 + 32\n",
        "print(f\"현재온도 {celcius}℃를 화씨로 변환하면 { fahrenheit } ℉ 입니다.\")\n",
        "\n"
      ],
      "metadata": {
        "colab": {
          "base_uri": "https://localhost:8080/"
        },
        "id": "zm8cDmhmBSVJ",
        "outputId": "15544d5f-fd2d-4ff9-de82-63b584be3208"
      },
      "execution_count": 178,
      "outputs": [
        {
          "output_type": "stream",
          "name": "stdout",
          "text": [
            "현재 온도를 입력해주세요 : 15\n",
            "현재온도 15.0℃를 화씨로 변환하면 59.0 ℉ 입니다.\n"
          ]
        }
      ]
    },
    {
      "cell_type": "markdown",
      "source": [
        "https://github.com/JakeOh/202504_itwill_oracle88\n"
      ],
      "metadata": {
        "id": "prdqm9QGDu9f"
      }
    }
  ]
}