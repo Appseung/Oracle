{
  "nbformat": 4,
  "nbformat_minor": 0,
  "metadata": {
    "colab": {
      "provenance": [],
      "toc_visible": true,
      "authorship_tag": "ABX9TyOBnQb2bDtCbmhIVu7T2Vsr",
      "include_colab_link": true
    },
    "kernelspec": {
      "name": "python3",
      "display_name": "Python 3"
    },
    "language_info": {
      "name": "python"
    }
  },
  "cells": [
    {
      "cell_type": "markdown",
      "metadata": {
        "id": "view-in-github",
        "colab_type": "text"
      },
      "source": [
        "<a href=\"https://colab.research.google.com/github/Appseung/Oracle/blob/main/Python_04.ipynb\" target=\"_parent\"><img src=\"https://colab.research.google.com/assets/colab-badge.svg\" alt=\"Open In Colab\"/></a>"
      ]
    },
    {
      "cell_type": "markdown",
      "source": [
        "#While 반복문"
      ],
      "metadata": {
        "id": "vNixjQUvIH9U"
      }
    },
    {
      "cell_type": "markdown",
      "source": [
        "##문법"
      ],
      "metadata": {
        "id": "3E3aOtUMIcWV"
      }
    },
    {
      "cell_type": "markdown",
      "source": [
        "```\n",
        "[초기화 문장]\n",
        "while 조건식 :\n",
        "    조건식을 만족하는 동안에 반복할 코드 블록\n",
        "    [조건식의 결과를 바꿀 수 있는 문장]\n",
        "```\n",
        "\n",
        "* `while 조건식` 다음에는 반드시 콜론(:)을 써야 함.\n",
        "* 조건식을 만족하는 동안 블록 내부를 실행.\n",
        "* 조건식의 결과가 false가 되면 반복을 멈춤.\n"
      ],
      "metadata": {
        "id": "os2DaojwIeXd"
      }
    },
    {
      "cell_type": "code",
      "source": [
        "print(1)\n",
        "print(2)\n",
        "print(3)\n",
        "print(4)\n",
        "print(5)\n"
      ],
      "metadata": {
        "id": "HHtT2p6OKR25",
        "colab": {
          "base_uri": "https://localhost:8080/"
        },
        "outputId": "169d4fa6-9bc8-49fd-8e34-f628574e329c"
      },
      "execution_count": null,
      "outputs": [
        {
          "output_type": "stream",
          "name": "stdout",
          "text": [
            "1\n",
            "2\n",
            "3\n",
            "4\n",
            "5\n"
          ]
        }
      ]
    },
    {
      "cell_type": "code",
      "source": [
        "n=1 #초기화문장\n",
        "while n<6: #변수 n의 값이 6보다 작은 동안에\n",
        "    print(n) #변수 n의 값을 출력\n",
        "    n+=1 # n=n+1\n"
      ],
      "metadata": {
        "id": "uZWOMSH9K2hN",
        "colab": {
          "base_uri": "https://localhost:8080/"
        },
        "outputId": "edf9ef1d-6398-468b-df37-6777e96a59d5"
      },
      "execution_count": null,
      "outputs": [
        {
          "output_type": "stream",
          "name": "stdout",
          "text": [
            "1\n",
            "2\n",
            "3\n",
            "4\n",
            "5\n"
          ]
        }
      ]
    },
    {
      "cell_type": "markdown",
      "source": [
        "5부터 1씩 감소시키면서 1까지 한 줄씩 출력"
      ],
      "metadata": {
        "id": "A7U-cvDxNfUu"
      }
    },
    {
      "cell_type": "code",
      "source": [
        "n=5\n",
        "while n>0:\n",
        "    print(n)\n",
        "    n -=1"
      ],
      "metadata": {
        "id": "dlT00ajXMSmY",
        "colab": {
          "base_uri": "https://localhost:8080/"
        },
        "outputId": "c521c954-71ee-4e15-d8d6-29f15f367bb2"
      },
      "execution_count": null,
      "outputs": [
        {
          "output_type": "stream",
          "name": "stdout",
          "text": [
            "5\n",
            "4\n",
            "3\n",
            "2\n",
            "1\n"
          ]
        }
      ]
    },
    {
      "cell_type": "markdown",
      "source": [
        "짝수를 출력하되 10이하까지 출력"
      ],
      "metadata": {
        "id": "g6ZUvSiWNi8A"
      }
    },
    {
      "cell_type": "code",
      "source": [
        "n=2\n",
        "while n<=10:\n",
        "    print(n)\n",
        "    n +=2"
      ],
      "metadata": {
        "id": "3AIK7oBKNJvD",
        "colab": {
          "base_uri": "https://localhost:8080/"
        },
        "outputId": "3416e12d-ed08-4ba6-c323-9dd9512d16a1"
      },
      "execution_count": null,
      "outputs": [
        {
          "output_type": "stream",
          "name": "stdout",
          "text": [
            "2\n",
            "4\n",
            "6\n",
            "8\n",
            "10\n"
          ]
        }
      ]
    },
    {
      "cell_type": "code",
      "source": [
        "n=2\n",
        "while n<=10: # n의 값이 10 이하인 동안에\n",
        "    if n%2==0: #n이 짝수이면\n",
        "        print(n) #n을 출력\n",
        "    n+=1 # n의 값을 1 증가"
      ],
      "metadata": {
        "colab": {
          "base_uri": "https://localhost:8080/"
        },
        "id": "2nc4LxQGOGi7",
        "outputId": "b4e7dbfb-ca07-4fce-fdda-4bc299a2cf46"
      },
      "execution_count": null,
      "outputs": [
        {
          "output_type": "stream",
          "name": "stdout",
          "text": [
            "2\n",
            "4\n",
            "6\n",
            "8\n",
            "10\n"
          ]
        }
      ]
    },
    {
      "cell_type": "markdown",
      "source": [
        "구구단 9단 출력\n",
        "```\n",
        "9 x 1 = 9\n",
        "9 x 2 = 18\n",
        "...\n",
        "9 x 9 = 81\n",
        "```"
      ],
      "metadata": {
        "id": "9cUI3IFUTv48"
      }
    },
    {
      "cell_type": "code",
      "source": [
        "n=float(input(\"원하는 숫자를 입력하세요. : \"))\n",
        "count=1\n",
        "\n",
        "while count<=9:\n",
        "    print(f\"{n} x {count} = {n * count}\")\n",
        "    count +=1\n"
      ],
      "metadata": {
        "id": "DbPvHgrAT_Wr",
        "colab": {
          "base_uri": "https://localhost:8080/"
        },
        "outputId": "b6a9fae0-5f47-4b82-ebb7-42ae2b4a76eb"
      },
      "execution_count": null,
      "outputs": [
        {
          "output_type": "stream",
          "name": "stdout",
          "text": [
            "원하는 숫자를 입력하세요. : 1.4\n",
            "1.4 x 1 = 1.4\n",
            "1.4 x 2 = 2.8\n",
            "1.4 x 3 = 4.199999999999999\n",
            "1.4 x 4 = 5.6\n",
            "1.4 x 5 = 7.0\n",
            "1.4 x 6 = 8.399999999999999\n",
            "1.4 x 7 = 9.799999999999999\n",
            "1.4 x 8 = 11.2\n",
            "1.4 x 9 = 12.6\n"
          ]
        }
      ]
    },
    {
      "cell_type": "markdown",
      "source": [
        "## 중첩 반복문"
      ],
      "metadata": {
        "id": "d01RbGEiVLbR"
      }
    },
    {
      "cell_type": "code",
      "source": [
        "n=1\n",
        "\n",
        "while n<10:\n",
        "    print(f\"-----{n}단-----\")\n",
        "    count=1\n",
        "    while count<=9:\n",
        "        print(f\"{n} x {count} = {n * count}\")\n",
        "        count +=1\n",
        "    n+=1"
      ],
      "metadata": {
        "id": "LSIfrbk2VM63",
        "colab": {
          "base_uri": "https://localhost:8080/"
        },
        "outputId": "26c4d3a3-fb26-4d38-d66b-b228bafff9cb",
        "collapsed": true
      },
      "execution_count": null,
      "outputs": [
        {
          "output_type": "stream",
          "name": "stdout",
          "text": [
            "-----1단-----\n",
            "1 x 1 = 1\n",
            "1 x 2 = 2\n",
            "1 x 3 = 3\n",
            "1 x 4 = 4\n",
            "1 x 5 = 5\n",
            "1 x 6 = 6\n",
            "1 x 7 = 7\n",
            "1 x 8 = 8\n",
            "1 x 9 = 9\n",
            "-----2단-----\n",
            "2 x 1 = 2\n",
            "2 x 2 = 4\n",
            "2 x 3 = 6\n",
            "2 x 4 = 8\n",
            "2 x 5 = 10\n",
            "2 x 6 = 12\n",
            "2 x 7 = 14\n",
            "2 x 8 = 16\n",
            "2 x 9 = 18\n",
            "-----3단-----\n",
            "3 x 1 = 3\n",
            "3 x 2 = 6\n",
            "3 x 3 = 9\n",
            "3 x 4 = 12\n",
            "3 x 5 = 15\n",
            "3 x 6 = 18\n",
            "3 x 7 = 21\n",
            "3 x 8 = 24\n",
            "3 x 9 = 27\n",
            "-----4단-----\n",
            "4 x 1 = 4\n",
            "4 x 2 = 8\n",
            "4 x 3 = 12\n",
            "4 x 4 = 16\n",
            "4 x 5 = 20\n",
            "4 x 6 = 24\n",
            "4 x 7 = 28\n",
            "4 x 8 = 32\n",
            "4 x 9 = 36\n",
            "-----5단-----\n",
            "5 x 1 = 5\n",
            "5 x 2 = 10\n",
            "5 x 3 = 15\n",
            "5 x 4 = 20\n",
            "5 x 5 = 25\n",
            "5 x 6 = 30\n",
            "5 x 7 = 35\n",
            "5 x 8 = 40\n",
            "5 x 9 = 45\n",
            "-----6단-----\n",
            "6 x 1 = 6\n",
            "6 x 2 = 12\n",
            "6 x 3 = 18\n",
            "6 x 4 = 24\n",
            "6 x 5 = 30\n",
            "6 x 6 = 36\n",
            "6 x 7 = 42\n",
            "6 x 8 = 48\n",
            "6 x 9 = 54\n",
            "-----7단-----\n",
            "7 x 1 = 7\n",
            "7 x 2 = 14\n",
            "7 x 3 = 21\n",
            "7 x 4 = 28\n",
            "7 x 5 = 35\n",
            "7 x 6 = 42\n",
            "7 x 7 = 49\n",
            "7 x 8 = 56\n",
            "7 x 9 = 63\n",
            "-----8단-----\n",
            "8 x 1 = 8\n",
            "8 x 2 = 16\n",
            "8 x 3 = 24\n",
            "8 x 4 = 32\n",
            "8 x 5 = 40\n",
            "8 x 6 = 48\n",
            "8 x 7 = 56\n",
            "8 x 8 = 64\n",
            "8 x 9 = 72\n",
            "-----9단-----\n",
            "9 x 1 = 9\n",
            "9 x 2 = 18\n",
            "9 x 3 = 27\n",
            "9 x 4 = 36\n",
            "9 x 5 = 45\n",
            "9 x 6 = 54\n",
            "9 x 7 = 63\n",
            "9 x 8 = 72\n",
            "9 x 9 = 81\n"
          ]
        }
      ]
    },
    {
      "cell_type": "code",
      "source": [
        "n=1\n",
        "\n",
        "while n<10:\n",
        "    print(f\"-----{n}단----- , -----{n}단----- , -----{n}단-----\")\n",
        "    count=1\n",
        "    while count<=9:\n",
        "        print(f\"{n} x {count} = {n * count},      {n+1} x {count} = {(n+1) * (count)} ,       {n+2} x {count} = {(n+2) * (count)}\")\n",
        "        count +=1\n",
        "    n*=3"
      ],
      "metadata": {
        "id": "T29lmJbZXUh7",
        "colab": {
          "base_uri": "https://localhost:8080/"
        },
        "outputId": "08445131-58dd-46c9-bef2-1cea11f2204e",
        "collapsed": true
      },
      "execution_count": null,
      "outputs": [
        {
          "output_type": "stream",
          "name": "stdout",
          "text": [
            "-----1단----- , -----1단----- , -----1단-----\n",
            "1 x 1 = 1,      2 x 1 = 2 ,       3 x 1 = 3\n",
            "1 x 2 = 2,      2 x 2 = 4 ,       3 x 2 = 6\n",
            "1 x 3 = 3,      2 x 3 = 6 ,       3 x 3 = 9\n",
            "1 x 4 = 4,      2 x 4 = 8 ,       3 x 4 = 12\n",
            "1 x 5 = 5,      2 x 5 = 10 ,       3 x 5 = 15\n",
            "1 x 6 = 6,      2 x 6 = 12 ,       3 x 6 = 18\n",
            "1 x 7 = 7,      2 x 7 = 14 ,       3 x 7 = 21\n",
            "1 x 8 = 8,      2 x 8 = 16 ,       3 x 8 = 24\n",
            "1 x 9 = 9,      2 x 9 = 18 ,       3 x 9 = 27\n",
            "-----3단----- , -----3단----- , -----3단-----\n",
            "3 x 1 = 3,      4 x 1 = 4 ,       5 x 1 = 5\n",
            "3 x 2 = 6,      4 x 2 = 8 ,       5 x 2 = 10\n",
            "3 x 3 = 9,      4 x 3 = 12 ,       5 x 3 = 15\n",
            "3 x 4 = 12,      4 x 4 = 16 ,       5 x 4 = 20\n",
            "3 x 5 = 15,      4 x 5 = 20 ,       5 x 5 = 25\n",
            "3 x 6 = 18,      4 x 6 = 24 ,       5 x 6 = 30\n",
            "3 x 7 = 21,      4 x 7 = 28 ,       5 x 7 = 35\n",
            "3 x 8 = 24,      4 x 8 = 32 ,       5 x 8 = 40\n",
            "3 x 9 = 27,      4 x 9 = 36 ,       5 x 9 = 45\n",
            "-----9단----- , -----9단----- , -----9단-----\n",
            "9 x 1 = 9,      10 x 1 = 10 ,       11 x 1 = 11\n",
            "9 x 2 = 18,      10 x 2 = 20 ,       11 x 2 = 22\n",
            "9 x 3 = 27,      10 x 3 = 30 ,       11 x 3 = 33\n",
            "9 x 4 = 36,      10 x 4 = 40 ,       11 x 4 = 44\n",
            "9 x 5 = 45,      10 x 5 = 50 ,       11 x 5 = 55\n",
            "9 x 6 = 54,      10 x 6 = 60 ,       11 x 6 = 66\n",
            "9 x 7 = 63,      10 x 7 = 70 ,       11 x 7 = 77\n",
            "9 x 8 = 72,      10 x 8 = 80 ,       11 x 8 = 88\n",
            "9 x 9 = 81,      10 x 9 = 90 ,       11 x 9 = 99\n"
          ]
        }
      ]
    },
    {
      "cell_type": "markdown",
      "source": [
        "##break , continue"
      ],
      "metadata": {
        "id": "6t0tKUgyX8WU"
      }
    },
    {
      "cell_type": "markdown",
      "source": [
        "* `break` : 반복(iteration)을 종료. 중첩반복문에 포함되어 있을 시, break가 포함된 가장 가까운 반복문만 종료.\n",
        "* `continue` : 다음의 반복(iteration)을 계속 수행 **continue 아래 쪽의 문장들은 건너뛰고** 다음 반복을 수행.\n"
      ],
      "metadata": {
        "id": "z4uKS5qYX-j5"
      }
    },
    {
      "cell_type": "code",
      "source": [
        "n = 1\n",
        "while n<=5:\n",
        "    if n==3:\n",
        "        break;\n",
        "    print(n)\n",
        "    n+=1"
      ],
      "metadata": {
        "colab": {
          "base_uri": "https://localhost:8080/"
        },
        "id": "vopjVubJYnMi",
        "outputId": "04ceca86-1357-4486-ae7a-e9b0a4d20ca7"
      },
      "execution_count": null,
      "outputs": [
        {
          "output_type": "stream",
          "name": "stdout",
          "text": [
            "1\n",
            "2\n"
          ]
        }
      ]
    },
    {
      "cell_type": "code",
      "source": [
        "n = 0\n",
        "while n<5:\n",
        "    n+=1\n",
        "    if n==3:\n",
        "        continue;\n",
        "    print(n)"
      ],
      "metadata": {
        "colab": {
          "base_uri": "https://localhost:8080/"
        },
        "id": "obddYFUbaAMj",
        "outputId": "f08fc089-fa28-48cd-be09-a29561f039e4"
      },
      "execution_count": null,
      "outputs": [
        {
          "output_type": "stream",
          "name": "stdout",
          "text": [
            "1\n",
            "2\n",
            "4\n",
            "5\n"
          ]
        }
      ]
    },
    {
      "cell_type": "markdown",
      "source": [
        "#과제문제"
      ],
      "metadata": {
        "id": "XBfW4ok4fuE_"
      }
    },
    {
      "cell_type": "code",
      "source": [
        "#1번\n",
        "\n",
        "a=\"*\"\n",
        "n=1\n",
        "while n<6:\n",
        "    print(f\"{a*n}\")\n",
        "    n +=1"
      ],
      "metadata": {
        "id": "hJTs9pRRfvhb",
        "colab": {
          "base_uri": "https://localhost:8080/"
        },
        "outputId": "de30ac41-90a5-449a-e9eb-2d0c4f99bf08"
      },
      "execution_count": null,
      "outputs": [
        {
          "output_type": "stream",
          "name": "stdout",
          "text": [
            "*\n",
            "**\n",
            "***\n",
            "****\n",
            "*****\n"
          ]
        }
      ]
    },
    {
      "cell_type": "code",
      "source": [
        "#2번\n",
        "\n",
        "a=\"*\"\n",
        "n=5\n",
        "while n>0:\n",
        "    print(a*n)\n",
        "    n -=1"
      ],
      "metadata": {
        "id": "vkYMzG2Gf4Kt",
        "colab": {
          "base_uri": "https://localhost:8080/"
        },
        "outputId": "57557531-75fd-406a-ea5d-65e66f44aadc"
      },
      "execution_count": null,
      "outputs": [
        {
          "output_type": "stream",
          "name": "stdout",
          "text": [
            "*****\n",
            "****\n",
            "***\n",
            "**\n",
            "*\n"
          ]
        }
      ]
    },
    {
      "cell_type": "code",
      "source": [
        "#3번\n",
        "\n",
        "a=\"*\"\n",
        "\n",
        "n=1\n",
        "while n<5:\n",
        "    print(a*n)\n",
        "    n +=1\n",
        "while n>0:\n",
        "    print(a*n)\n",
        "    n -=1\n",
        "\n"
      ],
      "metadata": {
        "id": "1UPDLtbEgK21",
        "colab": {
          "base_uri": "https://localhost:8080/"
        },
        "outputId": "5fdd23fa-7861-4f5f-86c2-e775e21d2e2b"
      },
      "execution_count": null,
      "outputs": [
        {
          "output_type": "stream",
          "name": "stdout",
          "text": [
            "*\n",
            "**\n",
            "***\n",
            "****\n",
            "*****\n",
            "****\n",
            "***\n",
            "**\n",
            "*\n"
          ]
        }
      ]
    },
    {
      "cell_type": "code",
      "source": [
        "#3-1번\n",
        "\n",
        "a=\"*\"\n",
        "\n",
        "n=0\n",
        "while n<5:\n",
        "    n +=1\n",
        "    print(a*n)\n",
        "while n>0:\n",
        "    n -=1\n",
        "    print(a*n)\n"
      ],
      "metadata": {
        "id": "RTa4n9wUkecw",
        "colab": {
          "base_uri": "https://localhost:8080/"
        },
        "outputId": "0ae8c12d-ae7b-49a8-f7cd-dbe7c660f678"
      },
      "execution_count": null,
      "outputs": [
        {
          "output_type": "stream",
          "name": "stdout",
          "text": [
            "*\n",
            "**\n",
            "***\n",
            "****\n",
            "*****\n",
            "****\n",
            "***\n",
            "**\n",
            "*\n",
            "\n"
          ]
        }
      ]
    },
    {
      "cell_type": "code",
      "source": [
        "#3-2번\n",
        "\n",
        "a=\"*\"\n",
        "n=0\n",
        "\n",
        "if n<5 :\n",
        "    while n<5:\n",
        "        n +=1\n",
        "        print(a*n)\n",
        "\n",
        "if n==5:\n",
        "    while n>0:\n",
        "        n -=1\n",
        "        print(a*n)\n",
        "\n",
        "\n"
      ],
      "metadata": {
        "id": "y5D8y4w_mWwB",
        "colab": {
          "base_uri": "https://localhost:8080/"
        },
        "outputId": "81bcd5a8-b508-4668-b1ed-f5c5646dda3b"
      },
      "execution_count": null,
      "outputs": [
        {
          "output_type": "stream",
          "name": "stdout",
          "text": [
            "*\n",
            "**\n",
            "***\n",
            "****\n",
            "*****\n",
            "****\n",
            "***\n",
            "**\n",
            "*\n",
            "\n"
          ]
        }
      ]
    },
    {
      "cell_type": "code",
      "source": [
        "#3-3번\n",
        "\n",
        "a=\"*\"\n",
        "n=0\n",
        "up=True\n",
        "\n",
        "while up==True:\n",
        "    n +=1\n",
        "    print(a*n)\n",
        "    if n==5:\n",
        "        up=False\n",
        "while up==False:\n",
        "    n -=1\n",
        "    print(a*n)\n",
        "    if n==0:\n",
        "        break;\n"
      ],
      "metadata": {
        "id": "GOHK8JCKpefg",
        "colab": {
          "base_uri": "https://localhost:8080/"
        },
        "outputId": "08b6caa7-342a-4f77-e351-50fbeea1e232"
      },
      "execution_count": null,
      "outputs": [
        {
          "output_type": "stream",
          "name": "stdout",
          "text": [
            "*\n",
            "**\n",
            "***\n",
            "****\n",
            "*****\n",
            "****\n",
            "***\n",
            "**\n",
            "*\n",
            "\n"
          ]
        }
      ]
    },
    {
      "cell_type": "code",
      "source": [
        "#4번\n",
        "\n",
        "n=2\n",
        "\n",
        "while n<10:\n",
        "    print(\"----------\")\n",
        "    count=1\n",
        "    while count<=n:\n",
        "        print(f\"{n} x {count} = {n * count}\")\n",
        "        count +=1\n",
        "    n+=1"
      ],
      "metadata": {
        "id": "NDPnvxKEg17o",
        "colab": {
          "base_uri": "https://localhost:8080/"
        },
        "outputId": "d5632975-af70-469f-c9d5-6bdac5b1b6b2"
      },
      "execution_count": null,
      "outputs": [
        {
          "output_type": "stream",
          "name": "stdout",
          "text": [
            "----------\n",
            "2 x 1 = 2\n",
            "2 x 2 = 4\n",
            "----------\n",
            "3 x 1 = 3\n",
            "3 x 2 = 6\n",
            "3 x 3 = 9\n",
            "----------\n",
            "4 x 1 = 4\n",
            "4 x 2 = 8\n",
            "4 x 3 = 12\n",
            "4 x 4 = 16\n",
            "----------\n",
            "5 x 1 = 5\n",
            "5 x 2 = 10\n",
            "5 x 3 = 15\n",
            "5 x 4 = 20\n",
            "5 x 5 = 25\n",
            "----------\n",
            "6 x 1 = 6\n",
            "6 x 2 = 12\n",
            "6 x 3 = 18\n",
            "6 x 4 = 24\n",
            "6 x 5 = 30\n",
            "6 x 6 = 36\n",
            "----------\n",
            "7 x 1 = 7\n",
            "7 x 2 = 14\n",
            "7 x 3 = 21\n",
            "7 x 4 = 28\n",
            "7 x 5 = 35\n",
            "7 x 6 = 42\n",
            "7 x 7 = 49\n",
            "----------\n",
            "8 x 1 = 8\n",
            "8 x 2 = 16\n",
            "8 x 3 = 24\n",
            "8 x 4 = 32\n",
            "8 x 5 = 40\n",
            "8 x 6 = 48\n",
            "8 x 7 = 56\n",
            "8 x 8 = 64\n",
            "----------\n",
            "9 x 1 = 9\n",
            "9 x 2 = 18\n",
            "9 x 3 = 27\n",
            "9 x 4 = 36\n",
            "9 x 5 = 45\n",
            "9 x 6 = 54\n",
            "9 x 7 = 63\n",
            "9 x 8 = 72\n",
            "9 x 9 = 81\n"
          ]
        }
      ]
    }
  ]
}