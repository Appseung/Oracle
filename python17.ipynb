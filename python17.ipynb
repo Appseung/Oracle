{
  "nbformat": 4,
  "nbformat_minor": 0,
  "metadata": {
    "colab": {
      "provenance": [],
      "include_colab_link": true
    },
    "kernelspec": {
      "name": "python3",
      "display_name": "Python 3"
    },
    "language_info": {
      "name": "python"
    }
  },
  "cells": [
    {
      "cell_type": "markdown",
      "metadata": {
        "id": "view-in-github",
        "colab_type": "text"
      },
      "source": [
        "<a href=\"https://colab.research.google.com/github/Appseung/Oracle/blob/main/python17.ipynb\" target=\"_parent\"><img src=\"https://colab.research.google.com/assets/colab-badge.svg\" alt=\"Open In Colab\"/></a>"
      ]
    },
    {
      "cell_type": "markdown",
      "source": [
        "*   github의 [exam.csv 파일](https://github.com/JakeOh/202504_itwill_oracle88/blob/main/exam.csv)을 다운로드.\n",
        "*   Colab 연결(세션 활성화).\n",
        "*   Colab에 Google Drive 마운트(mount, 연결).\n",
        "*   개인 계정의 Google Drive에 exam.csv 파일을 업로드."
      ],
      "metadata": {
        "id": "CWWeq6gTRBnZ"
      }
    },
    {
      "cell_type": "code",
      "source": [
        "from google.colab import drive\n",
        "drive.mount('/content/drive')"
      ],
      "metadata": {
        "colab": {
          "base_uri": "https://localhost:8080/"
        },
        "id": "1z9YVUI2cNu2",
        "outputId": "fe6d9740-dd74-445a-9024-73ba03f639b4"
      },
      "execution_count": null,
      "outputs": [
        {
          "output_type": "stream",
          "name": "stdout",
          "text": [
            "Mounted at /content/drive\n"
          ]
        }
      ]
    },
    {
      "cell_type": "code",
      "source": [
        "file_path='/content/drive/MyDrive/Colab Notebooks/exam.csv'"
      ],
      "metadata": {
        "id": "GJiVqeUObdbZ"
      },
      "execution_count": null,
      "outputs": []
    },
    {
      "cell_type": "markdown",
      "source": [
        "1. exam.csv 파일을 open\n",
        "1. 파일의 첫번째 줄은 컬럼 이름들이기 때문에, 첫번째 줄은 읽고 무시.\n",
        "1. 파일의 두번째 줄부터 파일 끝(EOF)까지 4번 내용을 반복.\n",
        "1"
      ],
      "metadata": {
        "id": "fjW_HRQnQ16p"
      }
    },
    {
      "cell_type": "markdown",
      "source": [
        ". 각 줄에서 읽은 내용을 쉼표(,)로 분리한 리스트를 빈 리스트에 append.\n",
        "> `[['1', '1', '50', '98', '50'], ['2', '1', '60', '97', '60'], ...]`\n"
      ],
      "metadata": {
        "id": "f5T49rVKQt09"
      }
    },
    {
      "cell_type": "code",
      "source": [
        "with open(file_path) as f:\n",
        "    result=[]\n",
        "    for line in f:\n",
        "        result.append(line.strip().split(','))\n",
        "\n",
        "result.remove(result[0])\n",
        "print(result)"
      ],
      "metadata": {
        "colab": {
          "base_uri": "https://localhost:8080/"
        },
        "id": "c9oRkgd8diId",
        "outputId": "e029fc1e-c17f-44b7-efde-105c1d9c4162"
      },
      "execution_count": null,
      "outputs": [
        {
          "output_type": "stream",
          "name": "stdout",
          "text": [
            "[['1', '1', '50', '98', '50'], ['2', '1', '60', '97', '60'], ['3', '1', '45', '86', '78'], ['4', '1', '30', '98', '58'], ['5', '2', '25', '80', '65'], ['6', '2', '50', '89', '98'], ['7', '2', '80', '90', '45'], ['8', '2', '90', '78', '25'], ['9', '3', '20', '98', '15'], ['10', '3', '50', '98', '45'], ['11', '3', '65', '65', '65'], ['12', '3', '45', '85', '32'], ['13', '4', '46', '98', '65'], ['14', '4', '48', '87', '12'], ['15', '4', '75', '56', '78'], ['16', '4', '58', '98', '65'], ['17', '5', '65', '68', '98'], ['18', '5', '80', '78', '90'], ['19', '5', '89', '68', '87'], ['20', '5', '78', '83', '58']]\n"
          ]
        }
      ]
    },
    {
      "cell_type": "markdown",
      "source": [
        "1. 4번에서 만들어진 2차원 리스트는 문자열들을 저장하고 있는 리스트이기 때문에, 리스트의 모든 값들을 정수(int)로 변환\n",
        "> `[[1, 1, 50, 98, 50], [2, 1, 60, 97, 60], ...]`\n"
      ],
      "metadata": {
        "id": "36I8ewUwcszt"
      }
    },
    {
      "cell_type": "code",
      "source": [
        "for x in result:\n",
        "    for y in x:\n",
        "        y=int (y)\n",
        "\n",
        "print(type(y))\n",
        "print(y)\n",
        "\n",
        "\n",
        "print(type(result[1][3]))\n",
        "print(result[1][3])\n",
        "\n",
        "print(result)"
      ],
      "metadata": {
        "id": "qI2dL269zwdl",
        "colab": {
          "base_uri": "https://localhost:8080/"
        },
        "outputId": "ef6c5fb5-9ddb-4a5f-9515-6fe74ab17bf9"
      },
      "execution_count": null,
      "outputs": [
        {
          "output_type": "stream",
          "name": "stdout",
          "text": [
            "<class 'int'>\n",
            "58\n",
            "<class 'str'>\n",
            "97\n",
            "[['1', '1', '50', '98', '50'], ['2', '1', '60', '97', '60'], ['3', '1', '45', '86', '78'], ['4', '1', '30', '98', '58'], ['5', '2', '25', '80', '65'], ['6', '2', '50', '89', '98'], ['7', '2', '80', '90', '45'], ['8', '2', '90', '78', '25'], ['9', '3', '20', '98', '15'], ['10', '3', '50', '98', '45'], ['11', '3', '65', '65', '65'], ['12', '3', '45', '85', '32'], ['13', '4', '46', '98', '65'], ['14', '4', '48', '87', '12'], ['15', '4', '75', '56', '78'], ['16', '4', '58', '98', '65'], ['17', '5', '65', '68', '98'], ['18', '5', '80', '78', '90'], ['19', '5', '89', '68', '87'], ['20', '5', '78', '83', '58']]\n"
          ]
        }
      ]
    },
    {
      "cell_type": "code",
      "source": [
        "for x in range(len(result)):\n",
        "\n",
        "    for y in range(len(result[x])):\n",
        "        result[x][y]=int(result[x][y])\n"
      ],
      "metadata": {
        "colab": {
          "base_uri": "https://localhost:8080/"
        },
        "id": "zmfQriS7gtQl",
        "outputId": "c20b28c8-f33f-4e33-9486-c5ce19bddc2c"
      },
      "execution_count": null,
      "outputs": [
        {
          "output_type": "stream",
          "name": "stdout",
          "text": [
            "<class 'int'>\n",
            "<class 'int'>\n",
            "[[1, 1, 50, 98, 50], [2, 1, 60, 97, 60], [3, 1, 45, 86, 78], [4, 1, 30, 98, 58], [5, 2, 25, 80, 65], [6, 2, 50, 89, 98], [7, 2, 80, 90, 45], [8, 2, 90, 78, 25], [9, 3, 20, 98, 15], [10, 3, 50, 98, 45], [11, 3, 65, 65, 65], [12, 3, 45, 85, 32], [13, 4, 46, 98, 65], [14, 4, 48, 87, 12], [15, 4, 75, 56, 78], [16, 4, 58, 98, 65], [17, 5, 65, 68, 98], [18, 5, 80, 78, 90], [19, 5, 89, 68, 87], [20, 5, 78, 83, 58]]\n"
          ]
        }
      ]
    },
    {
      "cell_type": "code",
      "source": [
        "for x in range(len(result)):\n",
        "\n",
        "    for y in range(len(result[x])):\n",
        "        print(result[x][y])\n",
        "        print(type((result[x][y])))"
      ],
      "metadata": {
        "id": "jBptIex6uPAc"
      },
      "execution_count": null,
      "outputs": []
    },
    {
      "cell_type": "code",
      "source": [
        "print(result)"
      ],
      "metadata": {
        "colab": {
          "base_uri": "https://localhost:8080/"
        },
        "id": "HygJdbh-ht_I",
        "outputId": "748ca6fd-4966-4624-b367-61679161ea38"
      },
      "execution_count": null,
      "outputs": [
        {
          "output_type": "stream",
          "name": "stdout",
          "text": [
            "[[1, 1, 50, 98, 50], [2, 1, 60, 97, 60], [3, 1, 45, 86, 78], [4, 1, 30, 98, 58], [5, 2, 25, 80, 65], [6, 2, 50, 89, 98], [7, 2, 80, 90, 45], [8, 2, 90, 78, 25], [9, 3, 20, 98, 15], [10, 3, 50, 98, 45], [11, 3, 65, 65, 65], [12, 3, 45, 85, 32], [13, 4, 46, 98, 65], [14, 4, 48, 87, 12], [15, 4, 75, 56, 78], [16, 4, 58, 98, 65], [17, 5, 65, 68, 98], [18, 5, 80, 78, 90], [19, 5, 89, 68, 87], [20, 5, 78, 83, 58]]\n"
          ]
        }
      ]
    },
    {
      "cell_type": "markdown",
      "source": [
        "1. 수학 점수들로만 이루어진 1차원 리스트를 만듦.\n",
        "> `[50, 60, ...]`\n",
        "\n",
        "\n"
      ],
      "metadata": {
        "id": "ZMHYHgxOcumd"
      }
    },
    {
      "cell_type": "code",
      "source": [
        "math=[]\n",
        "for x in result:\n",
        "    math.append(x[2])\n",
        "print(math)"
      ],
      "metadata": {
        "colab": {
          "base_uri": "https://localhost:8080/"
        },
        "id": "uaAfE_aXkaVf",
        "outputId": "44ac3fa4-6cbe-471d-b2a3-d53f478b85f6"
      },
      "execution_count": null,
      "outputs": [
        {
          "output_type": "stream",
          "name": "stdout",
          "text": [
            "[50, 60, 45, 30, 25, 50, 80, 90, 20, 50, 65, 45, 46, 48, 75, 58, 65, 80, 89, 78]\n"
          ]
        }
      ]
    },
    {
      "cell_type": "markdown",
      "source": [
        "1. 수학 점수의 최댓값, 최솟값, 평균 출력.\n"
      ],
      "metadata": {
        "id": "jq-fYRd2cvfN"
      }
    },
    {
      "cell_type": "code",
      "source": [
        "print(f\"최대값은 {max(math)} 입니다 .\")\n",
        "print(f\"최소값은 {min(math)} 입니다 .\")\n"
      ],
      "metadata": {
        "colab": {
          "base_uri": "https://localhost:8080/"
        },
        "id": "qNSwL_Ull66g",
        "outputId": "d94b67d1-e952-41c4-cd2a-bd6dd3bed35e"
      },
      "execution_count": null,
      "outputs": [
        {
          "output_type": "stream",
          "name": "stdout",
          "text": [
            "최대값은 90 입니다 .\n",
            "최소값은 20 입니다 .\n"
          ]
        }
      ]
    },
    {
      "cell_type": "markdown",
      "source": [
        "1. 1반 학생들의 수학 점수 총점, 평균, 최댓값, 최솟값 출력"
      ],
      "metadata": {
        "id": "YNAjTzeEcwJU"
      }
    },
    {
      "cell_type": "code",
      "source": [
        "\n",
        "result_class1=[]\n",
        "for x in result:\n",
        "    if x[1]==1:\n",
        "        result_class1.append(x)\n",
        "print(result_class1)\n",
        "class1_math=[]\n",
        "for x in result_class1:\n",
        "    class1_math.append(x[2])\n",
        "max_math=max(class1_math)\n",
        "min_math=min(class1_math)\n",
        "sum_math=sum(class1_math)\n",
        "avg_math=sum_math/len(class1_math)\n",
        "print(f\"최대값은 {max_math} 입니다 .\")\n",
        "print(f\"최소값은 {min_math} 입니다 .\")\n",
        "print(f\"총점은 {sum_math} 입니다 .\")\n",
        "print(f\"평균은 {avg_math} 입니다 .\")"
      ],
      "metadata": {
        "colab": {
          "base_uri": "https://localhost:8080/"
        },
        "id": "kJjHI2aOrCOy",
        "outputId": "1f2202a3-5869-49c1-e036-ebe513a1a743"
      },
      "execution_count": null,
      "outputs": [
        {
          "output_type": "stream",
          "name": "stdout",
          "text": [
            "[[1, 1, 50, 98, 50], [2, 1, 60, 97, 60], [3, 1, 45, 86, 78], [4, 1, 30, 98, 58]]\n",
            "최대값은 60 입니다 .\n",
            "최소값은 30 입니다 .\n",
            "총점은 185 입니다 .\n",
            "평균은 46.25 입니다 .\n"
          ]
        }
      ]
    }
  ]
}