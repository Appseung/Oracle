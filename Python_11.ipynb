{
  "nbformat": 4,
  "nbformat_minor": 0,
  "metadata": {
    "colab": {
      "provenance": [],
      "authorship_tag": "ABX9TyMIJc12VZic4V9Ou/yNYQn0",
      "include_colab_link": true
    },
    "kernelspec": {
      "name": "python3",
      "display_name": "Python 3"
    },
    "language_info": {
      "name": "python"
    }
  },
  "cells": [
    {
      "cell_type": "markdown",
      "metadata": {
        "id": "view-in-github",
        "colab_type": "text"
      },
      "source": [
        "<a href=\"https://colab.research.google.com/github/Appseung/Oracle/blob/main/Python_11.ipynb\" target=\"_parent\"><img src=\"https://colab.research.google.com/assets/colab-badge.svg\" alt=\"Open In Colab\"/></a>"
      ]
    },
    {
      "cell_type": "markdown",
      "source": [
        "#함수 (Function)"
      ],
      "metadata": {
        "id": "dNRMlEEgykrx"
      }
    },
    {
      "cell_type": "markdown",
      "source": [
        "* **함수(Function)** : 기능을 수행하는 코드 블록.\n",
        "* **인수(Argument)** : 함수가 기능을 수랭하기 위해서 값이 필요한 경우 , 함수를 호출할 때 함수에게 전달해 주는 값.\n",
        "* **매개변수(parameter)** : 아규먼트를 저장하기 위해서 함수를 정의할 때 선언하는 변수.\n",
        "* **반환값(return value)** : 함수가 기능을 수행한 후에 그 결과로 함수를 호출한 곳에 되돌려 주는 값.\n",
        "    * 함수에 따라서 반환값이 있는 함수도 있고 , 반환값이 없는 함수도 있음.\n",
        "        * 예 : print()함수는 반환값이 없음.\n",
        "\n",
        "```\n",
        "def say_hello(name):               # ✅ 'name'은 파라미터\n",
        "    message = f\"안녕, {name}!\"      # 인사 메시지를 생성\n",
        "    return message                 # ✅ 반환값\n",
        "\n",
        "result = say_hello(\"승엽\")         # ✅ \"승엽\"은 아규먼트\n",
        "print(result)                      # 출력: 안녕, 승엽!\n",
        "\n",
        "```"
      ],
      "metadata": {
        "id": "9N-27XmSzPgt"
      }
    },
    {
      "cell_type": "code",
      "source": [],
      "metadata": {
        "id": "qKHGdyz027AT"
      },
      "execution_count": null,
      "outputs": []
    },
    {
      "cell_type": "code",
      "source": [
        "result=len('안녕하세요')\n",
        "print(result)\n",
        "\n",
        "# 함수 이름 : len\n",
        "# 아규먼트 : '안녕하세요'\n",
        "# 함수 호출 : len('안녕하세요.')\n",
        "# 반환값 : 6\n"
      ],
      "metadata": {
        "colab": {
          "base_uri": "https://localhost:8080/"
        },
        "id": "-dzHgO-31r1s",
        "outputId": "4d8f9e95-7299-4254-daf0-0d1852d38174"
      },
      "execution_count": 3,
      "outputs": [
        {
          "output_type": "stream",
          "name": "stdout",
          "text": [
            "5\n"
          ]
        }
      ]
    },
    {
      "cell_type": "markdown",
      "source": [
        "#함수 선언(정의)"
      ],
      "metadata": {
        "id": "5dzovpxY3RDV"
      }
    },
    {
      "cell_type": "markdown",
      "source": [
        "```\n",
        "def function_name ([parameter1,parameter2,parameter3]) :\n",
        "    [\"\"\"문서화 주석(documentation comments) : 함수에 대한 설명\"\"\"]\n",
        "    함수가 수행할 기능을 코드 블록으로 작성\n",
        "    [ return 반환값 ]\n",
        "\n",
        "```\n"
      ],
      "metadata": {
        "id": "8hMX9RMI3SEO"
      }
    },
    {
      "cell_type": "code",
      "source": [
        "def subtract(x,y):\n",
        "    \"\"\"내가 처음 만드는 뺄셈 함수 \"\"\"\n",
        "\n",
        "    return x-y"
      ],
      "metadata": {
        "id": "Mvb5T37b4SE-"
      },
      "execution_count": 9,
      "outputs": []
    },
    {
      "cell_type": "code",
      "source": [
        "# sbstract()함수를 호출.\n",
        "result = subtract(10,2)\n",
        "print(result)"
      ],
      "metadata": {
        "colab": {
          "base_uri": "https://localhost:8080/"
        },
        "id": "wyYgqvQq6Eln",
        "outputId": "6f008583-7402-4649-bec1-40f59a7280a9"
      },
      "execution_count": 13,
      "outputs": [
        {
          "output_type": "stream",
          "name": "stdout",
          "text": [
            "8\n"
          ]
        }
      ]
    },
    {
      "cell_type": "code",
      "source": [
        "print(subtract(10,1))"
      ],
      "metadata": {
        "colab": {
          "base_uri": "https://localhost:8080/"
        },
        "id": "VZ-bofAz4zvk",
        "outputId": "fe74b6fe-8085-425f-bb97-acae770b1d0c"
      },
      "execution_count": 12,
      "outputs": [
        {
          "output_type": "stream",
          "name": "stdout",
          "text": [
            "9\n"
          ]
        }
      ]
    },
    {
      "cell_type": "markdown",
      "source": [
        "#값을 반환하지 않는 함수 선언"
      ],
      "metadata": {
        "id": "xnCnLEP_-b5H"
      }
    },
    {
      "cell_type": "code",
      "source": [
        "def repeat_message(msg,n):\n",
        "    \"\"\"\n",
        "    msg를 n번 반복해서 출력하는 함수.\n",
        "\n",
        "    @param msg -  출력할 메세지. 자열 타입.\n",
        "    @param n - 출력할 횟수. 0 또는 양의 정수.\n",
        "    @return  None\n",
        "\n",
        "    \"\"\"\n",
        "    for _ in range(n):\n",
        "        print(msg)\n",
        "\n",
        "#    return None # return None 문장은 생략 가능\n",
        "\n"
      ],
      "metadata": {
        "id": "seD0kGB9-d26"
      },
      "execution_count": 17,
      "outputs": []
    },
    {
      "cell_type": "code",
      "source": [
        "repeat_message('ㅎㅇ',3)\n",
        "\n"
      ],
      "metadata": {
        "colab": {
          "base_uri": "https://localhost:8080/"
        },
        "id": "hC0yq263Ad3O",
        "outputId": "e38e5526-a066-4d04-e9dc-1009f539823a"
      },
      "execution_count": 18,
      "outputs": [
        {
          "output_type": "stream",
          "name": "stdout",
          "text": [
            "ㅎㅇ\n",
            "ㅎㅇ\n",
            "ㅎㅇ\n"
          ]
        }
      ]
    },
    {
      "cell_type": "code",
      "source": [
        "repeat_message('hi python',5)"
      ],
      "metadata": {
        "colab": {
          "base_uri": "https://localhost:8080/"
        },
        "id": "vdaCb_-DA4oO",
        "outputId": "e920f589-c386-4284-833c-e775513b7337"
      },
      "execution_count": 19,
      "outputs": [
        {
          "output_type": "stream",
          "name": "stdout",
          "text": [
            "hi python\n",
            "hi python\n",
            "hi python\n",
            "hi python\n",
            "hi python\n"
          ]
        }
      ]
    },
    {
      "cell_type": "markdown",
      "source": [
        "## 2개 이상의 값을 반환하는 함수 선언"
      ],
      "metadata": {
        "id": "qGnDK-IfBlOG"
      }
    },
    {
      "cell_type": "code",
      "source": [
        "def plus_and_minus(x,y):\n",
        "    \"\"\"\n",
        "    두 숫자들의 덧셈과 뺄셈 결과를 반환하는 함수.\n",
        "    @param x 숫자 타입 ( int 또는 float).\n",
        "    @param y 숫자 타입 ( int 또는 float).\n",
        "    @return x + y , x - y\n",
        "    \"\"\"\n",
        "    return x+y,x-y\n"
      ],
      "metadata": {
        "id": "g6oUDkm5Bnmz"
      },
      "execution_count": 20,
      "outputs": []
    },
    {
      "cell_type": "code",
      "source": [
        "a,b=plus_and_minus(10,7)\n",
        "print(a,b)"
      ],
      "metadata": {
        "colab": {
          "base_uri": "https://localhost:8080/"
        },
        "id": "m5Vyb1KBC4Dl",
        "outputId": "d8da94a3-0cad-40ac-f8d4-24239c362eb4"
      },
      "execution_count": 22,
      "outputs": [
        {
          "output_type": "stream",
          "name": "stdout",
          "text": [
            "17 3\n"
          ]
        }
      ]
    },
    {
      "cell_type": "code",
      "source": [
        "result = plus_and_minus(10,7) #값을 하나로 몰아버리면 튜플로 값이 나온다.\n",
        "print(type(result)) # 리턴값들을 아이템으로 갖는 tuple\n",
        "print(result)"
      ],
      "metadata": {
        "colab": {
          "base_uri": "https://localhost:8080/"
        },
        "id": "XF_fJ5S0DjRt",
        "outputId": "6f229d32-9f37-478c-bd19-d16dbfda6275"
      },
      "execution_count": 24,
      "outputs": [
        {
          "output_type": "stream",
          "name": "stdout",
          "text": [
            "<class 'tuple'>\n",
            "(17, 3)\n"
          ]
        }
      ]
    }
  ]
}