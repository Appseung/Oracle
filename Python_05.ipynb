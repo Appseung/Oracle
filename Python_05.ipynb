{
  "nbformat": 4,
  "nbformat_minor": 0,
  "metadata": {
    "colab": {
      "provenance": [],
      "toc_visible": true,
      "authorship_tag": "ABX9TyNKcrdN+2DDvhuJXfMbFptk",
      "include_colab_link": true
    },
    "kernelspec": {
      "name": "python3",
      "display_name": "Python 3"
    },
    "language_info": {
      "name": "python"
    }
  },
  "cells": [
    {
      "cell_type": "markdown",
      "metadata": {
        "id": "view-in-github",
        "colab_type": "text"
      },
      "source": [
        "<a href=\"https://colab.research.google.com/github/Appseung/Oracle/blob/main/Python_05.ipynb\" target=\"_parent\"><img src=\"https://colab.research.google.com/assets/colab-badge.svg\" alt=\"Open In Colab\"/></a>"
      ]
    },
    {
      "cell_type": "markdown",
      "source": [
        "#for 반복문"
      ],
      "metadata": {
        "id": "SwvXtDuNKPax"
      }
    },
    {
      "cell_type": "markdown",
      "source": [
        "##문법"
      ],
      "metadata": {
        "id": "VP9Rbtb6KLbY"
      }
    },
    {
      "cell_type": "markdown",
      "source": [
        "```\n",
        "for 변수 in iterable-type:\n",
        "    반복해서 실행할 코드 블록\n",
        "```\n",
        "\n",
        "* iterable-type: 반복(iteration)이 가능한 데이터 타입.\n",
        "    * str(문자열) , range , list , tuple , dict , ...\n",
        "* for 반복문은 iterable-type의 객체에서 원소들을 하나씩 순서대로 꺼내서 변수에 저장하고 , 코드 블록을 수행.\n",
        "* for 반복문은 iterable-type의 객체에서 더이상 꺼낼 원소가 없을 때 반복을 종료."
      ],
      "metadata": {
        "id": "4Y3bnLWDKWH5"
      }
    },
    {
      "cell_type": "code",
      "execution_count": null,
      "metadata": {
        "colab": {
          "base_uri": "https://localhost:8080/"
        },
        "id": "9VUgT_FoJ8S3",
        "outputId": "3d28dc4f-0781-4ee8-ea64-bb152bf56740"
      },
      "outputs": [
        {
          "output_type": "stream",
          "name": "stdout",
          "text": [
            "안\n",
            "녕\n",
            "하\n",
            "세\n",
            "요\n",
            "!\n",
            "안안\n",
            "녕녕\n",
            "하하\n",
            "세세\n",
            "요요\n",
            "!!\n"
          ]
        }
      ],
      "source": [
        "for x in '안녕하세요!':\n",
        "    print(x)\n",
        "\n",
        "for x in '안녕하세요!':\n",
        "    print(x,end=\"\")\n",
        "    print(x)\n"
      ]
    },
    {
      "cell_type": "markdown",
      "source": [
        "## `range()` 함수와 for 반복문"
      ],
      "metadata": {
        "id": "HoHVY2XRMtPo"
      }
    },
    {
      "cell_type": "code",
      "source": [
        "# range(start,stop): iteration할 때마다 start <= x < stop 범위의 1씩 증가하는 정수를 생성.\n",
        "\n",
        "\n",
        "for x in range(1,6):\n",
        "    print(x)"
      ],
      "metadata": {
        "colab": {
          "base_uri": "https://localhost:8080/"
        },
        "id": "weWtBzDIM5i2",
        "outputId": "bb6d5895-ab99-45b6-ffe0-a0087d4218fe"
      },
      "execution_count": null,
      "outputs": [
        {
          "output_type": "stream",
          "name": "stdout",
          "text": [
            "1\n",
            "2\n",
            "3\n",
            "4\n",
            "5\n"
          ]
        }
      ]
    },
    {
      "cell_type": "code",
      "source": [
        "#range(stop) : iteration을 할 때마다 0 <= x < stop 범위의 1씩 증가하는 정수를 생성.\n",
        "for x in range(5):\n",
        "    print(x)"
      ],
      "metadata": {
        "colab": {
          "base_uri": "https://localhost:8080/"
        },
        "id": "d7pK0jc3OZOB",
        "outputId": "0d2972be-11f8-4288-ef6e-985ba4108038"
      },
      "execution_count": null,
      "outputs": [
        {
          "output_type": "stream",
          "name": "stdout",
          "text": [
            "0\n",
            "1\n",
            "2\n",
            "3\n",
            "4\n"
          ]
        }
      ]
    },
    {
      "cell_type": "code",
      "source": [
        "#range(start, stop ,step) : step이 양수인 경우, start <= x < stop 범위의 step 만큼씩 증가하는 정수를 생성.\n",
        "for x in range(0,10,2):\n",
        "    print(x)\n"
      ],
      "metadata": {
        "colab": {
          "base_uri": "https://localhost:8080/"
        },
        "id": "4ZdRvQrzPEwh",
        "outputId": "c50e5afe-9592-4918-c1ff-ebb89ef69a76"
      },
      "execution_count": null,
      "outputs": [
        {
          "output_type": "stream",
          "name": "stdout",
          "text": [
            "0\n",
            "2\n",
            "4\n",
            "6\n",
            "8\n"
          ]
        }
      ]
    },
    {
      "cell_type": "code",
      "source": [
        "#range(start , stop , step) : step이 음수인 경우, start >= x > stop 범위의 step 만큼씩 감소하는 정수를 생성.\n",
        "for x in range(5,0,-1):\n",
        "    print(x)"
      ],
      "metadata": {
        "colab": {
          "base_uri": "https://localhost:8080/"
        },
        "id": "hEcDkVHfQBZm",
        "outputId": "09f625e6-385c-4f7b-9668-0a359eca6306"
      },
      "execution_count": null,
      "outputs": [
        {
          "output_type": "stream",
          "name": "stdout",
          "text": [
            "5\n",
            "4\n",
            "3\n",
            "2\n",
            "1\n"
          ]
        }
      ]
    },
    {
      "cell_type": "markdown",
      "source": [
        "##연습문제"
      ],
      "metadata": {
        "id": "fNnrM7B-Q6QS"
      }
    },
    {
      "cell_type": "markdown",
      "source": [
        "1이상 10 미만의 홀수들을 내림차순으로 출력"
      ],
      "metadata": {
        "id": "cH9iqSD6Q1hP"
      }
    },
    {
      "cell_type": "code",
      "source": [
        "for x in range(9,0,-2):\n",
        "    print(x)"
      ],
      "metadata": {
        "colab": {
          "base_uri": "https://localhost:8080/"
        },
        "id": "HH6ojO6YQ7ew",
        "outputId": "a3fc3c0c-a1f0-4c7d-d882-d3742cc0750b"
      },
      "execution_count": null,
      "outputs": [
        {
          "output_type": "stream",
          "name": "stdout",
          "text": [
            "9\n",
            "7\n",
            "5\n",
            "3\n",
            "1\n"
          ]
        }
      ]
    },
    {
      "cell_type": "markdown",
      "source": [
        "python04의 기존 문제를 for문으로 변경"
      ],
      "metadata": {
        "id": "5wRQzvcQRiYa"
      }
    },
    {
      "cell_type": "code",
      "source": [
        "\n",
        "for x in range(1,10):\n",
        "    if x <=5:\n",
        "        print(\"*\"*x)\n",
        "    else:\n",
        "        print(\"*\"*(10-x))"
      ],
      "metadata": {
        "colab": {
          "base_uri": "https://localhost:8080/"
        },
        "id": "uPfNA0y7RlvX",
        "outputId": "41520194-4a41-4d66-b5f9-058beed9108c"
      },
      "execution_count": null,
      "outputs": [
        {
          "output_type": "stream",
          "name": "stdout",
          "text": [
            "*\n",
            "**\n",
            "***\n",
            "****\n",
            "*****\n",
            "****\n",
            "***\n",
            "**\n",
            "*\n"
          ]
        }
      ]
    },
    {
      "cell_type": "markdown",
      "source": [
        "##중첩 for문"
      ],
      "metadata": {
        "id": "_5e0JH2vW_-A"
      }
    },
    {
      "cell_type": "markdown",
      "source": [
        "for - in 문장과 range()함수를 사용해서 구구단 1단부터 9단 출력"
      ],
      "metadata": {
        "id": "vxnmuIXZXD-5"
      }
    },
    {
      "cell_type": "code",
      "source": [
        "for x in range(1,10):\n",
        "    print(f\" --- {x}단 --- \")\n",
        "    for y in range(1,10):\n",
        "        print(f\"{x} x {y} = {x*y}\")"
      ],
      "metadata": {
        "colab": {
          "base_uri": "https://localhost:8080/"
        },
        "collapsed": true,
        "id": "6qbmkgWPXC2g",
        "outputId": "8505ad25-325b-46a1-88af-0e65db8971b1"
      },
      "execution_count": null,
      "outputs": [
        {
          "output_type": "stream",
          "name": "stdout",
          "text": [
            " --- 1단 --- \n",
            "1 x 1 = 1\n",
            "1 x 2 = 2\n",
            "1 x 3 = 3\n",
            "1 x 4 = 4\n",
            "1 x 5 = 5\n",
            "1 x 6 = 6\n",
            "1 x 7 = 7\n",
            "1 x 8 = 8\n",
            "1 x 9 = 9\n",
            " --- 2단 --- \n",
            "2 x 1 = 2\n",
            "2 x 2 = 4\n",
            "2 x 3 = 6\n",
            "2 x 4 = 8\n",
            "2 x 5 = 10\n",
            "2 x 6 = 12\n",
            "2 x 7 = 14\n",
            "2 x 8 = 16\n",
            "2 x 9 = 18\n",
            " --- 3단 --- \n",
            "3 x 1 = 3\n",
            "3 x 2 = 6\n",
            "3 x 3 = 9\n",
            "3 x 4 = 12\n",
            "3 x 5 = 15\n",
            "3 x 6 = 18\n",
            "3 x 7 = 21\n",
            "3 x 8 = 24\n",
            "3 x 9 = 27\n",
            " --- 4단 --- \n",
            "4 x 1 = 4\n",
            "4 x 2 = 8\n",
            "4 x 3 = 12\n",
            "4 x 4 = 16\n",
            "4 x 5 = 20\n",
            "4 x 6 = 24\n",
            "4 x 7 = 28\n",
            "4 x 8 = 32\n",
            "4 x 9 = 36\n",
            " --- 5단 --- \n",
            "5 x 1 = 5\n",
            "5 x 2 = 10\n",
            "5 x 3 = 15\n",
            "5 x 4 = 20\n",
            "5 x 5 = 25\n",
            "5 x 6 = 30\n",
            "5 x 7 = 35\n",
            "5 x 8 = 40\n",
            "5 x 9 = 45\n",
            " --- 6단 --- \n",
            "6 x 1 = 6\n",
            "6 x 2 = 12\n",
            "6 x 3 = 18\n",
            "6 x 4 = 24\n",
            "6 x 5 = 30\n",
            "6 x 6 = 36\n",
            "6 x 7 = 42\n",
            "6 x 8 = 48\n",
            "6 x 9 = 54\n",
            " --- 7단 --- \n",
            "7 x 1 = 7\n",
            "7 x 2 = 14\n",
            "7 x 3 = 21\n",
            "7 x 4 = 28\n",
            "7 x 5 = 35\n",
            "7 x 6 = 42\n",
            "7 x 7 = 49\n",
            "7 x 8 = 56\n",
            "7 x 9 = 63\n",
            " --- 8단 --- \n",
            "8 x 1 = 8\n",
            "8 x 2 = 16\n",
            "8 x 3 = 24\n",
            "8 x 4 = 32\n",
            "8 x 5 = 40\n",
            "8 x 6 = 48\n",
            "8 x 7 = 56\n",
            "8 x 8 = 64\n",
            "8 x 9 = 72\n",
            " --- 9단 --- \n",
            "9 x 1 = 9\n",
            "9 x 2 = 18\n",
            "9 x 3 = 27\n",
            "9 x 4 = 36\n",
            "9 x 5 = 45\n",
            "9 x 6 = 54\n",
            "9 x 7 = 63\n",
            "9 x 8 = 72\n",
            "9 x 9 = 81\n"
          ]
        }
      ]
    },
    {
      "cell_type": "markdown",
      "source": [
        "##break,continue"
      ],
      "metadata": {
        "id": "1bk-6Sy_ZEhf"
      }
    },
    {
      "cell_type": "markdown",
      "source": [
        "* `break` : iteration 을 종료.\n",
        "* `continue` : 그 다음 iteration을 수행."
      ],
      "metadata": {
        "id": "0w4ggK90ZJVa"
      }
    },
    {
      "cell_type": "code",
      "source": [
        "for x in range(1,6):\n",
        "    if x==3:\n",
        "        break;\n",
        "    print(x)\n"
      ],
      "metadata": {
        "colab": {
          "base_uri": "https://localhost:8080/"
        },
        "id": "SBLMigJRZRvp",
        "outputId": "5762af14-9387-4607-8487-ca68423b9829"
      },
      "execution_count": null,
      "outputs": [
        {
          "output_type": "stream",
          "name": "stdout",
          "text": [
            "1\n",
            "2\n"
          ]
        }
      ]
    },
    {
      "cell_type": "code",
      "source": [
        "for x in range(1,6):\n",
        "    if x == 3:\n",
        "        continue\n",
        "    print(x)"
      ],
      "metadata": {
        "colab": {
          "base_uri": "https://localhost:8080/"
        },
        "id": "0B6q4Q8jaBES",
        "outputId": "c94062b4-a853-4a30-ff53-94236eed354e"
      },
      "execution_count": null,
      "outputs": [
        {
          "output_type": "stream",
          "name": "stdout",
          "text": [
            "1\n",
            "2\n",
            "4\n",
            "5\n"
          ]
        }
      ]
    },
    {
      "cell_type": "markdown",
      "source": [
        "##연습문제2\n",
        "\n",
        "구구단 출력 1x1 ~~ 9x9  \n",
        "* break 문장을 사용\n",
        "* break 문장 사용 x"
      ],
      "metadata": {
        "id": "EnVtEi4Xa8o5"
      }
    },
    {
      "cell_type": "code",
      "source": [
        "##break 사용하지 않는 방법\n",
        "for x in range(1,10):\n",
        "    print(f\" --- {x}단 --- \")\n",
        "    for y in range(1,x+1):\n",
        "        print(f\"{x} x {y} = {x*y}\")"
      ],
      "metadata": {
        "colab": {
          "base_uri": "https://localhost:8080/"
        },
        "collapsed": true,
        "id": "x5C1kw4ka89h",
        "outputId": "66a019db-c627-4d28-be41-5174b8bbbd7e"
      },
      "execution_count": null,
      "outputs": [
        {
          "output_type": "stream",
          "name": "stdout",
          "text": [
            " --- 1단 --- \n",
            "1 x 1 = 1\n",
            " --- 2단 --- \n",
            "2 x 1 = 2\n",
            "2 x 2 = 4\n",
            " --- 3단 --- \n",
            "3 x 1 = 3\n",
            "3 x 2 = 6\n",
            "3 x 3 = 9\n",
            " --- 4단 --- \n",
            "4 x 1 = 4\n",
            "4 x 2 = 8\n",
            "4 x 3 = 12\n",
            "4 x 4 = 16\n",
            " --- 5단 --- \n",
            "5 x 1 = 5\n",
            "5 x 2 = 10\n",
            "5 x 3 = 15\n",
            "5 x 4 = 20\n",
            "5 x 5 = 25\n",
            " --- 6단 --- \n",
            "6 x 1 = 6\n",
            "6 x 2 = 12\n",
            "6 x 3 = 18\n",
            "6 x 4 = 24\n",
            "6 x 5 = 30\n",
            "6 x 6 = 36\n",
            " --- 7단 --- \n",
            "7 x 1 = 7\n",
            "7 x 2 = 14\n",
            "7 x 3 = 21\n",
            "7 x 4 = 28\n",
            "7 x 5 = 35\n",
            "7 x 6 = 42\n",
            "7 x 7 = 49\n",
            " --- 8단 --- \n",
            "8 x 1 = 8\n",
            "8 x 2 = 16\n",
            "8 x 3 = 24\n",
            "8 x 4 = 32\n",
            "8 x 5 = 40\n",
            "8 x 6 = 48\n",
            "8 x 7 = 56\n",
            "8 x 8 = 64\n",
            " --- 9단 --- \n",
            "9 x 1 = 9\n",
            "9 x 2 = 18\n",
            "9 x 3 = 27\n",
            "9 x 4 = 36\n",
            "9 x 5 = 45\n",
            "9 x 6 = 54\n",
            "9 x 7 = 63\n",
            "9 x 8 = 72\n",
            "9 x 9 = 81\n"
          ]
        }
      ]
    },
    {
      "cell_type": "code",
      "source": [
        "##break 사용하는 방법\n",
        "for x in range(1,10):\n",
        "    print(f\" --- {x}단 --- \")\n",
        "    for y in range(1,10):\n",
        "        print(f\"{x} x {y} = {x*y}\")\n",
        "        if y==x:\n",
        "            break"
      ],
      "metadata": {
        "colab": {
          "base_uri": "https://localhost:8080/"
        },
        "collapsed": true,
        "id": "jSGFnOiXbWjq",
        "outputId": "7fc709d8-5ccd-4874-e5ec-08bb46ecd55a"
      },
      "execution_count": null,
      "outputs": [
        {
          "output_type": "stream",
          "name": "stdout",
          "text": [
            " --- 1단 --- \n",
            "1 x 1 = 1\n",
            " --- 2단 --- \n",
            "2 x 1 = 2\n",
            "2 x 2 = 4\n",
            " --- 3단 --- \n",
            "3 x 1 = 3\n",
            "3 x 2 = 6\n",
            "3 x 3 = 9\n",
            " --- 4단 --- \n",
            "4 x 1 = 4\n",
            "4 x 2 = 8\n",
            "4 x 3 = 12\n",
            "4 x 4 = 16\n",
            " --- 5단 --- \n",
            "5 x 1 = 5\n",
            "5 x 2 = 10\n",
            "5 x 3 = 15\n",
            "5 x 4 = 20\n",
            "5 x 5 = 25\n",
            " --- 6단 --- \n",
            "6 x 1 = 6\n",
            "6 x 2 = 12\n",
            "6 x 3 = 18\n",
            "6 x 4 = 24\n",
            "6 x 5 = 30\n",
            "6 x 6 = 36\n",
            " --- 7단 --- \n",
            "7 x 1 = 7\n",
            "7 x 2 = 14\n",
            "7 x 3 = 21\n",
            "7 x 4 = 28\n",
            "7 x 5 = 35\n",
            "7 x 6 = 42\n",
            "7 x 7 = 49\n",
            " --- 8단 --- \n",
            "8 x 1 = 8\n",
            "8 x 2 = 16\n",
            "8 x 3 = 24\n",
            "8 x 4 = 32\n",
            "8 x 5 = 40\n",
            "8 x 6 = 48\n",
            "8 x 7 = 56\n",
            "8 x 8 = 64\n",
            " --- 9단 --- \n",
            "9 x 1 = 9\n",
            "9 x 2 = 18\n",
            "9 x 3 = 27\n",
            "9 x 4 = 36\n",
            "9 x 5 = 45\n",
            "9 x 6 = 54\n",
            "9 x 7 = 63\n",
            "9 x 8 = 72\n",
            "9 x 9 = 81\n"
          ]
        }
      ]
    },
    {
      "cell_type": "markdown",
      "source": [
        "1부터 10(포함)까지 정수들을 한 줄에 출력\n",
        "\n"
      ],
      "metadata": {
        "id": "8riERAzzexvz"
      }
    },
    {
      "cell_type": "code",
      "source": [
        "for x in range(1,11):\n",
        "    print(x ,end=\" \")\n"
      ],
      "metadata": {
        "colab": {
          "base_uri": "https://localhost:8080/"
        },
        "id": "dxEZGYure3xp",
        "outputId": "f0a0df5f-4bd8-4c53-eb7f-2a6784556860"
      },
      "execution_count": null,
      "outputs": [
        {
          "output_type": "stream",
          "name": "stdout",
          "text": [
            "1 2 3 4 5 6 7 8 9 10 "
          ]
        }
      ]
    },
    {
      "cell_type": "markdown",
      "source": [
        "##연습문제3"
      ],
      "metadata": {
        "id": "OLXmxOUFw7zj"
      }
    },
    {
      "cell_type": "markdown",
      "source": [
        "### 1."
      ],
      "metadata": {
        "id": "XbWWs5Siy3WD"
      }
    },
    {
      "cell_type": "code",
      "source": [
        "for x in range(0,4):\n",
        "    for y in range(1,4):\n",
        "        if (y+(3*x))==10:\n",
        "            print(f\"{y+(3*x)} little indian boys!\")\n",
        "            break\n",
        "        print(y+(3*x),end=\" little \" )\n",
        "        if y==3:\n",
        "            print(\"indian\")"
      ],
      "metadata": {
        "colab": {
          "base_uri": "https://localhost:8080/"
        },
        "id": "-F9WsrJ1w85Z",
        "outputId": "2dba0054-c0a6-4c41-a6e4-2abcc67dae61"
      },
      "execution_count": null,
      "outputs": [
        {
          "output_type": "stream",
          "name": "stdout",
          "text": [
            "1 little 2 little 3 little indian\n",
            "4 little 5 little 6 little indian\n",
            "7 little 8 little 9 little indian\n",
            "10 little indian boys!\n"
          ]
        }
      ]
    },
    {
      "cell_type": "markdown",
      "source": [
        "1= 정답"
      ],
      "metadata": {
        "id": "Pl1U8Pig_2NE"
      }
    },
    {
      "cell_type": "code",
      "source": [
        "for n in range(1,11):\n",
        "    print(n, 'little',end='  ')\n",
        "    if n % 3 == 0:\n",
        "        print(\"indian\")\n",
        "print(\"indian boys!\")"
      ],
      "metadata": {
        "colab": {
          "base_uri": "https://localhost:8080/"
        },
        "id": "3fqsseCY_3zW",
        "outputId": "054cd8f0-0698-4314-f50f-71b7200e9ca0"
      },
      "execution_count": null,
      "outputs": [
        {
          "output_type": "stream",
          "name": "stdout",
          "text": [
            "1 little  2 little  3 little  indian\n",
            "4 little  5 little  6 little  indian\n",
            "7 little  8 little  9 little  indian\n",
            "10 little  indian boys!\n"
          ]
        }
      ]
    },
    {
      "cell_type": "markdown",
      "source": [
        "###2."
      ],
      "metadata": {
        "id": "MPGk4O0wxWg7"
      }
    },
    {
      "cell_type": "code",
      "source": [
        "for x in range (0,10):\n",
        "    for y in range(1, 11):\n",
        "        if y%3==0:\n",
        "            print(\"*\",end=\"   \")\n",
        "            continue\n",
        "        if (10*(x+1))%30==0:\n",
        "            if y==10:\n",
        "                 print((10*x)+y,end=\"   \")\n",
        "                 continue\n",
        "            print(\"*\",end=\"   \")\n",
        "            continue\n",
        "        print((10*x)+y,end=\"   \")\n",
        "\n",
        "    print(\"\\n\")"
      ],
      "metadata": {
        "colab": {
          "base_uri": "https://localhost:8080/"
        },
        "id": "TE7xgle1y7sN",
        "outputId": "db296d1c-55cd-4c2c-c14e-0834b2131b15"
      },
      "execution_count": null,
      "outputs": [
        {
          "output_type": "stream",
          "name": "stdout",
          "text": [
            "1   2   *   4   5   *   7   8   *   10   \n",
            "\n",
            "11   12   *   14   15   *   17   18   *   20   \n",
            "\n",
            "*   *   *   *   *   *   *   *   *   30   \n",
            "\n",
            "31   32   *   34   35   *   37   38   *   40   \n",
            "\n",
            "41   42   *   44   45   *   47   48   *   50   \n",
            "\n",
            "*   *   *   *   *   *   *   *   *   60   \n",
            "\n",
            "61   62   *   64   65   *   67   68   *   70   \n",
            "\n",
            "71   72   *   74   75   *   77   78   *   80   \n",
            "\n",
            "*   *   *   *   *   *   *   *   *   90   \n",
            "\n",
            "91   92   *   94   95   *   97   98   *   100   \n",
            "\n"
          ]
        }
      ]
    },
    {
      "cell_type": "markdown",
      "source": [
        "문제 2 정답"
      ],
      "metadata": {
        "id": "GzKzQ81tBIuE"
      }
    },
    {
      "cell_type": "code",
      "source": [
        "for n in range(1, 101):\n",
        "    n_1=n % 10 # 숫자 n을 10으로 나눈 나머지\n",
        "    n_10= n // 10 # 숫자 n을 10으로 나눈 몫\n",
        "    condition1= n_1==3 or n_1==6 or n_1==9\n",
        "    condition2= n_10==3 or n_10==6 or n_10==9\n",
        "    if condition1 or condition2:\n",
        "        print('*',end=\"\\t\")\n",
        "    else:\n",
        "        print(n , end = '\\t')\n",
        "    if n_1==0:\n",
        "        print()"
      ],
      "metadata": {
        "colab": {
          "base_uri": "https://localhost:8080/"
        },
        "id": "vwa41ePUBIdV",
        "outputId": "4026f26b-5095-4b1e-b3f7-e3cf4df2c5b0"
      },
      "execution_count": null,
      "outputs": [
        {
          "output_type": "stream",
          "name": "stdout",
          "text": [
            "1\t2\t*\t4\t5\t*\t7\t8\t*\t10\t\n",
            "11\t12\t*\t14\t15\t*\t17\t18\t*\t20\t\n",
            "21\t22\t*\t24\t25\t*\t27\t28\t*\t*\t\n",
            "*\t*\t*\t*\t*\t*\t*\t*\t*\t40\t\n",
            "41\t42\t*\t44\t45\t*\t47\t48\t*\t50\t\n",
            "51\t52\t*\t54\t55\t*\t57\t58\t*\t*\t\n",
            "*\t*\t*\t*\t*\t*\t*\t*\t*\t70\t\n",
            "71\t72\t*\t74\t75\t*\t77\t78\t*\t80\t\n",
            "81\t82\t*\t84\t85\t*\t87\t88\t*\t*\t\n",
            "*\t*\t*\t*\t*\t*\t*\t*\t*\t100\t\n"
          ]
        }
      ]
    },
    {
      "cell_type": "markdown",
      "source": [
        "문제 2 정답 -2 버전 (원래 하려던 버전)"
      ],
      "metadata": {
        "id": "wcd4AEGGH3__"
      }
    },
    {
      "cell_type": "code",
      "source": [
        "for n in range (1,101):\n",
        "    n_1 = n % 10 # 일의 자릿수\n",
        "    n_10 = n // 10 # 십의 자리수\n",
        "    if (( n_1 != 0 )and ( n_1 % 3 )) or ( n_10 != 0 )and ( n_10 % 3 ) ==0:\n",
        "        print('*',end='\\t')\n",
        "    else:\n",
        "        print(n,end='\\t')\n",
        "    if n % 10==0:\n",
        "        print()"
      ],
      "metadata": {
        "colab": {
          "base_uri": "https://localhost:8080/"
        },
        "id": "wImpmInBF2cs",
        "outputId": "a9c7127b-2d33-4e82-809b-47184a5918b8"
      },
      "execution_count": null,
      "outputs": [
        {
          "output_type": "stream",
          "name": "stdout",
          "text": [
            "1\t2\t*\t4\t5\t*\t7\t8\t*\t10\t\n",
            "11\t12\t*\t14\t15\t*\t17\t18\t*\t20\t\n",
            "21\t22\t*\t24\t25\t*\t27\t28\t*\t*\t\n",
            "*\t*\t*\t*\t*\t*\t*\t*\t*\t40\t\n",
            "41\t42\t*\t44\t45\t*\t47\t48\t*\t50\t\n",
            "51\t52\t*\t54\t55\t*\t57\t58\t*\t*\t\n",
            "*\t*\t*\t*\t*\t*\t*\t*\t*\t70\t\n",
            "71\t72\t*\t74\t75\t*\t77\t78\t*\t80\t\n",
            "81\t82\t*\t84\t85\t*\t87\t88\t*\t*\t\n",
            "*\t*\t*\t*\t*\t*\t*\t*\t*\t100\t\n"
          ]
        }
      ]
    },
    {
      "cell_type": "markdown",
      "source": [
        "문제 2 정답 -3 버전"
      ],
      "metadata": {
        "id": "qEvoiEPkIx_U"
      }
    },
    {
      "cell_type": "markdown",
      "source": [
        "`in ` 연산자 : 배열과 유사한 객체에 원소로 포함되는지 여부(True/False)를 알려주는 연산자"
      ],
      "metadata": {
        "id": "uovyTaYuGY4l"
      }
    },
    {
      "cell_type": "code",
      "source": [
        "5 in range(1,11)"
      ],
      "metadata": {
        "colab": {
          "base_uri": "https://localhost:8080/"
        },
        "id": "-vZDXambIzxG",
        "outputId": "3e263b2c-d04e-41e9-de68-10adbff523f0"
      },
      "execution_count": null,
      "outputs": [
        {
          "output_type": "execute_result",
          "data": {
            "text/plain": [
              "True"
            ]
          },
          "metadata": {},
          "execution_count": 373
        }
      ]
    },
    {
      "cell_type": "code",
      "source": [
        "11 in range(1,11)"
      ],
      "metadata": {
        "colab": {
          "base_uri": "https://localhost:8080/"
        },
        "id": "fjGs3detJdus",
        "outputId": "518795a8-16ad-4c7d-83d1-c9b1d25a6af0"
      },
      "execution_count": null,
      "outputs": [
        {
          "output_type": "execute_result",
          "data": {
            "text/plain": [
              "False"
            ]
          },
          "metadata": {},
          "execution_count": 374
        }
      ]
    },
    {
      "cell_type": "code",
      "source": [
        "'h' in 'hello'"
      ],
      "metadata": {
        "colab": {
          "base_uri": "https://localhost:8080/"
        },
        "id": "ZmznUnE_Je2_",
        "outputId": "23706f51-239d-4c8c-b2ff-f56e3dba9104"
      },
      "execution_count": null,
      "outputs": [
        {
          "output_type": "execute_result",
          "data": {
            "text/plain": [
              "True"
            ]
          },
          "metadata": {},
          "execution_count": 378
        }
      ]
    },
    {
      "cell_type": "code",
      "source": [
        "3 in (3,6,9)"
      ],
      "metadata": {
        "colab": {
          "base_uri": "https://localhost:8080/"
        },
        "id": "UgSvqG1nJ8Dw",
        "outputId": "99e60568-4536-4b2b-8a40-98306d119e2b"
      },
      "execution_count": null,
      "outputs": [
        {
          "output_type": "execute_result",
          "data": {
            "text/plain": [
              "True"
            ]
          },
          "metadata": {},
          "execution_count": 379
        }
      ]
    },
    {
      "cell_type": "markdown",
      "source": [
        "문제 2 정답 -4버전"
      ],
      "metadata": {
        "id": "6jS9QsdCLyjt"
      }
    },
    {
      "cell_type": "code",
      "source": [
        "for n in range(1,101):\n",
        "    n_1= n % 10\n",
        "    n_2= n // 10\n",
        "    if n_1 in (3,6,9) or n_10 in (3,6,9):\n",
        "        print('*',end='\\t')\n",
        "    else:\n",
        "        print(n,end='\\t')\n",
        "    if n_1==0:\n",
        "        print()"
      ],
      "metadata": {
        "id": "5rOg4J7QKN8O"
      },
      "execution_count": null,
      "outputs": []
    },
    {
      "cell_type": "markdown",
      "source": [
        "문제 2 정답 -5 버전"
      ],
      "metadata": {
        "id": "95KLsrpqL0Wu"
      }
    },
    {
      "cell_type": "code",
      "source": [
        "for n in range(1,101):\n",
        "    n_str = str(n)\n",
        "    if ('3' in n_str) or ('6' in n_str) or ('9' in n_str):\n",
        "        print('*',end='\\t')\n",
        "    else:\n",
        "        print(n,end='\\t')\n",
        "    if n % 10==0:\n",
        "        print()"
      ],
      "metadata": {
        "id": "wU5cGjIkLeIp"
      },
      "execution_count": null,
      "outputs": []
    }
  ]
}