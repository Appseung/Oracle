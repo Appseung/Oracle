{
  "nbformat": 4,
  "nbformat_minor": 0,
  "metadata": {
    "colab": {
      "provenance": [],
      "authorship_tag": "ABX9TyNF1RPDFW/v1+iHBXrDE+q1",
      "include_colab_link": true
    },
    "kernelspec": {
      "name": "python3",
      "display_name": "Python 3"
    },
    "language_info": {
      "name": "python"
    }
  },
  "cells": [
    {
      "cell_type": "markdown",
      "metadata": {
        "id": "view-in-github",
        "colab_type": "text"
      },
      "source": [
        "<a href=\"https://colab.research.google.com/github/Appseung/Oracle/blob/main/%EB%AC%B8%EC%A0%9C%EC%97%B0%EC%8A%B5.ipynb\" target=\"_parent\"><img src=\"https://colab.research.google.com/assets/colab-badge.svg\" alt=\"Open In Colab\"/></a>"
      ]
    },
    {
      "cell_type": "markdown",
      "source": [
        "#1\n",
        "\n",
        "    사용자로부터 세 개의 정수를 입력받은 후, 이 중 가장 큰 수를 출력하되, 같은 수가 두 개 이상일 경우 '동일값 존재'라고 출력하시오.\n",
        "    (필요 함수 : input(), print())\n",
        "    (필수 조건 : 조건문, 중복 비교)\n",
        "\n"
      ],
      "metadata": {
        "id": "jSbEsaEWdve8"
      }
    },
    {
      "cell_type": "code",
      "source": [
        "print(\"정수를 3개 입력해주세요\")\n",
        "정수=[]\n",
        "print(정수)\n",
        "for x in range(3):\n",
        "\n",
        "    a=int(input(\"작성하고 엔터 \\n\"))\n",
        "\n",
        "    정수.append(a)\n",
        "max_정수=정수[0]\n",
        "중복정수=정수[0]\n",
        "for y in range(3):\n",
        "    # 가장 큰수 출력\n",
        "    if 정수[y]==중복정수:\n",
        "        중복정수=True\n",
        "    else:\n",
        "\n",
        "        if 정수[y]>max_정수:\n",
        "            중복정수=False\n",
        "\n",
        "\n",
        "            max_정수 =정수[y]\n",
        "if 중복정수==True:\n",
        "    print(\"동일값 존재\")\n",
        "else :\n",
        "    print(\" 가장 큰 수는 \", max_정수)\n",
        "\n",
        "\n",
        "\n",
        "\n"
      ],
      "metadata": {
        "colab": {
          "base_uri": "https://localhost:8080/"
        },
        "id": "MxkQImgfesLw",
        "outputId": "d8af1a73-d84a-4e53-cb82-d924d633815a"
      },
      "execution_count": 33,
      "outputs": [
        {
          "output_type": "stream",
          "name": "stdout",
          "text": [
            "정수를 3개 입력해주세요\n",
            "[]\n",
            "작성하고 엔터 \n",
            "5\n",
            "작성하고 엔터 \n",
            "2\n",
            "작성하고 엔터 \n",
            "5\n",
            "동일값 존재\n"
          ]
        }
      ]
    },
    {
      "cell_type": "code",
      "source": [
        "#chat gpt 정답\n",
        "\n",
        "print(\"정수를 3개 입력해주세요\")\n",
        "정수 = []\n",
        "for i in range(3):\n",
        "    a = int(input(\"작성하고 엔터 \\n\"))\n",
        "    정수.append(a)\n",
        "\n",
        "# 가장 큰 수 찾기\n",
        "최댓값 = max(정수)\n",
        "\n",
        "# 동일한 수가 2개 이상인지 확인\n",
        "if 정수.count(최댓값) >= 2:\n",
        "    print(\"동일값 존재\")\n",
        "else:\n",
        "    print(\"가장 큰 수는\", 최댓값)\n",
        "\n"
      ],
      "metadata": {
        "colab": {
          "base_uri": "https://localhost:8080/"
        },
        "id": "h0uVG5_4iza-",
        "outputId": "4bf93702-f64c-41e0-90d6-2e03c2db89f3"
      },
      "execution_count": 32,
      "outputs": [
        {
          "output_type": "stream",
          "name": "stdout",
          "text": [
            "정수를 3개 입력해주세요\n",
            "작성하고 엔터 \n",
            "5\n",
            "작성하고 엔터 \n",
            "3\n",
            "작성하고 엔터 \n",
            "5\n",
            "동일값 존재\n"
          ]
        }
      ]
    },
    {
      "cell_type": "markdown",
      "source": [
        "#2\n",
        "\n",
        "    사용자가 입력한 문자열이 **대칭(Palindrome)**인지 아닌지 확인하는 프로그램을 작성하시오.\n",
        "    단, 대소문자를 구분하지 않고, 공백은 무시한다.\n",
        "    (필요 함수 : input(), str 메서드)\n",
        "    (필수 조건 : 문자열 전처리, 조건비교)\n",
        "\n"
      ],
      "metadata": {
        "id": "_SscTjl9d1Cr"
      }
    },
    {
      "cell_type": "code",
      "source": [
        "#1. 문자열 입력\n",
        "text=input(\"문자열을 입력해주세요\")\n",
        "print(\"입력한 문자열은 : \",text)\n",
        "#2. 대소문자 구분 안함\n",
        "\n",
        "text=text.lower()\n",
        "print(\"소문자로 변환한 문자열은 : \",text)\n",
        "\n",
        "#3. 공백 무시\n",
        "text=text.replace(' ','')\n",
        "print(\"공백제거된 문자열\",text)\n",
        "#4. 대칭인지 아닌지 확인\n",
        "\n",
        "if text==text[::-1]:\n",
        "\n",
        "    print(\"대칭\")\n",
        "else:\n",
        "    print(\"대칭아님\")\n"
      ],
      "metadata": {
        "colab": {
          "base_uri": "https://localhost:8080/"
        },
        "id": "eQzGA8MEmNn3",
        "outputId": "3d20bb8b-a706-4b37-9622-82aef773796a"
      },
      "execution_count": 54,
      "outputs": [
        {
          "output_type": "stream",
          "name": "stdout",
          "text": [
            "문자열을 입력해주세요안ㅋ안ㅋ ㅋ안ㅋ안\n",
            "입력한 문자열은 :  안ㅋ안ㅋ ㅋ안ㅋ안\n",
            "소문자로 변환한 문자열은 :  안ㅋ안ㅋ ㅋ안ㅋ안\n",
            "공백제거된 문자열 안ㅋ안ㅋㅋ안ㅋ안\n",
            "대칭\n"
          ]
        }
      ]
    },
    {
      "cell_type": "markdown",
      "source": [
        " #3\n",
        "\n",
        "\n",
        "    `사용자로부터 0~100 사이의 점수를 입력받아 **학점(A~F)\n",
        "    **을 출력하되,\n",
        "    150, 'abc' 등 비정상 입력에는 \"잘못된 입력입니다\"를 출력하도록 예외처리를 포함하시오.\n",
        "    (필요 함수 : input(), try-except)\n",
        "    (필수 조건 : 범위 조건 검사 + 예외 처리)\n",
        "\n"
      ],
      "metadata": {
        "id": "dFN2-MZMd3rj"
      }
    },
    {
      "cell_type": "code",
      "source": [
        "try :\n",
        "    score=int(input(\"점수를 입력해주세요\"))\n",
        "    if score>100 or score<0:\n",
        "        print(\"잘못된 입력입니다\")\n",
        "    else:\n",
        "        if score>=90:\n",
        "            print(\"A\")\n",
        "        elif score>=80:\n",
        "            print(\"B\")\n",
        "        elif score>=70:\n",
        "            print(\"C\")\n",
        "        elif score>=60:\n",
        "            print(\"D\")\n",
        "        else :\n",
        "            print(\"F\")\n",
        "\n",
        "except:\n",
        "    print(\"잘못된 입력입니다\")\n",
        "\n"
      ],
      "metadata": {
        "colab": {
          "base_uri": "https://localhost:8080/"
        },
        "id": "dyFtxzK9ovWg",
        "outputId": "8e181878-34ff-471c-9c25-526147439014"
      },
      "execution_count": 66,
      "outputs": [
        {
          "output_type": "stream",
          "name": "stdout",
          "text": [
            "점수를 입력해주세요100\n",
            "A\n"
          ]
        }
      ]
    },
    {
      "cell_type": "markdown",
      "source": [
        "#4\n",
        "\n",
        "\n",
        "     1부터 100 사이의 정수 중, 3의 배수이면서 5의 배수는 제외하고 출력하는 프로그램을 작성하시오.\n",
        "    (필요 함수 : print())\n",
        "    (필수 조건 : 조건문 + 논리연산자 활용)\n",
        "\n"
      ],
      "metadata": {
        "id": "ckvs0ZOad5Fn"
      }
    },
    {
      "cell_type": "code",
      "source": [
        "for x in range(1,101):\n",
        "    if x % 3 ==0:\n",
        "        if x % 5 != 0:\n",
        "            print(x,end=' ')\n",
        "\n",
        ""
      ],
      "metadata": {
        "colab": {
          "base_uri": "https://localhost:8080/"
        },
        "id": "pmhZd1mrzSP9",
        "outputId": "b243b9bc-4d9d-41aa-b17f-df77a9b72e25"
      },
      "execution_count": 78,
      "outputs": [
        {
          "output_type": "stream",
          "name": "stdout",
          "text": [
            "3 6 9 12 18 21 24 27 33 36 39 42 48 51 54 57 63 66 69 72 78 81 84 87 93 96 99 "
          ]
        }
      ]
    },
    {
      "cell_type": "code",
      "source": [
        "for x in range(1,101):\n",
        "    if x % 3 ==0 and x % 5 != 0:\n",
        "        print(x,end=' ')"
      ],
      "metadata": {
        "colab": {
          "base_uri": "https://localhost:8080/"
        },
        "id": "C_3TDaDc0TUt",
        "outputId": "9e50126f-32b0-4ee2-f171-250fc64061e1"
      },
      "execution_count": 80,
      "outputs": [
        {
          "output_type": "stream",
          "name": "stdout",
          "text": [
            "3 6 9 12 18 21 24 27 33 36 39 42 48 51 54 57 63 66 69 72 78 81 84 87 93 96 99 "
          ]
        }
      ]
    },
    {
      "cell_type": "code",
      "source": [
        "a=[x for x in range(1,101) if x % 3 ==0 and x % 5 != 0]\n",
        "print(a)"
      ],
      "metadata": {
        "colab": {
          "base_uri": "https://localhost:8080/"
        },
        "id": "ZBu_KEZe1iCl",
        "outputId": "21d02924-0a8d-4c5a-990c-0cb5c5f7df45"
      },
      "execution_count": 82,
      "outputs": [
        {
          "output_type": "stream",
          "name": "stdout",
          "text": [
            "[3, 6, 9, 12, 18, 21, 24, 27, 33, 36, 39, 42, 48, 51, 54, 57, 63, 66, 69, 72, 78, 81, 84, 87, 93, 96, 99]\n"
          ]
        }
      ]
    },
    {
      "cell_type": "markdown",
      "source": [
        " #5\n",
        "\n",
        "    사용자가 입력한 문장에 포함된 각 알파벳의 빈도수를 딕셔너리 형태로 출력하되, 알파벳 이외 문자는 무시한다.\n",
        "    (필요 함수 : dict 관련 함수, input())\n",
        "    (필수 조건 : 알파벳 필터링 + 카운트)\n",
        "\n"
      ],
      "metadata": {
        "id": "to8zDTDnd6SA"
      }
    },
    {
      "cell_type": "code",
      "source": [
        "text='appl0122e'\n",
        "\n",
        "result={}\n",
        "text.isalpha()\n",
        "for x in text:\n",
        "    if x.isalpha():\n",
        "        # a p p l e 를 돌아가며 입력\n",
        "        if x in result: # 시작은 빈칸\n",
        "            result[x]+=1\n",
        "        else:  # 시작은 result[a]= 1 , 다음부터는 a는 없으니 p로 가고 p는 2번째부턴 있으니 +1\n",
        "            result[x]=1\n",
        "print(result)"
      ],
      "metadata": {
        "colab": {
          "base_uri": "https://localhost:8080/"
        },
        "id": "f1zUnvHR5CcF",
        "outputId": "9c3d5e0f-2827-44d9-ae87-11310e18920c"
      },
      "execution_count": 102,
      "outputs": [
        {
          "output_type": "stream",
          "name": "stdout",
          "text": [
            "{'a': 1, 'p': 2, 'l': 1, 'e': 1}\n"
          ]
        }
      ]
    },
    {
      "cell_type": "markdown",
      "source": [
        "#6\n",
        "\n",
        "\n",
        "    세 개의 수를 입력받아,\n",
        "\n",
        "    모두 짝수면 \"모두 짝수\"\n",
        "\n",
        "    모두 홀수면 \"모두 홀수\"\n",
        "\n",
        "    아니면 \"혼합\"을 출력하시오.\n",
        "    (필요 함수 : input(), print())\n",
        "    (필수 조건 : 조건문 + 나머지 연산자)\n",
        "\n"
      ],
      "metadata": {
        "id": "9QSxq12-d9RW"
      }
    },
    {
      "cell_type": "code",
      "source": [
        "# a=int(input(\"첫번째 정수를 입력해주세요\"))\n",
        "# b=int(input(\"두번째 정수를 입력해주세요\"))\n",
        "# c=int(input(\"세번째 정수를 입력해주세요\"))\n",
        "\n",
        "#gpt 답안\n",
        "a, b, c = [int(input(f\"{i+1}번째 정수를 입력해주세요: \")) for i in range(3)]\n",
        "\n",
        "\n",
        "if a % 2 ==0 and b % 2 ==0 and c % 2 ==0:\n",
        "    print(\"모두 짝수\")\n",
        "elif a % 2 !=0 and b % 2 !=0 and c % 2 !=0:\n",
        "    print(\"모두 홀수\")\n",
        "else :\n",
        "    print(\"혼합\")"
      ],
      "metadata": {
        "colab": {
          "base_uri": "https://localhost:8080/"
        },
        "id": "Gjh_nXgJ-Fq0",
        "outputId": "6eb0a2be-aef0-492b-853c-e00dc6b24444"
      },
      "execution_count": 105,
      "outputs": [
        {
          "output_type": "stream",
          "name": "stdout",
          "text": [
            "1번째 정수를 입력해주세요: 10\n",
            "2번째 정수를 입력해주세요: 50\n",
            "3번째 정수를 입력해주세요: 20\n",
            "모두 짝수\n"
          ]
        }
      ]
    },
    {
      "cell_type": "code",
      "source": [
        "#모범 답안\n",
        "\n",
        "nums = [int(input(f\"{i+1}번째 정수를 입력해주세요: \")) for i in range(3)]\n",
        "# 리스트에 3개를 넣는다.\n",
        "짝수개수 = sum(1 for x in nums if x % 2 == 0)\n",
        "\n",
        "if 짝수개수 == 3:\n",
        "    print(\"모두 짝수\")\n",
        "elif 짝수개수 == 0:\n",
        "    print(\"모두 홀수\")\n",
        "else:\n",
        "    print(\"혼합\")\n"
      ],
      "metadata": {
        "colab": {
          "base_uri": "https://localhost:8080/"
        },
        "id": "9_Blj650-zCc",
        "outputId": "7c63ce91-7d15-41f9-ba5c-956e55b6cadc"
      },
      "execution_count": 107,
      "outputs": [
        {
          "output_type": "stream",
          "name": "stdout",
          "text": [
            "1번째 정수를 입력해주세요: 3\n",
            "2번째 정수를 입력해주세요: 3\n",
            "3번째 정수를 입력해주세요: 5\n",
            "모두 홀수\n"
          ]
        }
      ]
    },
    {
      "cell_type": "markdown",
      "source": [
        "#7\n",
        "\n",
        "    사용자로부터 6자리 정수를 입력받아,\n",
        "    앞 3자리와 뒤 3자리의 합이 같으면 \"럭키 넘버\"라고 출력하시오.\n",
        "    (필요 함수 : input(), print())\n",
        "    (필수 조건 : 문자열 슬라이싱 + 정수 변환)\n",
        "\n"
      ],
      "metadata": {
        "id": "1wNOlHgpeBTb"
      }
    },
    {
      "cell_type": "code",
      "source": [
        "six_num=input(f\"6자리 정수를 입력하세요 : \")\n",
        "print(f\"입력한 값은 : {six_num} 입니다\")\n",
        "\n",
        "## int로 변환해야함.\n",
        "\n",
        "\n",
        "# if sum(six_num[range(0:2)]) == sum(syx_num[range[3:5]]):\n",
        "#     print(\"럭키 넘버\")\n",
        "# else :\n",
        "#     print(\"아닙니다\")"
      ],
      "metadata": {
        "colab": {
          "base_uri": "https://localhost:8080/",
          "height": 245
        },
        "id": "SBSl_NIY_Q4W",
        "outputId": "0e20310b-459a-4d54-b19c-6995b2991b02"
      },
      "execution_count": 135,
      "outputs": [
        {
          "output_type": "stream",
          "name": "stdout",
          "text": [
            "6자리 정수를 입력하세요 : 15151515\n",
            "입력한 값은 : 15151515 입니다\n"
          ]
        },
        {
          "output_type": "error",
          "ename": "AttributeError",
          "evalue": "'str' object has no attribute 'sum'",
          "traceback": [
            "\u001b[0;31m---------------------------------------------------------------------------\u001b[0m",
            "\u001b[0;31mAttributeError\u001b[0m                            Traceback (most recent call last)",
            "\u001b[0;32m<ipython-input-135-1cf4fdef709e>\u001b[0m in \u001b[0;36m<cell line: 0>\u001b[0;34m()\u001b[0m\n\u001b[1;32m      3\u001b[0m \u001b[0;34m\u001b[0m\u001b[0m\n\u001b[1;32m      4\u001b[0m \u001b[0;34m\u001b[0m\u001b[0m\n\u001b[0;32m----> 5\u001b[0;31m \u001b[0mint\u001b[0m\u001b[0;34m(\u001b[0m\u001b[0msix_num\u001b[0m\u001b[0;34m.\u001b[0m\u001b[0msum\u001b[0m\u001b[0;34m(\u001b[0m\u001b[0;34m)\u001b[0m\u001b[0;34m)\u001b[0m\u001b[0;34m\u001b[0m\u001b[0;34m\u001b[0m\u001b[0m\n\u001b[0m\u001b[1;32m      6\u001b[0m \u001b[0;31m# if sum(six_num[range(0:2)]) == sum(syx_num[range[3:5]]):\u001b[0m\u001b[0;34m\u001b[0m\u001b[0;34m\u001b[0m\u001b[0m\n\u001b[1;32m      7\u001b[0m \u001b[0;31m#     print(\"럭키 넘버\")\u001b[0m\u001b[0;34m\u001b[0m\u001b[0;34m\u001b[0m\u001b[0m\n",
            "\u001b[0;31mAttributeError\u001b[0m: 'str' object has no attribute 'sum'"
          ]
        }
      ]
    },
    {
      "cell_type": "markdown",
      "source": [
        "#8\n",
        "\n",
        "    정수 n을 입력받아,\n",
        "\n",
        "    소수인지 판별하고\n",
        "\n",
        "    소수가 아니면 그 수의 약수를 모두 출력하시오.\n",
        "    (필요 함수 : input(), print())\n",
        "    (필수 조건 : 반복문 + 조건문)\n",
        "\n"
      ],
      "metadata": {
        "id": "LX-8oB6jeDDT"
      }
    },
    {
      "cell_type": "markdown",
      "source": [
        "#9\n",
        "\n",
        "    문자열을 입력받아,\n",
        "    연속해서 중복된 문자는 하나만 남기고 제거한 결과를 출력하시오.\n",
        "    예: 'aaabbcdd' → 'abcd'\n",
        "    (필요 함수 : input(), print())\n",
        "    (필수 조건 : 문자 비교 + 새로운 문자열 생성)\n",
        "\n"
      ],
      "metadata": {
        "id": "71iyfRL7eElp"
      }
    },
    {
      "cell_type": "markdown",
      "source": [
        "#10\n",
        "\n",
        "    사용자가 입력한 주민등록번호를 이용해\n",
        "    생년월일과 성별을 출력하시오.\n",
        "    예: '990101-1234567' → 1999년 1월 1일, 남자\n",
        "    (필요 함수 : input(), print())\n",
        "    (필수 조건 : 슬라이싱 + 조건 분기)\n",
        "\n"
      ],
      "metadata": {
        "id": "k7kytl8xeF9X"
      }
    },
    {
      "cell_type": "markdown",
      "source": [
        "#11\n",
        "\n",
        "    사용자 리스트에서\n",
        "\n",
        "    중복을 제거하고\n",
        "\n",
        "    문자열 길이를 기준으로 정렬한 결과를 출력하시오.\n",
        "    (필요 함수 : set(), sorted(), key=len)\n",
        "    (필수 조건 : 집합 변환 + 정렬 조건)\n",
        "\n"
      ],
      "metadata": {
        "id": "cJsw5IzxeHVg"
      }
    },
    {
      "cell_type": "markdown",
      "source": [
        "#12\n",
        "\n",
        "    입력된 텍스트에서\n",
        "    가장 많이 등장한 알파벳을 출력하시오.\n",
        "    대소문자는 구분하지 않음.\n",
        "    (필요 함수 : input(), lower(), dict)\n",
        "    (필수 조건 : 카운트 + 최대값 찾기)\n",
        "\n"
      ],
      "metadata": {
        "id": "_H2KzakWeI1B"
      }
    },
    {
      "cell_type": "markdown",
      "source": [
        "#13\n",
        "\n",
        "    사용자가 입력한 세 문장을\n",
        "\n",
        "    한 줄로 합쳐 출력하되,\n",
        "\n",
        "    각 문장은 반드시 '.'으로 끝나야 함,\n",
        "    그렇지 않으면 \"형식 오류\"를 출력하시오.\n",
        "    (필요 함수 : input(), print())\n",
        "    (필수 조건 : 반복 + 조건 확인)\n",
        "\n"
      ],
      "metadata": {
        "id": "wlN4k0AUeJ7A"
      }
    },
    {
      "cell_type": "markdown",
      "source": [
        "#14\n",
        "    2차원 리스트로 표현된 두 행렬을 입력받아,\n",
        "    덧셈 연산을 수행하고 결과를 출력하시오.\n",
        "    (필요 함수 : input(), print())\n",
        "    (필수 조건 : 중첩 반복문 + zip 사용 가능)\n",
        "\n"
      ],
      "metadata": {
        "id": "A8Ub-QgpeLHg"
      }
    },
    {
      "cell_type": "markdown",
      "source": [
        "#15\n",
        "    사용자가 입력한 정수가\n",
        "\n",
        "    10보다 작으면 '작다'\n",
        "\n",
        "    10~20 사이면 '중간'\n",
        "\n",
        "    20보다 크면 '크다'\n",
        "    를 출력하는 프로그램을 작성하시오.\n",
        "    (필요 함수 : input(), if)\n",
        "    (필수 조건 : 범위 조건 분기)\n",
        "\n"
      ],
      "metadata": {
        "id": "ETq-DbcXeMeV"
      }
    },
    {
      "cell_type": "markdown",
      "source": [
        "#16\n",
        "    사용자 입력 정수 리스트에서\n",
        "\n",
        "    짝수는 제곱, 홀수는 세제곱하여 출력하시오.\n",
        "    (필요 함수 : input(), print())\n",
        "    (필수 조건 : 리스트 내포 + 조건문)\n"
      ],
      "metadata": {
        "id": "y8ff_iZEeONs"
      }
    },
    {
      "cell_type": "markdown",
      "source": [
        "#17\n",
        "\n",
        "    문자열에서 숫자만 추출하여\n",
        "    그 합계를 출력하시오.\n",
        "    예: 'ab12cd34' → 46\n",
        "    (필요 함수 : isdigit(), sum())\n",
        "    (필수 조건 : 반복 + 형 변환)\n"
      ],
      "metadata": {
        "id": "WCTnGWAheQQd"
      }
    },
    {
      "cell_type": "markdown",
      "source": [
        "#18\n",
        "\n",
        "    두 문자열이 **애너그램(anagram)**인지 판별하시오.\n",
        "    (필요 함수 : sorted())\n",
        "    (필수 조건 : 정렬 후 비교)\n"
      ],
      "metadata": {
        "id": "oyGx7rH2eRG2"
      }
    },
    {
      "cell_type": "markdown",
      "source": [
        "#19\n",
        "\n",
        "    괄호가 포함된 문자열에서\n",
        "\n",
        "    열린 괄호와 닫힌 괄호의 수를 각각 세고,\n",
        "\n",
        "    개수가 같으면 \"올바른 수식\"이라 출력하시오.\n",
        "    (필요 함수 : count())\n",
        "    (필수 조건 : 문자열 처리)\n"
      ],
      "metadata": {
        "id": "AJOi4PmceSLW"
      }
    },
    {
      "cell_type": "markdown",
      "source": [
        "#20\n",
        "    사용자가 입력한 수가\n",
        "    **완전수(perfect number)**인지 판별하시오.\n",
        "    (완전수란 자신을 제외한 약수의 합이 자기 자신과 같은 수)\n",
        "    (필요 함수 : input())\n",
        "    (필수 조건 : 약수 구하기 + 합 비교)"
      ],
      "metadata": {
        "id": "ZtBWpglveS-n"
      }
    }
  ]
}