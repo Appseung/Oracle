{
  "nbformat": 4,
  "nbformat_minor": 0,
  "metadata": {
    "colab": {
      "provenance": [],
      "authorship_tag": "ABX9TyMTSfgyuL7HFB6EkaMv73zr",
      "include_colab_link": true
    },
    "kernelspec": {
      "name": "python3",
      "display_name": "Python 3"
    },
    "language_info": {
      "name": "python"
    }
  },
  "cells": [
    {
      "cell_type": "markdown",
      "metadata": {
        "id": "view-in-github",
        "colab_type": "text"
      },
      "source": [
        "<a href=\"https://colab.research.google.com/github/Appseung/Oracle/blob/main/Python_01.ipynb\" target=\"_parent\"><img src=\"https://colab.research.google.com/assets/colab-badge.svg\" alt=\"Open In Colab\"/></a>"
      ]
    },
    {
      "cell_type": "markdown",
      "source": [
        "# 파이썬 소개\n"
      ],
      "metadata": {
        "id": "L8GhQI1fqjV9"
      }
    },
    {
      "cell_type": "code",
      "execution_count": null,
      "metadata": {
        "colab": {
          "base_uri": "https://localhost:8080/"
        },
        "id": "CG2eDh_noJMZ",
        "outputId": "a0e6ec42-7a3d-4cbc-86fb-5de02c8a44ae"
      },
      "outputs": [
        {
          "output_type": "stream",
          "name": "stdout",
          "text": [
            "안녕하세요\n"
          ]
        }
      ],
      "source": [
        "print (\"안녕하세요\")"
      ]
    },
    {
      "cell_type": "markdown",
      "source": [
        "## 파이썬 버전 확인\n"
      ],
      "metadata": {
        "id": "3mo2jrWVrWMw"
      }
    },
    {
      "cell_type": "code",
      "source": [
        "#텍스트 일때\n",
        "# 1개 : 제목\n",
        "## 2개 : 부제목\n",
        "\n",
        "import sys # sys 모듈을 사용한단 의미\n",
        "print(sys.version) # sys 버전을 출력해주세요.\n",
        "\n",
        "# <- 주석 처리 # 부터 끝까지\n"
      ],
      "metadata": {
        "colab": {
          "base_uri": "https://localhost:8080/"
        },
        "id": "PtOf4bNpsAvj",
        "outputId": "ddc512ee-4727-4772-f7bc-186e07a7e0a0"
      },
      "execution_count": null,
      "outputs": [
        {
          "output_type": "stream",
          "name": "stdout",
          "text": [
            "3.11.12 (main, Apr  9 2025, 08:55:54) [GCC 11.4.0]\n"
          ]
        }
      ]
    },
    {
      "cell_type": "markdown",
      "source": [
        "## 여러가지 print 방법"
      ],
      "metadata": {
        "id": "K_RYPrABysTf"
      }
    },
    {
      "cell_type": "code",
      "source": [
        "print ('hello Python!')\n",
        "print (\"hello 파이썬!\")\n",
        "# 파이썬 문자열 작성할 때 구분하지 않음 ( \" / ' )\n",
        "# 조건은 시작과 끝맺음만 동일\n"
      ],
      "metadata": {
        "colab": {
          "base_uri": "https://localhost:8080/"
        },
        "id": "Fco9bra7yrXj",
        "outputId": "ffdd70e7-1aa9-4e61-d113-5d31dbb969f4"
      },
      "execution_count": null,
      "outputs": [
        {
          "output_type": "stream",
          "name": "stdout",
          "text": [
            "hello Python!\n",
            "hello 파이썬!\n"
          ]
        }
      ]
    },
    {
      "cell_type": "code",
      "source": [
        "# print ('I'm a boy .') 조건에 맞춰 변형해야함\n",
        "print (\"I'm a boy .\") # 또는\n",
        "print ('I\\'m a boy . ') #escape 문자열 사용가능 '(사용문자)\\'\n"
      ],
      "metadata": {
        "colab": {
          "base_uri": "https://localhost:8080/"
        },
        "id": "CoRm2_Ojz4X1",
        "outputId": "b8f9f60d-86c9-41fc-a131-dbd972374986"
      },
      "execution_count": null,
      "outputs": [
        {
          "output_type": "stream",
          "name": "stdout",
          "text": [
            "I'm a boy .\n",
            "I'm a boy . \n"
          ]
        }
      ]
    },
    {
      "cell_type": "code",
      "source": [
        "print ('hello','안녕','Bon Jour')"
      ],
      "metadata": {
        "colab": {
          "base_uri": "https://localhost:8080/"
        },
        "id": "x588Yw3w0Eu0",
        "outputId": "01e28307-8de7-4689-fc3a-82200dffdd0a"
      },
      "execution_count": null,
      "outputs": [
        {
          "output_type": "stream",
          "name": "stdout",
          "text": [
            "hello 안녕 Bon Jour\n"
          ]
        }
      ]
    },
    {
      "cell_type": "markdown",
      "source": [
        "`아규먼트` : 함수에게 전달되는 값\n",
        "\n",
        "\n",
        "`print()` 함수는 아규먼트(argument)로 전달된 문자열을 화면(콘솔)에 출력.\n",
        "\n",
        "`print()` 함수에 아규먼트 여러개 전달하면 , 각각의 값들을 공백으로 연결해서 출력."
      ],
      "metadata": {
        "id": "O11Ht2-v19Io"
      }
    },
    {
      "cell_type": "code",
      "source": [
        "print ( 1, 2, 3 )\n",
        "# 'print'함수는 문자열만 아규먼트로 출력되는 것이 아닌 숫자도 출력 가능"
      ],
      "metadata": {
        "colab": {
          "base_uri": "https://localhost:8080/"
        },
        "id": "mpRT113L3UQL",
        "outputId": "ba9d896b-0e81-444a-c21b-ecac57ffc849"
      },
      "execution_count": null,
      "outputs": [
        {
          "output_type": "stream",
          "name": "stdout",
          "text": [
            "1 2 3\n"
          ]
        }
      ]
    },
    {
      "cell_type": "code",
      "source": [
        "print (1+2)  # 덧셈우선 계산 이후 출력"
      ],
      "metadata": {
        "colab": {
          "base_uri": "https://localhost:8080/"
        },
        "id": "JYK9Mp1733hK",
        "outputId": "53eda3e0-e241-4c29-e460-171acc77a5ea"
      },
      "execution_count": null,
      "outputs": [
        {
          "output_type": "stream",
          "name": "stdout",
          "text": [
            "3\n"
          ]
        }
      ]
    },
    {
      "cell_type": "code",
      "source": [
        "print (1,'+',2,'=',1+2)"
      ],
      "metadata": {
        "colab": {
          "base_uri": "https://localhost:8080/"
        },
        "id": "2HopEQLB36ta",
        "outputId": "f4782982-1425-486e-fcb6-fbba029194d1"
      },
      "execution_count": null,
      "outputs": [
        {
          "output_type": "stream",
          "name": "stdout",
          "text": [
            "1 + 2 = 3\n"
          ]
        }
      ]
    },
    {
      "cell_type": "markdown",
      "source": [
        "placeholder 문자열과 `format()` 함수를 사용한 print"
      ],
      "metadata": {
        "id": "XdJ3h7LS4zKN"
      }
    },
    {
      "cell_type": "code",
      "source": [
        "print('{} + {} = {}'.format(1,2,1+2)) # placeholder : 변수가 들어갈 공간"
      ],
      "metadata": {
        "colab": {
          "base_uri": "https://localhost:8080/"
        },
        "id": "fPsFysxq5Bq6",
        "outputId": "997a7cbe-16b9-48b6-d5b2-615dff4a8a5c"
      },
      "execution_count": null,
      "outputs": [
        {
          "output_type": "stream",
          "name": "stdout",
          "text": [
            "1 + 2 = 3\n"
          ]
        }
      ]
    },
    {
      "cell_type": "code",
      "source": [
        "print('{x} + {y} = {z}' .format(x=123,y=456,z=123+456) ) # placeholder 에 값을 넣을땐 지정하여 값넣기 가능 / 이전방식\n",
        "print('{x} + {y} = {z}' .format(y=456,x=123,z=123+456) ) # 자리는 상관없어짐 x , y , z\n"
      ],
      "metadata": {
        "colab": {
          "base_uri": "https://localhost:8080/"
        },
        "id": "-EFxIOem5Qtq",
        "outputId": "3b6b621a-cb4a-41ce-a941-b232cf3dd9fa"
      },
      "execution_count": null,
      "outputs": [
        {
          "output_type": "stream",
          "name": "stdout",
          "text": [
            "123 + 456 = 579\n",
            "123 + 456 = 579\n"
          ]
        }
      ]
    },
    {
      "cell_type": "markdown",
      "source": [
        "##변수 선언, 초기화\n",
        "\n",
        "* 변수 (variable) : 값을 저장하는 메모리 공간\n",
        "* 문법\n",
        "```\n",
        "변수이름 = 값\n",
        "```\n",
        "\n",
        "\n",
        "\n"
      ],
      "metadata": {
        "id": "ZwhYxbE0MShg"
      }
    },
    {
      "cell_type": "code",
      "source": [
        "a = 10 # 변수 a에 값 10을 할당(저장)\n",
        "b = 20 # 변수 b에 값 20을 할당\n",
        "print ('a =',a)\n",
        "print ('b =',b)"
      ],
      "metadata": {
        "id": "TUe-N_wL528q",
        "colab": {
          "base_uri": "https://localhost:8080/"
        },
        "outputId": "9fcabb9a-1122-4c05-d2e2-8857d968f38a"
      },
      "execution_count": null,
      "outputs": [
        {
          "output_type": "stream",
          "name": "stdout",
          "text": [
            "a = 10\n",
            "b = 20\n"
          ]
        }
      ]
    },
    {
      "cell_type": "code",
      "source": [
        "print('{} + {} = {}'.format(a,b,a+b)) #format은 과거 사용방식"
      ],
      "metadata": {
        "colab": {
          "base_uri": "https://localhost:8080/"
        },
        "id": "uyHYayyoOAzd",
        "outputId": "bd689e19-c9f6-41a4-82c6-3874c54fa424"
      },
      "execution_count": null,
      "outputs": [
        {
          "output_type": "stream",
          "name": "stdout",
          "text": [
            "10 + 20 = 30\n"
          ]
        }
      ]
    },
    {
      "cell_type": "markdown",
      "source": [
        "formatted string(문자열)\n",
        "* 파이썬 3.6버전부터 제공되는 문법\n",
        "* 문법\n",
        "```\n",
        "f'{변수이름} 문자열 {변수이름}'\n",
        "```"
      ],
      "metadata": {
        "id": "Q6EzS-_hPRfs"
      }
    },
    {
      "cell_type": "code",
      "source": [
        "print(f'{a}+{b}={a+b}') #f= format을 쓰며 , 변수를 사용한다."
      ],
      "metadata": {
        "colab": {
          "base_uri": "https://localhost:8080/"
        },
        "id": "Wafvhrm7Opy8",
        "outputId": "7dc81d5b-3d73-4562-e46f-a32aa34dba0b"
      },
      "execution_count": null,
      "outputs": [
        {
          "output_type": "stream",
          "name": "stdout",
          "text": [
            "10+20=28\n"
          ]
        }
      ]
    },
    {
      "cell_type": "code",
      "source": [
        "print(f'{a} * {b} = {a*b}')\n",
        "print('{} * {} = {}'.format(a,b,a*b))"
      ],
      "metadata": {
        "colab": {
          "base_uri": "https://localhost:8080/"
        },
        "id": "NxAnu388Ox4c",
        "outputId": "501f6cfa-9c26-45d6-e406-907eb0b05da7"
      },
      "execution_count": null,
      "outputs": [
        {
          "output_type": "stream",
          "name": "stdout",
          "text": [
            "10 * 20 = 200\n",
            "10 * 20 = 200\n"
          ]
        }
      ]
    },
    {
      "cell_type": "markdown",
      "source": [
        "## `print()` 함수의 파라미터(parameter)\n",
        "* `sep` : separator : 아규먼트와 아규먼트를 구분하는 구분자. 기본값은 공백 1개 (' ')\n",
        "* `end` : 아규먼트를 출력한 다음에 마지막에 첨부하는 문자열. 기본값은 줄바꿈\n",
        "('\\n')\n"
      ],
      "metadata": {
        "id": "TmnaJ798Qgrc"
      }
    },
    {
      "cell_type": "code",
      "source": [
        "print(1, 2, 3, sep= ',')"
      ],
      "metadata": {
        "colab": {
          "base_uri": "https://localhost:8080/"
        },
        "id": "D8_7Fwy-RVuj",
        "outputId": "761b01c6-ab05-449f-bdb6-ee504b7e1ad1"
      },
      "execution_count": null,
      "outputs": [
        {
          "output_type": "stream",
          "name": "stdout",
          "text": [
            "1 2 3,"
          ]
        }
      ]
    },
    {
      "cell_type": "markdown",
      "source": [
        " 기본값은 공백이며 의도하여 바꿀경우 `sep= '(문자)'` 가 가능하다.\n"
      ],
      "metadata": {
        "id": "mamHKT5QR6I7"
      }
    },
    {
      "cell_type": "code",
      "source": [
        "print('안녕하세요.')\n",
        "print('여러분.')\n"
      ],
      "metadata": {
        "colab": {
          "base_uri": "https://localhost:8080/"
        },
        "id": "amw6CSmBSdu6",
        "outputId": "02d26df2-bbec-4715-f16f-e1a6f4956a72"
      },
      "execution_count": null,
      "outputs": [
        {
          "output_type": "stream",
          "name": "stdout",
          "text": [
            "안녕하세요.\n",
            "여러분\n"
          ]
        }
      ]
    },
    {
      "cell_type": "code",
      "source": [
        "print('안녕하세요.',end='::')\n",
        "# 이처럼 end는 기본값이 저장된 상태로 줄바꿈이 자동으로 된 것\n",
        "print('여러분.')\n"
      ],
      "metadata": {
        "colab": {
          "base_uri": "https://localhost:8080/"
        },
        "id": "HSQg2z0RTeFL",
        "outputId": "0e00654b-51b8-4b6a-8f54-47138f8e4264"
      },
      "execution_count": null,
      "outputs": [
        {
          "output_type": "stream",
          "name": "stdout",
          "text": [
            "안녕하세요.::여러분.\n"
          ]
        }
      ]
    },
    {
      "cell_type": "markdown",
      "source": [
        "## escape문자열\n",
        "* `'\\n'` : 줄바꿈 (new line)\n",
        "* `'\\t'` : 탭 (tab)\n"
      ],
      "metadata": {
        "id": "yevBsiRRT8AG"
      }
    },
    {
      "cell_type": "code",
      "source": [
        "print('안녕하세요\\n여러분')"
      ],
      "metadata": {
        "colab": {
          "base_uri": "https://localhost:8080/"
        },
        "id": "VYFBi3yPUlJC",
        "outputId": "fd92c020-453c-4b3a-fc9d-e05816ec37f1"
      },
      "execution_count": null,
      "outputs": [
        {
          "output_type": "stream",
          "name": "stdout",
          "text": [
            "안녕하세요\n",
            "여러분\n"
          ]
        }
      ]
    },
    {
      "cell_type": "code",
      "source": [
        "print('안녕하세요\\t여러분')"
      ],
      "metadata": {
        "colab": {
          "base_uri": "https://localhost:8080/"
        },
        "id": "--d9c87-VE3C",
        "outputId": "2328aa28-e335-4a4a-f740-b5b03f465e00"
      },
      "execution_count": null,
      "outputs": [
        {
          "output_type": "stream",
          "name": "stdout",
          "text": [
            "안녕하세요\t여러분\n"
          ]
        }
      ]
    }
  ]
}