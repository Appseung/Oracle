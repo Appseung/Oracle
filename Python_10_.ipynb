{
  "nbformat": 4,
  "nbformat_minor": 0,
  "metadata": {
    "colab": {
      "provenance": [],
      "authorship_tag": "ABX9TyMMfKQhUOOqF4/7JPJu0ko0",
      "include_colab_link": true
    },
    "kernelspec": {
      "name": "python3",
      "display_name": "Python 3"
    },
    "language_info": {
      "name": "python"
    }
  },
  "cells": [
    {
      "cell_type": "markdown",
      "metadata": {
        "id": "view-in-github",
        "colab_type": "text"
      },
      "source": [
        "<a href=\"https://colab.research.google.com/github/Appseung/Oracle/blob/main/Python_10_.ipynb\" target=\"_parent\"><img src=\"https://colab.research.google.com/assets/colab-badge.svg\" alt=\"Open In Colab\"/></a>"
      ]
    },
    {
      "cell_type": "markdown",
      "source": [
        "#오류(Error)의 종류"
      ],
      "metadata": {
        "id": "FgcM6j6tXa8W"
      }
    },
    {
      "cell_type": "code",
      "source": [
        "#prnt('안녕하세요')\n",
        "# > NameError: name 'prnt' is not defined\n",
        "# ----> 1 prnt('안녕하세요') 1번라인에서 문제 발생\n",
        "\n",
        "print('안녕하세요.')"
      ],
      "metadata": {
        "id": "B2chnil8YGhD",
        "colab": {
          "base_uri": "https://localhost:8080/"
        },
        "outputId": "88d7b721-60ae-4069-f87a-11827f05c430"
      },
      "execution_count": 2,
      "outputs": [
        {
          "output_type": "stream",
          "name": "stdout",
          "text": [
            "안녕하세요.\n"
          ]
        }
      ]
    },
    {
      "cell_type": "code",
      "source": [
        "#n = int('100.')\n",
        "# > ValueError: invalid literal for int() with base 10: '100.'\n",
        "\n",
        "n = int('100')"
      ],
      "metadata": {
        "id": "6d-Qp6fDYGP4"
      },
      "execution_count": 4,
      "outputs": []
    },
    {
      "cell_type": "code",
      "source": [],
      "metadata": {
        "id": "Qlbl1rm8Zgro"
      },
      "execution_count": null,
      "outputs": []
    },
    {
      "cell_type": "markdown",
      "source": [
        "![image.png](data:image/png;base64,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)"
      ],
      "metadata": {
        "id": "P1S0J7dkZBDB"
      }
    },
    {
      "cell_type": "markdown",
      "source": [
        "----> 1 n = int('100.')\n",
        "ValueError: invalid literal for int() with base 10: '100.'   유효하지 않은 잘못된 문자열 int에서/ 사용된"
      ],
      "metadata": {
        "id": "D6qwHTW_ZDqY"
      }
    },
    {
      "cell_type": "code",
      "source": [
        "print('200'+100)\n",
        "# > TypeError: can only concatenate str (not \"int\") to str\n",
        "print(100+'200')\n",
        "# > TypeError: unsupported operand type(s) for +: 'int' and 'str'"
      ],
      "metadata": {
        "colab": {
          "base_uri": "https://localhost:8080/",
          "height": 166
        },
        "id": "llBcdXTsZh5x",
        "outputId": "8a3ab502-69ea-42f4-f0e8-e5f8dbc734d1"
      },
      "execution_count": 6,
      "outputs": [
        {
          "output_type": "error",
          "ename": "TypeError",
          "evalue": "unsupported operand type(s) for +: 'int' and 'str'",
          "traceback": [
            "\u001b[0;31m---------------------------------------------------------------------------\u001b[0m",
            "\u001b[0;31mTypeError\u001b[0m                                 Traceback (most recent call last)",
            "\u001b[0;32m<ipython-input-6-cfb3c5f2c74a>\u001b[0m in \u001b[0;36m<cell line: 0>\u001b[0;34m()\u001b[0m\n\u001b[0;32m----> 1\u001b[0;31m \u001b[0mprint\u001b[0m\u001b[0;34m(\u001b[0m\u001b[0;36m100\u001b[0m\u001b[0;34m+\u001b[0m\u001b[0;34m'200'\u001b[0m\u001b[0;34m)\u001b[0m\u001b[0;34m\u001b[0m\u001b[0;34m\u001b[0m\u001b[0m\n\u001b[0m\u001b[1;32m      2\u001b[0m \u001b[0;31m#TypeError: can only concatenate str (not \"int\") to str\u001b[0m\u001b[0;34m\u001b[0m\u001b[0;34m\u001b[0m\u001b[0m\n",
            "\u001b[0;31mTypeError\u001b[0m: unsupported operand type(s) for +: 'int' and 'str'"
          ]
        }
      ]
    },
    {
      "cell_type": "code",
      "source": [
        "numbers=[1,2,3,4,5]\n",
        "\n",
        "print(numbers[5])\n",
        "# > IndexError: list index out of range\n",
        "\n",
        "#print(numbers[4])"
      ],
      "metadata": {
        "colab": {
          "base_uri": "https://localhost:8080/",
          "height": 222
        },
        "id": "UCMwIpAWaYrK",
        "outputId": "e0432ee9-5cd5-4317-8e44-9e44c81e3f7e"
      },
      "execution_count": 8,
      "outputs": [
        {
          "output_type": "error",
          "ename": "IndexError",
          "evalue": "list index out of range",
          "traceback": [
            "\u001b[0;31m---------------------------------------------------------------------------\u001b[0m",
            "\u001b[0;31mIndexError\u001b[0m                                Traceback (most recent call last)",
            "\u001b[0;32m<ipython-input-8-5187404cd7ed>\u001b[0m in \u001b[0;36m<cell line: 0>\u001b[0;34m()\u001b[0m\n\u001b[1;32m      1\u001b[0m \u001b[0mnumbers\u001b[0m\u001b[0;34m=\u001b[0m\u001b[0;34m[\u001b[0m\u001b[0;36m1\u001b[0m\u001b[0;34m,\u001b[0m\u001b[0;36m2\u001b[0m\u001b[0;34m,\u001b[0m\u001b[0;36m3\u001b[0m\u001b[0;34m,\u001b[0m\u001b[0;36m4\u001b[0m\u001b[0;34m,\u001b[0m\u001b[0;36m5\u001b[0m\u001b[0;34m]\u001b[0m\u001b[0;34m\u001b[0m\u001b[0;34m\u001b[0m\u001b[0m\n\u001b[1;32m      2\u001b[0m \u001b[0;34m\u001b[0m\u001b[0m\n\u001b[0;32m----> 3\u001b[0;31m \u001b[0mprint\u001b[0m\u001b[0;34m(\u001b[0m\u001b[0mnumbers\u001b[0m\u001b[0;34m[\u001b[0m\u001b[0;36m5\u001b[0m\u001b[0;34m]\u001b[0m\u001b[0;34m)\u001b[0m\u001b[0;34m\u001b[0m\u001b[0;34m\u001b[0m\u001b[0m\n\u001b[0m\u001b[1;32m      4\u001b[0m \u001b[0;31m# > IndexError: list index out of range\u001b[0m\u001b[0;34m\u001b[0m\u001b[0;34m\u001b[0m\u001b[0m\n\u001b[1;32m      5\u001b[0m \u001b[0;34m\u001b[0m\u001b[0m\n",
            "\u001b[0;31mIndexError\u001b[0m: list index out of range"
          ]
        }
      ]
    },
    {
      "cell_type": "markdown",
      "source": [
        "프로그램의 코드를 실행 중에 오류(error)가 발생하는 경우 해결 방법\n",
        "\n",
        "    * 오류가 발생한 코드 위치와 그 원인을 찾아서 , 오류가 발생하지 않도록 코드를 수정\n",
        "    * 오류가 발생하더라도 프로그램이 비정상적으로 종료되지 않고 계속 실행될 수 있도록 처리 ."
      ],
      "metadata": {
        "id": "t8aZ_mA_a8-l"
      }
    },
    {
      "cell_type": "code",
      "source": [
        "x=int(input('첫번째 청수 입력   >>>' ))\n",
        "y=int(input('두번째 청수 입력   >>>' ))\n",
        "z=x+y\n",
        "print('x + y =',z)\n",
        "# ValueError: invalid literal for int() with base 10: '20.'\n",
        "# 잘못입력해서 문제가 되어도 되지 않게"
      ],
      "metadata": {
        "colab": {
          "base_uri": "https://localhost:8080/",
          "height": 222
        },
        "id": "LN28Y0umcHhb",
        "outputId": "e13b6abf-078c-47d2-eef5-1d5fe932d57c"
      },
      "execution_count": 25,
      "outputs": [
        {
          "name": "stdout",
          "output_type": "stream",
          "text": [
            "첫번째 청수 입력   >>>20.\n"
          ]
        },
        {
          "output_type": "error",
          "ename": "ValueError",
          "evalue": "invalid literal for int() with base 10: '20.'",
          "traceback": [
            "\u001b[0;31m---------------------------------------------------------------------------\u001b[0m",
            "\u001b[0;31mValueError\u001b[0m                                Traceback (most recent call last)",
            "\u001b[0;32m<ipython-input-25-202d21f18f6b>\u001b[0m in \u001b[0;36m<cell line: 0>\u001b[0;34m()\u001b[0m\n\u001b[0;32m----> 1\u001b[0;31m \u001b[0mx\u001b[0m\u001b[0;34m=\u001b[0m\u001b[0mint\u001b[0m\u001b[0;34m(\u001b[0m\u001b[0minput\u001b[0m\u001b[0;34m(\u001b[0m\u001b[0;34m'첫번째 청수 입력   >>>'\u001b[0m \u001b[0;34m)\u001b[0m\u001b[0;34m)\u001b[0m\u001b[0;34m\u001b[0m\u001b[0;34m\u001b[0m\u001b[0m\n\u001b[0m\u001b[1;32m      2\u001b[0m \u001b[0my\u001b[0m\u001b[0;34m=\u001b[0m\u001b[0mint\u001b[0m\u001b[0;34m(\u001b[0m\u001b[0minput\u001b[0m\u001b[0;34m(\u001b[0m\u001b[0;34m'두번째 청수 입력   >>>'\u001b[0m \u001b[0;34m)\u001b[0m\u001b[0;34m)\u001b[0m\u001b[0;34m\u001b[0m\u001b[0;34m\u001b[0m\u001b[0m\n\u001b[1;32m      3\u001b[0m \u001b[0mz\u001b[0m\u001b[0;34m=\u001b[0m\u001b[0mx\u001b[0m\u001b[0;34m+\u001b[0m\u001b[0my\u001b[0m\u001b[0;34m\u001b[0m\u001b[0;34m\u001b[0m\u001b[0m\n\u001b[1;32m      4\u001b[0m \u001b[0mprint\u001b[0m\u001b[0;34m(\u001b[0m\u001b[0;34m'x + y ='\u001b[0m\u001b[0;34m,\u001b[0m\u001b[0mz\u001b[0m\u001b[0;34m)\u001b[0m\u001b[0;34m\u001b[0m\u001b[0;34m\u001b[0m\u001b[0m\n",
            "\u001b[0;31mValueError\u001b[0m: invalid literal for int() with base 10: '20.'"
          ]
        }
      ]
    },
    {
      "cell_type": "markdown",
      "source": [
        "#try-except 구문"
      ],
      "metadata": {
        "id": "Lxz_muOdh9Az"
      }
    },
    {
      "cell_type": "markdown",
      "source": [
        "```\n",
        "try:\n",
        "    (1) 실행할 코드 블록                             <\n",
        "except [오류 이름 [as 변수]] :                       <  필수\n",
        "    (2) 에러가 발생했을 때 실행할 코드 블록          <\n",
        "[\n",
        "else:\n",
        "    (3) try 블록이 에러 없이 정상적으로 모두 수행 됐을 때 실행할 코드 블록\n",
        "]\n",
        "[\n",
        "finally:\n",
        "    (4) 에러 유무에 상관없이 항상 실행할 코드 블록\n",
        "]\n",
        "```\n",
        "\n",
        "* try-except 구문의 실행 순서\n",
        "    * 에러가 발생하지 않는 경우 : (1) -> (3) -> (4)\n",
        "    * 에러가 발생하는 경우 : (1) -> (2) -> (4)\n",
        "* except 에서 에러 이름을 생략하면 모든 종류의 에러를 처리\n",
        "* except 에서 에러 이름을 지정하면 지정한 에러만 처리할 수 있고 그 외 에러는 처리 불가\n",
        "* 처리해야할 에러 종류가 여러개 있다면 except 절을 여러개 사용할 수도 있음.\n"
      ],
      "metadata": {
        "id": "nmybsRD6h_8y"
      }
    },
    {
      "cell_type": "code",
      "source": [
        "try:\n",
        "    x = int (input(\"첫번째 정수 입력 : \"))\n",
        "    y = int (input(\"두번째 정수 입력 : \"))  # 3.0 넣었을시 ValueError: invalid literal for int() with base 10: '3.'\n",
        "    print(f' {x} + {y} = {x + y } ')\n",
        "    print(f' {x} - {y} = {x - y } ')\n",
        "    print(f' {x} x {y} = {x * y } ')\n",
        "    print(f' {x} / {y} = {x / y } ')  # 0을 넣었을 시  ZeroDivisionError: division by zero\n",
        "except:\n",
        "    print(\"오류 발생1\")\n",
        "# except(ZeroDivisionError):\n",
        "#     print(\"값에 0을 넣었습니다.\")\n",
        "# except(ValueError):\n",
        "#     print(\"값을 정수로 입력하지 않았습니다.\")\n"
      ],
      "metadata": {
        "id": "m5z-gnkokd8d",
        "colab": {
          "base_uri": "https://localhost:8080/"
        },
        "outputId": "eb4449e8-e725-44f4-f63e-0d687cf0a4b6"
      },
      "execution_count": 33,
      "outputs": [
        {
          "output_type": "stream",
          "name": "stdout",
          "text": [
            "첫번째 정수 입력 : 10\n",
            "두번째 정수 입력 : \n",
            "오류 발생\n"
          ]
        }
      ]
    },
    {
      "cell_type": "code",
      "source": [
        "try:\n",
        "    x = int (input(\"첫번째 정수 입력 : \"))\n",
        "    y = int (input(\"두번째 정수 입력 : \"))  # 3.0 넣었을시 ValueError: invalid literal for int() with base 10: '3.'\n",
        "    print(f' {x} + {y} = {x + y } ')\n",
        "    print(f' {x} - {y} = {x - y } ')\n",
        "    print(f' {x} x {y} = {x * y } ')\n",
        "    print(f' {x} / {y} = {x / y } ')  # 0을 넣었을 시  ZeroDivisionError: division by zero\n",
        "except ZeroDivisionError:\n",
        "    print(\"값에 0을 넣었습니다.\")\n",
        "except ValueError:\n",
        "    print(\"입력값이 잘못됐습니다.\")\n",
        "# else:\n",
        "#     print(\"사칙연산 성공\")\n",
        "# finally:\n",
        "#     print('코드 셀 종료')"
      ],
      "metadata": {
        "colab": {
          "base_uri": "https://localhost:8080/"
        },
        "id": "i3iKVYCynp1l",
        "outputId": "32f3cd71-85b3-48d5-ed74-6b5e8a33785b"
      },
      "execution_count": 42,
      "outputs": [
        {
          "output_type": "stream",
          "name": "stdout",
          "text": [
            "첫번째 정수 입력 : 1\n",
            "두번째 정수 입력 : 1\n",
            " 1 + 1 = 2 \n",
            " 1 - 1 = 0 \n",
            " 1 x 1 = 1 \n",
            " 1 / 1 = 1.0 \n"
          ]
        }
      ]
    },
    {
      "cell_type": "markdown",
      "source": [
        "#연습문제"
      ],
      "metadata": {
        "id": "cpnvD9Fpqohk"
      }
    },
    {
      "cell_type": "markdown",
      "source": [
        "사용자에게 숫자(실수)를 입력 시키게 한다.\n",
        "\n",
        "* 사용자가 입력한 문자열이 숫자로 변환될 수 있는 경우이면 , 그 숫자를 출력하고 종료\n",
        "* 사용자가 입력한 문자열이 숫자로 변환될 수 없는 경우라면 , 숫자를 다시 입력하라고 반복 출력하고 입력 과정을 반복.\n",
        "\n"
      ],
      "metadata": {
        "id": "aeOR9IULqn2b"
      }
    },
    {
      "cell_type": "code",
      "source": [
        "import time\n",
        "t=0\n",
        "while True:\n",
        "\n",
        "    try:\n",
        "\n",
        "        a=float(input(\"숫자를 입력해주세요 : \"))\n",
        "        break\n",
        "    except:\n",
        "        print(\"입력 오류 입력 오류.\")\n",
        "        time.sleep(0.5)\n",
        "        print(\"삐 삐 삐!\")\n",
        "        time.sleep(0.5)\n",
        "        print(\"삐 삐 삐!\")\n",
        "        time.sleep(0.5)\n",
        "        if t<=2:\n",
        "            print(\"틀리지말고 잘 입력 해보세요.. 좀\")\n",
        "            t +=1\n",
        "\n",
        "        elif t<=4:\n",
        "            print(\"ㅋㅋ 진짜 일부로 계속 틀리네 안해 안해 ㅅㄱ\")\n",
        "            break\n",
        "        t +=1\n",
        "\n",
        "\n",
        "\n",
        "print(f'입력한 숫자는 : {a} 입니다. ')"
      ],
      "metadata": {
        "colab": {
          "base_uri": "https://localhost:8080/"
        },
        "id": "-QPJQFeOrc2W",
        "outputId": "492b8e77-f7d7-45ce-f84c-38a5067a1801"
      },
      "execution_count": 18,
      "outputs": [
        {
          "output_type": "stream",
          "name": "stdout",
          "text": [
            "숫자를 입력해주세요 : `\n",
            "입력 오류 입력 오류.\n",
            "삐 삐 삐!\n",
            "삐 삐 삐!\n",
            "틀리지말고 잘 입력 해보세요.. 좀\n",
            "숫자를 입력해주세요 : `\n",
            "입력 오류 입력 오류.\n",
            "삐 삐 삐!\n",
            "삐 삐 삐!\n",
            "틀리지말고 잘 입력 해보세요.. 좀\n",
            "숫자를 입력해주세요 : `\n",
            "입력 오류 입력 오류.\n",
            "삐 삐 삐!\n",
            "삐 삐 삐!\n",
            "ㅋㅋ 진짜 일부로 계속 틀리네 안해 안해 ㅅㄱ\n",
            "입력한 숫자는 : 4.0 입니다. \n"
          ]
        }
      ]
    }
  ]
}