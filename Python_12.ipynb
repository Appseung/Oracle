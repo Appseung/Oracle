{
  "nbformat": 4,
  "nbformat_minor": 0,
  "metadata": {
    "colab": {
      "provenance": [],
      "toc_visible": true,
      "authorship_tag": "ABX9TyPf9khOxnUJ3N2GmA3B26w/",
      "include_colab_link": true
    },
    "kernelspec": {
      "name": "python3",
      "display_name": "Python 3"
    },
    "language_info": {
      "name": "python"
    }
  },
  "cells": [
    {
      "cell_type": "markdown",
      "metadata": {
        "id": "view-in-github",
        "colab_type": "text"
      },
      "source": [
        "<a href=\"https://colab.research.google.com/github/Appseung/Oracle/blob/main/Python_12.ipynb\" target=\"_parent\"><img src=\"https://colab.research.google.com/assets/colab-badge.svg\" alt=\"Open In Colab\"/></a>"
      ]
    },
    {
      "cell_type": "markdown",
      "source": [
        "#1급 객체(first-class object)로서의 함수"
      ],
      "metadata": {
        "id": "5jF441M036uj"
      }
    },
    {
      "cell_type": "markdown",
      "source": [
        "**함수(function)는 객체(object)**\n",
        "\n",
        "* 객체 : 숫자(int,float), 문자열(str),논리값(True,False),list,dict,tuple, ...\n",
        "* 함수에 아규먼트로 전달이 가능.\n",
        "* 함수가 리턴해주는 값\n",
        "* 함수는 변수에 할당할 수 있음.\n",
        "* 함수의 아규먼트로 함수를 전달할 수 있음.\n",
        "* 함수의 반환값으로 함수를 리턴할 수 있음.\n",
        "* 함수 내부에서 또 다른 함수를 선언할 수 있음."
      ],
      "metadata": {
        "id": "eNtHqnNY4Phn"
      }
    },
    {
      "cell_type": "code",
      "source": [
        "x = 1 # 정수 1을 변수 x에 할당했다."
      ],
      "metadata": {
        "id": "22SSXPxB5fGR"
      },
      "execution_count": 1,
      "outputs": []
    },
    {
      "cell_type": "code",
      "source": [
        "result = len('안녕')  # len() 함수는 정수를 리턴.\n",
        "print(result)"
      ],
      "metadata": {
        "colab": {
          "base_uri": "https://localhost:8080/"
        },
        "id": "jQkJ0Uyj56yd",
        "outputId": "1dd27fa2-3f71-46a4-f0b4-2c13845455cd"
      },
      "execution_count": 2,
      "outputs": [
        {
          "output_type": "stream",
          "name": "stdout",
          "text": [
            "2\n"
          ]
        }
      ]
    },
    {
      "cell_type": "code",
      "source": [
        "def double(x):\n",
        "    return 2 * x"
      ],
      "metadata": {
        "id": "q7qwHraA6SuP"
      },
      "execution_count": 3,
      "outputs": []
    },
    {
      "cell_type": "code",
      "source": [
        "result=double(5) # 함수 double을 호출하고 그 반환값을 변수 result에 저장\n",
        "print(result)"
      ],
      "metadata": {
        "colab": {
          "base_uri": "https://localhost:8080/"
        },
        "id": "kGshZai16XvY",
        "outputId": "ceb483cb-4024-4c6c-8955-5e113ecb5d50"
      },
      "execution_count": 4,
      "outputs": [
        {
          "output_type": "stream",
          "name": "stdout",
          "text": [
            "10\n"
          ]
        }
      ]
    },
    {
      "cell_type": "code",
      "source": [
        "print(double(3))"
      ],
      "metadata": {
        "colab": {
          "base_uri": "https://localhost:8080/"
        },
        "id": "kW97clKI6fgv",
        "outputId": "d8904f26-d415-4521-f794-70e3bcdccdc1"
      },
      "execution_count": 5,
      "outputs": [
        {
          "output_type": "stream",
          "name": "stdout",
          "text": [
            "6\n"
          ]
        }
      ]
    },
    {
      "cell_type": "code",
      "source": [
        "print(double) #double이라는 이름의 함수 객체를 문자열로 표현해서 출력\n",
        "#함수를 호출한게 아님."
      ],
      "metadata": {
        "colab": {
          "base_uri": "https://localhost:8080/"
        },
        "id": "b-0sGl1h6_dI",
        "outputId": "5c6791c5-b890-47c0-8d37-8245d9c302c0"
      },
      "execution_count": 6,
      "outputs": [
        {
          "output_type": "stream",
          "name": "stdout",
          "text": [
            "<function double at 0x7c660561c040>\n"
          ]
        }
      ]
    },
    {
      "cell_type": "markdown",
      "source": [
        "## 함수를 변수에 할당"
      ],
      "metadata": {
        "id": "Xz2phmPE7e6Q"
      }
    },
    {
      "cell_type": "code",
      "source": [
        "twice=double    # 이 문장과   -<      함수 호출이 아님\n",
        "                                    # function 객체를 twice에 저장한 것 .\n",
        "                # result =double(5) 이 문장은 다른 문장임 ."
      ],
      "metadata": {
        "id": "A_ZVUI5o7gkD"
      },
      "execution_count": 7,
      "outputs": []
    },
    {
      "cell_type": "code",
      "source": [
        "print(twice)"
      ],
      "metadata": {
        "colab": {
          "base_uri": "https://localhost:8080/"
        },
        "id": "vXI9Z0_O7mco",
        "outputId": "a47c9809-2a45-460b-c932-72fb71f74ded"
      },
      "execution_count": 8,
      "outputs": [
        {
          "output_type": "stream",
          "name": "stdout",
          "text": [
            "<function double at 0x7c660561c040>\n"
          ]
        }
      ]
    },
    {
      "cell_type": "code",
      "source": [
        "print(twice(10))"
      ],
      "metadata": {
        "colab": {
          "base_uri": "https://localhost:8080/"
        },
        "id": "BdAq572o7_rn",
        "outputId": "cbd710f1-d1d4-4374-9f97-6ff77b3d8882"
      },
      "execution_count": 9,
      "outputs": [
        {
          "output_type": "stream",
          "name": "stdout",
          "text": [
            "20\n"
          ]
        }
      ]
    },
    {
      "cell_type": "markdown",
      "source": [
        "##아규먼트로 함수를 전달받는 함수\n",
        "\n"
      ],
      "metadata": {
        "id": "CENKSxyQ9ZGR"
      }
    },
    {
      "cell_type": "code",
      "source": [
        "def calculator(x,y,fn):\n",
        "    result=fn(x,y)\n",
        "    return result\n"
      ],
      "metadata": {
        "id": "nG7MUs2x9fai"
      },
      "execution_count": 10,
      "outputs": []
    },
    {
      "cell_type": "markdown",
      "source": [
        "fn = 함수 이기에\n",
        "\n",
        "result=fn(x.y)가 가능  = 괄호가 되어있으니 함수가 가능."
      ],
      "metadata": {
        "id": "YrOBuRSd91dQ"
      }
    },
    {
      "cell_type": "code",
      "source": [
        "def plus(x,y):\n",
        "    return x+y\n"
      ],
      "metadata": {
        "id": "sDz4TrDf-ZjR"
      },
      "execution_count": 11,
      "outputs": []
    },
    {
      "cell_type": "code",
      "source": [
        "def minus(x,y):\n",
        "    return x-y\n",
        "\n",
        "result=calculator(1,2,minus)   # minus <-  이건 함수자체를 호출한 것  이 함수를 쓸것이다. 라는걸 애초에 함수로 만들었음.\n",
        "print(result)\n",
        "\n"
      ],
      "metadata": {
        "id": "Q7q8nc9W_6Bv",
        "colab": {
          "base_uri": "https://localhost:8080/"
        },
        "outputId": "e7f27bcf-1474-47cf-b8a8-5650604af1a8"
      },
      "execution_count": 12,
      "outputs": [
        {
          "output_type": "stream",
          "name": "stdout",
          "text": [
            "-1\n"
          ]
        }
      ]
    },
    {
      "cell_type": "code",
      "source": [
        "result=calculator(1,2,minus)   # minus <-  이건 함수자체를 호출한 것  이 함수를 쓸것이다. 라는걸 애초에 함수로 만들었음.\n",
        "print(result)"
      ],
      "metadata": {
        "colab": {
          "base_uri": "https://localhost:8080/"
        },
        "id": "DgQGmUgL-jPw",
        "outputId": "a3387c51-5cca-48fc-aa95-412d30b36502"
      },
      "execution_count": 13,
      "outputs": [
        {
          "output_type": "stream",
          "name": "stdout",
          "text": [
            "-1\n"
          ]
        }
      ]
    },
    {
      "cell_type": "code",
      "source": [
        "def is_greater(x,y):\n",
        "    return x > y\n",
        "\n",
        "result = calculator(1,2,is_greater)\n",
        "print(result)"
      ],
      "metadata": {
        "colab": {
          "base_uri": "https://localhost:8080/"
        },
        "id": "BoFQDxvgAfHh",
        "outputId": "13944062-cdd1-4913-a4ad-2171bee26cb3"
      },
      "execution_count": 14,
      "outputs": [
        {
          "output_type": "stream",
          "name": "stdout",
          "text": [
            "False\n"
          ]
        }
      ]
    },
    {
      "cell_type": "markdown",
      "source": [
        "## 내부 함수 , 함수를 리턴하는 함수"
      ],
      "metadata": {
        "id": "UCiOelsLBRdo"
      }
    },
    {
      "cell_type": "markdown",
      "source": [
        "내부 함수 (inner function ) , 지역 함수 (local function) :\n",
        "* 함수 내부에서 선언된 함수.\n",
        "* 선언된 함수 내부에서만 호출할 수 있음.\n",
        "* 선언된 함수 외부에서는 호출할 수 없음.\n",
        "* 외부 함수의 지역 변수들(파라미터 포함)을 사용할 수 있음!"
      ],
      "metadata": {
        "id": "C9mcALfTCk8w"
      }
    },
    {
      "cell_type": "code",
      "source": [
        "def make_incrementor (n): #증가시키다.  # 전역 함수\n",
        "    #내부 함수\n",
        "    #지역 함수\n",
        "    def add_n(x):\n",
        "        return x + n   # x함수를 사용할 때 바깥쪽의 n을 사용할 수 있음. 이해감?\n",
        "        # 긍께 함수 return x는 내부함수인데 n은 외부함수로 들어오는건데\n",
        "        #x는 내부함수에서만 사용하는 것이고 n은 외부에서 사용되는걸\n",
        "        # 짭죠 , n은 내부각각에서 다 사용이 가능.\n",
        "    #함수 객체를 리턴.\n",
        "    return add_n    # <- 리턴을 함수이름만 리턴함 #바깥에서 호출할 수 있어짐.(?)"
      ],
      "metadata": {
        "id": "lKmpD9XEBYdB"
      },
      "execution_count": 15,
      "outputs": []
    },
    {
      "cell_type": "code",
      "source": [
        "add_n(10)   #<-  지역함수기때문"
      ],
      "metadata": {
        "colab": {
          "base_uri": "https://localhost:8080/",
          "height": 147
        },
        "id": "pDYTV86CB65S",
        "outputId": "cc7e73c7-5de4-4305-def1-d03d31027983"
      },
      "execution_count": 16,
      "outputs": [
        {
          "output_type": "error",
          "ename": "NameError",
          "evalue": "name 'add_n' is not defined",
          "traceback": [
            "\u001b[0;31m---------------------------------------------------------------------------\u001b[0m",
            "\u001b[0;31mNameError\u001b[0m                                 Traceback (most recent call last)",
            "\u001b[0;32m<ipython-input-16-68e615e8eeb3>\u001b[0m in \u001b[0;36m<cell line: 0>\u001b[0;34m()\u001b[0m\n\u001b[0;32m----> 1\u001b[0;31m \u001b[0madd_n\u001b[0m\u001b[0;34m(\u001b[0m\u001b[0;36m10\u001b[0m\u001b[0;34m)\u001b[0m   \u001b[0;31m#<-  지역함수기때문\u001b[0m\u001b[0;34m\u001b[0m\u001b[0;34m\u001b[0m\u001b[0m\n\u001b[0m",
            "\u001b[0;31mNameError\u001b[0m: name 'add_n' is not defined"
          ]
        }
      ]
    },
    {
      "cell_type": "code",
      "source": [
        "increase_by_2=make_incrementor(2)"
      ],
      "metadata": {
        "id": "41iODFZaD2CI"
      },
      "execution_count": 17,
      "outputs": []
    },
    {
      "cell_type": "code",
      "source": [
        "print(increase_by_2)\n",
        "result=increase_by_2(10)\n",
        "print(result)"
      ],
      "metadata": {
        "colab": {
          "base_uri": "https://localhost:8080/"
        },
        "id": "7KYnGsVkD9dR",
        "outputId": "cf0663f2-5f7e-44a1-ef4e-f0af77bdd463"
      },
      "execution_count": 18,
      "outputs": [
        {
          "output_type": "stream",
          "name": "stdout",
          "text": [
            "<function make_incrementor.<locals>.add_n at 0x7c6604c9ae80>\n",
            "12\n"
          ]
        }
      ]
    },
    {
      "cell_type": "code",
      "source": [
        "plus_10=make_incrementor(10)"
      ],
      "metadata": {
        "id": "PsoCFl2oEnIv"
      },
      "execution_count": 19,
      "outputs": []
    },
    {
      "cell_type": "code",
      "source": [
        "print(plus_10(10))"
      ],
      "metadata": {
        "colab": {
          "base_uri": "https://localhost:8080/"
        },
        "id": "PCSZLsjbEpdB",
        "outputId": "19f38230-59fb-449f-b68a-52f7b8efbbaf"
      },
      "execution_count": 20,
      "outputs": [
        {
          "output_type": "stream",
          "name": "stdout",
          "text": [
            "20\n"
          ]
        }
      ]
    },
    {
      "cell_type": "code",
      "source": [
        "print(make_incrementor(5)(10))"
      ],
      "metadata": {
        "colab": {
          "base_uri": "https://localhost:8080/"
        },
        "id": "YJXzsZWDEyKp",
        "outputId": "b1d119e9-4b6c-41d8-8043-35ba253b0b53"
      },
      "execution_count": 21,
      "outputs": [
        {
          "output_type": "stream",
          "name": "stdout",
          "text": [
            "15\n"
          ]
        }
      ]
    },
    {
      "cell_type": "markdown",
      "source": [
        "#연습"
      ],
      "metadata": {
        "id": "wcsY7gSI4nIs"
      }
    },
    {
      "cell_type": "code",
      "source": [
        "def make_power(n):\n",
        "    def test(x):\n",
        "\n",
        "        return x**n\n",
        "    return test\n"
      ],
      "metadata": {
        "id": "lRRGaodbKLV6"
      },
      "execution_count": null,
      "outputs": []
    },
    {
      "cell_type": "code",
      "source": [
        "square =make_power(2)\n",
        "cube =make_power(3)\n",
        "\n",
        "print(square(5))\n",
        "print(cube(2))"
      ],
      "metadata": {
        "id": "SIColD9vJ-ma"
      },
      "execution_count": null,
      "outputs": []
    },
    {
      "cell_type": "code",
      "source": [
        "def make_operator(op):\n",
        "    if op=='add':\n",
        "        def calc(x,y):\n",
        "            return x+y\n",
        "    elif op=='mul':\n",
        "        def calc(x,y):\n",
        "            return x*y\n",
        "    return calc"
      ],
      "metadata": {
        "id": "ilQ9N0uQLmPt"
      },
      "execution_count": null,
      "outputs": []
    },
    {
      "cell_type": "code",
      "source": [
        "def make_operator2(op):\n",
        "    def calc(x,y):\n",
        "        if op=='add':\n",
        "            return x+y\n",
        "        elif op=='mul':\n",
        "            return x*y\n",
        "    return calc"
      ],
      "metadata": {
        "id": "4wVyc7-NMQx7"
      },
      "execution_count": null,
      "outputs": []
    },
    {
      "cell_type": "code",
      "source": [
        "adder = make_operator(\"add\")\n",
        "multiplier = make_operator(\"mul\")\n",
        "adder2 = make_operator2(\"add\")\n",
        "multiplier2 = make_operator2(\"mul\")\n",
        "\n",
        "\n",
        "print(adder2(3, 4))      # 👉 7\n",
        "print(multiplier2(3, 4)) # 👉 12"
      ],
      "metadata": {
        "id": "LX9ioFBcMFhT"
      },
      "execution_count": null,
      "outputs": []
    },
    {
      "cell_type": "code",
      "source": [
        "def make_filter(conditon):\n",
        "    def filter_list(lst):\n",
        "        for x in lst:\n",
        "\n",
        "            if conditon=='even':\n",
        "                if lst %2==0:\n",
        "                    return lst\n",
        "            if conditon=='odd':\n",
        "                if lst %2==1:\n",
        "                    return lst\n",
        "            if conditon=='positive':\n",
        "                if lst < 0:\n",
        "                    return lst\n",
        "\n",
        "            if conditon=='negative':\n",
        "                if lst > 0:\n",
        "                    return lst\n",
        "\n",
        "    return filter_list"
      ],
      "metadata": {
        "id": "8JjQupUoM1Da"
      },
      "execution_count": null,
      "outputs": []
    },
    {
      "cell_type": "code",
      "source": [
        "a=make_filter('even')\n",
        "print((4))"
      ],
      "metadata": {
        "id": "BDQum1tiOuua"
      },
      "execution_count": null,
      "outputs": []
    },
    {
      "cell_type": "code",
      "source": [
        "even_filter = make_filter(\"even\")\n",
        "print(even_filter([1, 2, 3, 4, 5]))     # 👉 [2, 4]\n",
        "\n",
        "neg_filter = make_filter(\"negative\")\n",
        "print(neg_filter([3, -1, -5, 2, 0]))    # 👉 [-1, -5]"
      ],
      "metadata": {
        "id": "Rl2aiOgRNfN6"
      },
      "execution_count": null,
      "outputs": []
    },
    {
      "cell_type": "markdown",
      "source": [
        "#람다 표현식(lambda expression)"
      ],
      "metadata": {
        "id": "bZY0lE8t4pqU"
      }
    },
    {
      "cell_type": "markdown",
      "source": [
        "##문법\n",
        "```\n",
        "lambda parma1, param2 , param3 , ...expression (식)\n",
        "```\n",
        "\n",
        "* 이름이 없는 함수\n",
        "* 함수 이름 선언 없이, 함수 파라미터 선언과 반환값 또는 반환 식으로 함수를 정의(선언)하는 것\n",
        "* 람다 표현식은 변수에 할당할 수 있음. 함수의 아규먼트로 전달 할 수 있음."
      ],
      "metadata": {
        "id": "5eo5nGGD56uy"
      }
    },
    {
      "cell_type": "markdown",
      "source": [
        "###기존 함수 선언"
      ],
      "metadata": {
        "id": "lmlmYRXN6v42"
      }
    },
    {
      "cell_type": "code",
      "source": [
        "def plus_one1(x):\n",
        "     return x +1"
      ],
      "metadata": {
        "id": "ApNQUlcq6ePN"
      },
      "execution_count": 22,
      "outputs": []
    },
    {
      "cell_type": "markdown",
      "source": [
        "###람다 표현식"
      ],
      "metadata": {
        "id": "EelxiV-H6ser"
      }
    },
    {
      "cell_type": "code",
      "source": [
        "plus_one=lambda x : x+1\n",
        "print(plus_one)\n",
        "\n",
        "print(plus_one(1))"
      ],
      "metadata": {
        "colab": {
          "base_uri": "https://localhost:8080/"
        },
        "id": "9YLTh_as676M",
        "outputId": "e64f2cb0-3927-4a76-8eab-f646eb1ae44e"
      },
      "execution_count": 23,
      "outputs": [
        {
          "output_type": "stream",
          "name": "stdout",
          "text": [
            "<function <lambda> at 0x7c661d003600>\n",
            "2\n"
          ]
        }
      ]
    },
    {
      "cell_type": "markdown",
      "source": [
        "###lambda 를 아규먼트로 전달하는 예\n",
        "\n",
        "* filter : 조건을 만족하는 원소들로 이루어진 리스트를 리턴.\n",
        "* map : 원소들을 일정한 규칙에 따라서 다른 값으로 변환 (매핑).\n",
        "\n",
        "\n",
        "    [1,2,3,4,5]\n",
        "\n",
        "    filter : 홀수 -> [1,3,5]\n",
        "    원본 리스트를 필터를 통해 리턴\n",
        "\n",
        "    map : 제곱 [1,4,9,16,25]\n",
        "    값들을 규칙에 의해 변환\n"
      ],
      "metadata": {
        "id": "eZnCzQ-JC8lw"
      }
    },
    {
      "cell_type": "markdown",
      "source": [
        "###filter 구현"
      ],
      "metadata": {
        "id": "03mKXuViTuEb"
      }
    },
    {
      "cell_type": "code",
      "source": [
        "def my_filter(iterable,function):\n",
        "    \"\"\"\n",
        "    iterable의 원소들 중에서 함수 function의 결과가 True가 되는 원소들로 이루어진 리스트를 리턴\n",
        "\n",
        "    @param iterable : list 또는 tuple .\n",
        "    @param function : argument는 1개 이면서 True/False를 리턴하는 함수 .\n",
        "    @return : 리스트(list)\n",
        "    \"\"\"\n",
        "    # result=[x for x in iterable if fuction(x)]\n",
        "\n",
        "    result = [] # 조건에 맞는 원소들을 저장하기 위한 빈 리스트\n",
        "    for x in iterable : #iterable 의 모든 원소들을 저장하기 위한 빈 리스트\n",
        "        if function(x) : #함수 호출 결과가 True 이면 (조건 만족)\n",
        "            result.append(x) #결과 리스트에 그 원소를 추가\n",
        "    return result # 리스트를 리턴"
      ],
      "metadata": {
        "id": "BusWcYJWTwsD"
      },
      "execution_count": 24,
      "outputs": []
    },
    {
      "cell_type": "markdown",
      "source": [
        "함수 확인"
      ],
      "metadata": {
        "id": "kDehpz0EVhtp"
      }
    },
    {
      "cell_type": "code",
      "source": [
        "numbers=[random.randrange(10) for x in range(10)]\n",
        "print(numbers)\n",
        "evens= my_filter(numbers,lambda x : x % 2 == 0)\n",
        "print(list(evens))"
      ],
      "metadata": {
        "colab": {
          "base_uri": "https://localhost:8080/"
        },
        "id": "pqoD335EVjCE",
        "outputId": "24a94607-1e47-4893-9a71-5e0c264b2ded"
      },
      "execution_count": 33,
      "outputs": [
        {
          "output_type": "stream",
          "name": "stdout",
          "text": [
            "[0, 2, 7, 9, 7, 7, 8, 2, 2, 9]\n",
            "[0, 2, 8, 2, 2]\n"
          ]
        }
      ]
    },
    {
      "cell_type": "markdown",
      "source": [
        "함수 확인2"
      ],
      "metadata": {
        "id": "6uqkkEGtWgEV"
      }
    },
    {
      "cell_type": "code",
      "source": [
        "languages = ['Python' ,'SQL' ,'Java','JavaScript', 'HTML']\n",
        "\n",
        "# languages의 문자열들 중에서 길이가 5보다 큰 문자열들로 이루어진 리스트를 my_filter를 사용해서 만들기\n",
        "result=my_filter(languages,lambda x : len(x) >= 5  )\n",
        "print(result)"
      ],
      "metadata": {
        "colab": {
          "base_uri": "https://localhost:8080/"
        },
        "id": "z_4KZjX3WhlG",
        "outputId": "6ea027b6-1ecf-42eb-9ead-a4f01560d9a7"
      },
      "execution_count": 39,
      "outputs": [
        {
          "output_type": "stream",
          "name": "stdout",
          "text": [
            "['Python', 'JavaScript']\n"
          ]
        }
      ]
    },
    {
      "cell_type": "markdown",
      "source": [
        "### map 구현"
      ],
      "metadata": {
        "id": "o_tVcZlppTfT"
      }
    },
    {
      "cell_type": "code",
      "source": [
        "def my_mapper(iterable,fn):\n",
        "    \"\"\"\n",
        "    iterable의 원소를 함수 fn의 아규먼트로 전달했을 때 그 리턴값을 리스트에 추가해서 리턴.\n",
        "    @param iterable: list 또는 tuple\n",
        "    @param fn : 아규먼트가 1개이고 , 1개의 값을 리턴하는 함수.\n",
        "    @return : 리스트.\n",
        "    \"\"\"\n",
        "    result=[] #매핑된 값들을 저장할 빈 리스트\n",
        "    for x in iterable: #iterable 의 원소들을 순서대로 반복하면서\n",
        "        result.append(fn(x)) # 함수 fn()의 리턴값을 리스트에 추가.\n",
        "    return result\n",
        "\n",
        "# result = [fn(x) for x in iterable]\n",
        "\n",
        "\n",
        "\n",
        "\n",
        "def my_filter(iterable,function):\n",
        "    \"\"\"\n",
        "    iterable의 원소들 중에서 함수 function의 결과가 True가 되는 원소들로 이루어진 리스트를 리턴\n",
        "\n",
        "    @param iterable : list 또는 tuple .\n",
        "    @param function : argument는 1개 이면서 True/False를 리턴하는 함수 .\n",
        "    @return : 리스트(list)\n",
        "    \"\"\"\n",
        "    # result=[x for x in iterable if fuction(x)]\n",
        "\n",
        "    result = [] # 조건에 맞는 원소들을 저장하기 위한 빈 리스트\n",
        "    for x in iterable : #iterable 의 모든 원소들을 저장하기 위한 빈 리스트\n",
        "        if function(x) : #함수 호출 결과가 True 이면 (조건 만족)\n",
        "            result.append(x) #결과 리스트에 그 원소를 추가\n",
        "    return result # 리스트를 리턴"
      ],
      "metadata": {
        "id": "HWMl9cykYQuF"
      },
      "execution_count": 70,
      "outputs": []
    },
    {
      "cell_type": "code",
      "source": [
        "numbers=[random.randrange(100) for _ in range(10)]\n",
        "\n",
        "print(numbers)\n",
        "\n",
        "# 짝수 -> 'even' , 홀수 -> , 'odd'\n",
        "\n",
        "result=my_mapper(numbers,lambda x : 'even' if x % 2 == 0 else 'odd')\n",
        "\n",
        "print(result)"
      ],
      "metadata": {
        "colab": {
          "base_uri": "https://localhost:8080/"
        },
        "id": "URpQm-inssIm",
        "outputId": "b2eb798e-6f04-416d-af95-3c4283a47f7a"
      },
      "execution_count": 71,
      "outputs": [
        {
          "output_type": "stream",
          "name": "stdout",
          "text": [
            "[50, 73, 71, 68, 42, 40, 64, 41, 66, 12]\n",
            "['even', 'odd', 'odd', 'even', 'even', 'even', 'even', 'odd', 'even', 'even']\n"
          ]
        }
      ]
    },
    {
      "cell_type": "code",
      "source": [
        "languages = ['Python' ,'SQL' ,'Java','JavaScript', 'HTML']\n",
        "\n",
        "# languages의 문자열들 중에서 길이가 5보다 큰 문자열들로 이루어진 리스트를 my_mapper를 사용해서 만들기\n",
        "result=my_mapper(languages,lambda x :len(x)  )\n",
        "print(result)"
      ],
      "metadata": {
        "colab": {
          "base_uri": "https://localhost:8080/"
        },
        "id": "mKKD0oIBu92E",
        "outputId": "0fd25b53-f119-46b7-9e1e-c699112b3769"
      },
      "execution_count": 157,
      "outputs": [
        {
          "output_type": "stream",
          "name": "stdout",
          "text": [
            "[6, 3, 4, 10, 4]\n"
          ]
        }
      ]
    },
    {
      "cell_type": "markdown",
      "source": [
        "##예제"
      ],
      "metadata": {
        "id": "mM9jaLGP7urm"
      }
    },
    {
      "cell_type": "markdown",
      "source": [],
      "metadata": {
        "id": "WsWtCGGeu5-Q"
      }
    },
    {
      "cell_type": "markdown",
      "source": [
        "###1"
      ],
      "metadata": {
        "id": "v_T-a7jF8hY3"
      }
    },
    {
      "cell_type": "code",
      "source": [
        "# def add(x,y):\n",
        "#    return  x + y\n",
        "\n",
        "add = lambda x , y : x + y\n",
        "minus = lambda x , y : x - y\n",
        "\n",
        "print(add(4,5))\n",
        "print(minus(4,5))"
      ],
      "metadata": {
        "colab": {
          "base_uri": "https://localhost:8080/"
        },
        "id": "nZ97tF0v70w2",
        "outputId": "ea47860c-a24a-4866-886d-b7d3b54cf324"
      },
      "execution_count": 35,
      "outputs": [
        {
          "output_type": "stream",
          "name": "stdout",
          "text": [
            "9\n",
            "-1\n"
          ]
        }
      ]
    },
    {
      "cell_type": "markdown",
      "source": [
        "###2\n",
        "\n",
        "함수 `calculator()`의 아규먼트로 람다 표현식을 전달"
      ],
      "metadata": {
        "id": "yuMXrKXV8i1N"
      }
    },
    {
      "cell_type": "code",
      "source": [
        "result = calculator( 1 , 2, lambda x , y : x + y )\n",
        "print(result)\n",
        "result = calculator( 1 , 2, lambda x , y : x - y )\n",
        "print(result)\n",
        "result = calculator( 1 , 2, lambda x , y : x * y )\n",
        "print(result)"
      ],
      "metadata": {
        "colab": {
          "base_uri": "https://localhost:8080/"
        },
        "id": "d5M6wrsA8jfO",
        "outputId": "9af4f274-8c28-43e2-eddf-48a4c2d04156"
      },
      "execution_count": 36,
      "outputs": [
        {
          "output_type": "stream",
          "name": "stdout",
          "text": [
            "3\n",
            "-1\n",
            "2\n"
          ]
        }
      ]
    },
    {
      "cell_type": "markdown",
      "source": [
        "###3\n",
        "\n"
      ],
      "metadata": {
        "id": "rnWaahikCjJQ"
      }
    },
    {
      "cell_type": "code",
      "source": [
        "import random\n",
        "numbers=[random.randrange(10) for x in range(10)]\n",
        "print(numbers)"
      ],
      "metadata": {
        "colab": {
          "base_uri": "https://localhost:8080/"
        },
        "id": "ObmDOUCaCuMw",
        "outputId": "0b0b19fd-ae8b-4843-f8d7-e8fcd8b88a6b"
      },
      "execution_count": 37,
      "outputs": [
        {
          "output_type": "stream",
          "name": "stdout",
          "text": [
            "[3, 6, 8, 5, 2, 6, 4, 4, 3, 5]\n"
          ]
        }
      ]
    },
    {
      "cell_type": "markdown",
      "source": [
        "리스트 numbers에서 짝수들만 필터링한 리스트."
      ],
      "metadata": {
        "id": "Hs0y5AGVD1rn"
      }
    },
    {
      "cell_type": "code",
      "source": [
        "# filter(function or None ,iterable)\n",
        "#변수( list나 튜플 같은 ) 들의 원소를 함수에 아규먼트로 전달 했을 시 , True를 리턴하는 값들로 이루어진 filter 객체를 리턴.\n",
        "# ex) evens=filter(lambda x : x % 2 == 0 , numbers)\n",
        "# print(evens)\n",
        "# <filter object at 0x7f7cf5580100>\n",
        "\n",
        "# true나 false로만 되면 된다.\n",
        "evens=filter(lambda x : x % 2 == 0 , numbers)\n",
        "evens1=filter(lambda x : x % 2 != 0 , numbers)\n",
        "print(type(evens))\n",
        "print(list(evens))  # 필터링된 객체를 리스트(list) 타입으로 변환\n",
        "print(tuple(evens1))\n",
        "#넣고 나면 사라진다."
      ],
      "metadata": {
        "id": "jeHlpQBxD7m-",
        "colab": {
          "base_uri": "https://localhost:8080/"
        },
        "outputId": "5a7ef649-5e59-4bad-fa3f-96a1fe556cf5"
      },
      "execution_count": 29,
      "outputs": [
        {
          "output_type": "stream",
          "name": "stdout",
          "text": [
            "<class 'filter'>\n",
            "[4, 2, 2, 2, 6]\n",
            "(5, 5, 9, 9, 1)\n"
          ]
        }
      ]
    },
    {
      "cell_type": "markdown",
      "source": [
        "###4"
      ],
      "metadata": {
        "id": "1ckcKFiTGMNh"
      }
    },
    {
      "cell_type": "code",
      "source": [
        "# map( function , iterable) : 변수들의 원소들을 함수의 아규먼트로 전달해서\n",
        "#함수가 리턴해주는 값들로 이루어진 map 객체를 리턴.\n",
        "squares=map(lambda x : x ** 2 , numbers)\n",
        "print(squares)\n",
        "\n",
        "print(list(squares))"
      ],
      "metadata": {
        "id": "U_5TDACBGOkO",
        "colab": {
          "base_uri": "https://localhost:8080/"
        },
        "outputId": "c827d9da-ce8f-46b3-e7c1-a0b855fe58b9"
      },
      "execution_count": 30,
      "outputs": [
        {
          "output_type": "stream",
          "name": "stdout",
          "text": [
            "<map object at 0x7c6605617070>\n",
            "[16, 25, 4, 4, 4, 25, 81, 81, 1, 36]\n"
          ]
        }
      ]
    },
    {
      "cell_type": "markdown",
      "source": [
        "### 5 -연습문제"
      ],
      "metadata": {
        "id": "YXL5GEsxHW3z"
      }
    },
    {
      "cell_type": "markdown",
      "source": [
        "* [-10 , 10 ] 범위의 난수 10개를 원소로 갖는 리스트\n",
        "* 위의 리스트에서 음수들만 필터링한 리스트를 만들고 출력.\n",
        "* 홀수들만 필터링한 리스트를 만들고 출력"
      ],
      "metadata": {
        "id": "b60zg3KTHYFa"
      }
    },
    {
      "cell_type": "code",
      "source": [
        "a=[random.randrange(-10,11) for x in range(10)]\n",
        "print(a)\n",
        "minus=filter(lambda x : x < 0 , a)\n",
        "print(list(minus))\n",
        "odd=filter(lambda x : x % 2 != 0 , a)\n",
        "print(list(odd))"
      ],
      "metadata": {
        "colab": {
          "base_uri": "https://localhost:8080/"
        },
        "id": "jQZqb4BkHnGE",
        "outputId": "4f10ab7e-482e-411b-b7e7-343a7a7af4f4"
      },
      "execution_count": 31,
      "outputs": [
        {
          "output_type": "stream",
          "name": "stdout",
          "text": [
            "[9, 8, -1, 10, 10, 5, -6, 8, -7, 5]\n",
            "[-1, -6, -7]\n",
            "[9, -1, 5, -7, 5]\n"
          ]
        }
      ]
    },
    {
      "cell_type": "markdown",
      "source": [
        "* [0,100) 범위의 난수 10개를 갖는 리스트를 만듦\n",
        "* 위의 리스트의 원소가 짝수이면 'even', 홀수이면 'odd'로 매핑한 리스트 출력\n",
        "* 리스트의 원소가 [0,19] 이면 ' teen' , [20,59] 이면 'adult' , [60 이면 'senior'로 매핑한 리스트를 만들고 출력"
      ],
      "metadata": {
        "id": "DseVO_LxIAbZ"
      }
    },
    {
      "cell_type": "code",
      "source": [
        "b=[random.randrange(100) for _ in range(10)]\n",
        "print(b)\n",
        "evens=list(map(lambda x : 'even' if x % 2 ==0  else 'odd' , b))\n",
        "\n",
        "\n",
        "# genders=['Male' if x==1 or x==3 else 'Female' for x in gender_codes]\n",
        "age=list(map(  lambda x : 'teen' if x < 20  else ('adult' if x < 60 else 'senior') ,b))\n",
        "print(evens)\n",
        "print(age)\n",
        "\n",
        "# dict={}\n",
        "# for k , v in zip(b,age) :\n",
        "#     dict.keys( k , v )\n",
        "# print(dict)"
      ],
      "metadata": {
        "colab": {
          "base_uri": "https://localhost:8080/",
          "height": 238
        },
        "id": "ggefLKTxJVkJ",
        "outputId": "cc3db981-5a87-4c23-f6ec-2d0fd5d98c13"
      },
      "execution_count": 69,
      "outputs": [
        {
          "output_type": "stream",
          "name": "stdout",
          "text": [
            "[94, 25, 84, 99, 97, 46, 3, 67, 80, 52]\n"
          ]
        },
        {
          "output_type": "error",
          "ename": "TypeError",
          "evalue": "'list' object is not callable",
          "traceback": [
            "\u001b[0;31m---------------------------------------------------------------------------\u001b[0m",
            "\u001b[0;31mTypeError\u001b[0m                                 Traceback (most recent call last)",
            "\u001b[0;32m<ipython-input-69-601546a2a877>\u001b[0m in \u001b[0;36m<cell line: 0>\u001b[0;34m()\u001b[0m\n\u001b[1;32m      2\u001b[0m \u001b[0mprint\u001b[0m\u001b[0;34m(\u001b[0m\u001b[0mb\u001b[0m\u001b[0;34m)\u001b[0m\u001b[0;34m\u001b[0m\u001b[0;34m\u001b[0m\u001b[0m\n\u001b[1;32m      3\u001b[0m \u001b[0mevens\u001b[0m\u001b[0;34m=\u001b[0m\u001b[0mlist\u001b[0m\u001b[0;34m(\u001b[0m\u001b[0mmap\u001b[0m\u001b[0;34m(\u001b[0m\u001b[0;32mlambda\u001b[0m \u001b[0mx\u001b[0m \u001b[0;34m:\u001b[0m \u001b[0;34m'even'\u001b[0m \u001b[0;32mif\u001b[0m \u001b[0mx\u001b[0m \u001b[0;34m%\u001b[0m \u001b[0;36m2\u001b[0m \u001b[0;34m==\u001b[0m\u001b[0;36m0\u001b[0m  \u001b[0;32melse\u001b[0m \u001b[0;34m'odd'\u001b[0m \u001b[0;34m,\u001b[0m \u001b[0mb\u001b[0m\u001b[0;34m)\u001b[0m\u001b[0;34m)\u001b[0m\u001b[0;34m\u001b[0m\u001b[0;34m\u001b[0m\u001b[0m\n\u001b[0;32m----> 4\u001b[0;31m \u001b[0;34m[\u001b[0m\u001b[0mmy_maplist\u001b[0m\u001b[0;34m(\u001b[0m\u001b[0mb\u001b[0m \u001b[0;34m,\u001b[0m \u001b[0;32mlambda\u001b[0m \u001b[0mx\u001b[0m \u001b[0;34m:\u001b[0m \u001b[0;34m'even'\u001b[0m \u001b[0;32mif\u001b[0m \u001b[0mx\u001b[0m \u001b[0;34m%\u001b[0m \u001b[0;36m2\u001b[0m \u001b[0;34m==\u001b[0m\u001b[0;36m0\u001b[0m  \u001b[0;32melse\u001b[0m \u001b[0;34m'odd'\u001b[0m\u001b[0;34m)\u001b[0m\u001b[0;34m]\u001b[0m\u001b[0;34m\u001b[0m\u001b[0;34m\u001b[0m\u001b[0m\n\u001b[0m\u001b[1;32m      5\u001b[0m \u001b[0;34m\u001b[0m\u001b[0m\n\u001b[1;32m      6\u001b[0m \u001b[0;31m# genders=['Male' if x==1 or x==3 else 'Female' for x in gender_codes]\u001b[0m\u001b[0;34m\u001b[0m\u001b[0;34m\u001b[0m\u001b[0m\n",
            "\u001b[0;31mTypeError\u001b[0m: 'list' object is not callable"
          ]
        }
      ]
    }
  ]
}