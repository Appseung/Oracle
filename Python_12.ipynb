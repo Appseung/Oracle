{
  "nbformat": 4,
  "nbformat_minor": 0,
  "metadata": {
    "colab": {
      "provenance": [],
      "authorship_tag": "ABX9TyNgbEk4OBW7hskvIHUv7niG",
      "include_colab_link": true
    },
    "kernelspec": {
      "name": "python3",
      "display_name": "Python 3"
    },
    "language_info": {
      "name": "python"
    }
  },
  "cells": [
    {
      "cell_type": "markdown",
      "metadata": {
        "id": "view-in-github",
        "colab_type": "text"
      },
      "source": [
        "<a href=\"https://colab.research.google.com/github/Appseung/Oracle/blob/main/Python_12.ipynb\" target=\"_parent\"><img src=\"https://colab.research.google.com/assets/colab-badge.svg\" alt=\"Open In Colab\"/></a>"
      ]
    },
    {
      "cell_type": "markdown",
      "source": [
        "#1급 객체(first-class object)로서의 함수"
      ],
      "metadata": {
        "id": "5jF441M036uj"
      }
    },
    {
      "cell_type": "markdown",
      "source": [
        "**함수(function)는 객체(object)**\n",
        "\n",
        "* 객체 : 숫자(int,float), 문자열(str),논리값(True,False),list,dict,tuple, ...\n",
        "* 함수에 아규먼트로 전달이 가능.\n",
        "* 함수가 리턴해주는 값\n",
        "* 함수는 변수에 할당할 수 있음.\n",
        "* 함수의 아규먼트로 함수를 전달할 수 있음.\n",
        "* 함수의 반환값으로 함수를 리턴할 수 있음.\n",
        "* 함수 내부에서 또 다른 함수를 선언할 수 있음."
      ],
      "metadata": {
        "id": "eNtHqnNY4Phn"
      }
    },
    {
      "cell_type": "code",
      "source": [
        "x = 1 # 정수 1을 변수 x에 할당했다."
      ],
      "metadata": {
        "id": "22SSXPxB5fGR"
      },
      "execution_count": null,
      "outputs": []
    },
    {
      "cell_type": "code",
      "source": [
        "result = len('안녕')  # len() 함수는 정수를 리턴.\n",
        "print(result)"
      ],
      "metadata": {
        "colab": {
          "base_uri": "https://localhost:8080/"
        },
        "id": "jQkJ0Uyj56yd",
        "outputId": "2b21368f-56bd-49e5-ccc0-8ddb71bfcb66"
      },
      "execution_count": 1,
      "outputs": [
        {
          "output_type": "stream",
          "name": "stdout",
          "text": [
            "2\n"
          ]
        }
      ]
    },
    {
      "cell_type": "code",
      "source": [
        "def double(x):\n",
        "    return 2 * x"
      ],
      "metadata": {
        "id": "q7qwHraA6SuP"
      },
      "execution_count": 7,
      "outputs": []
    },
    {
      "cell_type": "code",
      "source": [
        "result=double(5) # 함수 double을 호출하고 그 반환값을 변수 result에 저장\n",
        "print(result)"
      ],
      "metadata": {
        "colab": {
          "base_uri": "https://localhost:8080/"
        },
        "id": "kGshZai16XvY",
        "outputId": "33d4de02-ae8a-487b-c5a2-9e7a7aca835b"
      },
      "execution_count": 9,
      "outputs": [
        {
          "output_type": "stream",
          "name": "stdout",
          "text": [
            "10\n"
          ]
        }
      ]
    },
    {
      "cell_type": "code",
      "source": [
        "print(double(3))"
      ],
      "metadata": {
        "colab": {
          "base_uri": "https://localhost:8080/"
        },
        "id": "kW97clKI6fgv",
        "outputId": "d0339089-5cf0-4727-a5b0-6a033a7cd6c2"
      },
      "execution_count": 10,
      "outputs": [
        {
          "output_type": "stream",
          "name": "stdout",
          "text": [
            "6\n"
          ]
        }
      ]
    },
    {
      "cell_type": "code",
      "source": [
        "print(double) #double이라는 이름의 함수 객체를 문자열로 표현해서 출력\n",
        "#함수를 호출한게 아님."
      ],
      "metadata": {
        "colab": {
          "base_uri": "https://localhost:8080/"
        },
        "id": "b-0sGl1h6_dI",
        "outputId": "73e7d506-9c59-49d5-d97b-71b886b5710e"
      },
      "execution_count": 11,
      "outputs": [
        {
          "output_type": "stream",
          "name": "stdout",
          "text": [
            "<function double at 0x7faf95539e40>\n"
          ]
        }
      ]
    },
    {
      "cell_type": "markdown",
      "source": [
        "## 함수를 변수에 할당"
      ],
      "metadata": {
        "id": "Xz2phmPE7e6Q"
      }
    },
    {
      "cell_type": "code",
      "source": [
        "twice=double    # 이 문장과   -<      함수 호출이 아님\n",
        "                                    # function 객체를 twice에 저장한 것 .\n",
        "                # result =double(5) 이 문장은 다른 문장임 ."
      ],
      "metadata": {
        "id": "A_ZVUI5o7gkD"
      },
      "execution_count": 13,
      "outputs": []
    },
    {
      "cell_type": "code",
      "source": [
        "print(twice)"
      ],
      "metadata": {
        "colab": {
          "base_uri": "https://localhost:8080/"
        },
        "id": "vXI9Z0_O7mco",
        "outputId": "1d75ae82-732c-4ef3-92a9-d60bf858a95b"
      },
      "execution_count": 15,
      "outputs": [
        {
          "output_type": "stream",
          "name": "stdout",
          "text": [
            "<function double at 0x7faf95539e40>\n"
          ]
        }
      ]
    },
    {
      "cell_type": "code",
      "source": [
        "print(twice(10))"
      ],
      "metadata": {
        "colab": {
          "base_uri": "https://localhost:8080/"
        },
        "id": "BdAq572o7_rn",
        "outputId": "12cd68b4-61e6-463f-cb36-b287418d32ca"
      },
      "execution_count": 16,
      "outputs": [
        {
          "output_type": "stream",
          "name": "stdout",
          "text": [
            "20\n"
          ]
        }
      ]
    },
    {
      "cell_type": "markdown",
      "source": [
        "##아규먼트로 함수를 전달받는 함수\n",
        "\n"
      ],
      "metadata": {
        "id": "CENKSxyQ9ZGR"
      }
    },
    {
      "cell_type": "code",
      "source": [
        "def calculator(x,y,fn):\n",
        "    result=fn(x,y)\n",
        "    return result\n"
      ],
      "metadata": {
        "id": "nG7MUs2x9fai"
      },
      "execution_count": 19,
      "outputs": []
    },
    {
      "cell_type": "markdown",
      "source": [
        "fn = 함수 이기에\n",
        "\n",
        "result=fn(x.y)가 가능  = 괄호가 되어있으니 함수가 가능."
      ],
      "metadata": {
        "id": "YrOBuRSd91dQ"
      }
    },
    {
      "cell_type": "code",
      "source": [
        "def plus(x,y):\n",
        "    return x+y\n"
      ],
      "metadata": {
        "id": "sDz4TrDf-ZjR"
      },
      "execution_count": 21,
      "outputs": []
    },
    {
      "cell_type": "code",
      "source": [
        "result=calculator(1,2,minus)   # minus <-  이건 함수자체를 호출한 것  이 함수를 쓸것이다. 라는걸 애초에 함수로 만들었음.\n",
        "print(result)"
      ],
      "metadata": {
        "colab": {
          "base_uri": "https://localhost:8080/"
        },
        "id": "DgQGmUgL-jPw",
        "outputId": "b9c4cd83-5449-4dae-8189-60ab94357ccd"
      },
      "execution_count": 23,
      "outputs": [
        {
          "output_type": "stream",
          "name": "stdout",
          "text": [
            "-1\n"
          ]
        }
      ]
    },
    {
      "cell_type": "code",
      "source": [
        "def minus(x,y):\n",
        "    return x-y\n",
        "\n",
        "result=calculator(1,2,minus)   # minus <-  이건 함수자체를 호출한 것  이 함수를 쓸것이다. 라는걸 애초에 함수로 만들었음.\n",
        "print(result)\n",
        "\n"
      ],
      "metadata": {
        "id": "Q7q8nc9W_6Bv"
      },
      "execution_count": null,
      "outputs": []
    },
    {
      "cell_type": "code",
      "source": [
        "def is_greater(x,y):\n",
        "    return x > y\n",
        "\n",
        "result = calculator(1,2,is_greater)\n",
        "print(result)"
      ],
      "metadata": {
        "colab": {
          "base_uri": "https://localhost:8080/"
        },
        "id": "BoFQDxvgAfHh",
        "outputId": "192ece4f-2b7e-4402-e29d-cf69c27307bb"
      },
      "execution_count": 25,
      "outputs": [
        {
          "output_type": "stream",
          "name": "stdout",
          "text": [
            "False\n"
          ]
        }
      ]
    },
    {
      "cell_type": "markdown",
      "source": [
        "## 내부 함수 , 함수를 리턴하는 함수"
      ],
      "metadata": {
        "id": "UCiOelsLBRdo"
      }
    },
    {
      "cell_type": "markdown",
      "source": [
        "내부 함수 (inner function ) , 지역 함수 (local function) :\n",
        "* 함수 내부에서 선언된 함수.\n",
        "* 선언된 함수 내부에서만 호출할 수 있음.\n",
        "* 선언된 함수 외부에서는 호출할 수 없음.\n",
        "* 외부 함수의 지역 변수들(파라미터 포함)을 사용할 수 있음!"
      ],
      "metadata": {
        "id": "C9mcALfTCk8w"
      }
    },
    {
      "cell_type": "code",
      "source": [
        "def make_incrementor (n): #증가시키다.  # 전역 함수\n",
        "    #내부 함수\n",
        "    #지역 함수\n",
        "    def add_n(x):\n",
        "        return x + n   # x함수를 사용할 때 바깥쪽의 n을 사용할 수 있음. 이해감?\n",
        "        # 긍께 함수 return x는 내부함수인데 n은 외부함수로 들어오는건데\n",
        "        #x는 내부함수에서만 사용하는 것이고 n은 외부에서 사용되는걸\n",
        "        # 짭죠 , n은 내부각각에서 다 사용이 가능.\n",
        "    #함수 객체를 리턴.\n",
        "    return add_n    # <- 리턴을 함수이름만 리턴함 #바깥에서 호출할 수 있어짐.(?)"
      ],
      "metadata": {
        "id": "lKmpD9XEBYdB"
      },
      "execution_count": 39,
      "outputs": []
    },
    {
      "cell_type": "code",
      "source": [
        "add_n(10)   #<-  지역함수기때문"
      ],
      "metadata": {
        "colab": {
          "base_uri": "https://localhost:8080/",
          "height": 147
        },
        "id": "pDYTV86CB65S",
        "outputId": "e92e90cb-1adf-4602-cd30-e29eea68131d"
      },
      "execution_count": 27,
      "outputs": [
        {
          "output_type": "error",
          "ename": "NameError",
          "evalue": "name 'add_n' is not defined",
          "traceback": [
            "\u001b[0;31m---------------------------------------------------------------------------\u001b[0m",
            "\u001b[0;31mNameError\u001b[0m                                 Traceback (most recent call last)",
            "\u001b[0;32m<ipython-input-27-68fd341d346d>\u001b[0m in \u001b[0;36m<cell line: 0>\u001b[0;34m()\u001b[0m\n\u001b[0;32m----> 1\u001b[0;31m \u001b[0madd_n\u001b[0m\u001b[0;34m(\u001b[0m\u001b[0;36m10\u001b[0m\u001b[0;34m)\u001b[0m\u001b[0;34m\u001b[0m\u001b[0;34m\u001b[0m\u001b[0m\n\u001b[0m",
            "\u001b[0;31mNameError\u001b[0m: name 'add_n' is not defined"
          ]
        }
      ]
    },
    {
      "cell_type": "code",
      "source": [
        "increase_by_2=make_incrementor(2)"
      ],
      "metadata": {
        "id": "41iODFZaD2CI"
      },
      "execution_count": 40,
      "outputs": []
    },
    {
      "cell_type": "code",
      "source": [
        "print(increase_by_2)\n",
        "result=increase_by_2(10)\n",
        "print(result)"
      ],
      "metadata": {
        "colab": {
          "base_uri": "https://localhost:8080/"
        },
        "id": "7KYnGsVkD9dR",
        "outputId": "18beb831-73df-47dc-94a2-2acdcce2a44a"
      },
      "execution_count": 44,
      "outputs": [
        {
          "output_type": "stream",
          "name": "stdout",
          "text": [
            "<function make_incrementor.<locals>.add_n at 0x7faf947fe660>\n",
            "12\n"
          ]
        }
      ]
    },
    {
      "cell_type": "code",
      "source": [
        "plus_10=make_incrementor(10)"
      ],
      "metadata": {
        "id": "PsoCFl2oEnIv"
      },
      "execution_count": 45,
      "outputs": []
    },
    {
      "cell_type": "code",
      "source": [
        "print(plus_10(10))"
      ],
      "metadata": {
        "colab": {
          "base_uri": "https://localhost:8080/"
        },
        "id": "PCSZLsjbEpdB",
        "outputId": "b40b2fbc-e9ad-4d26-ad93-7fa111bfda44"
      },
      "execution_count": 46,
      "outputs": [
        {
          "output_type": "stream",
          "name": "stdout",
          "text": [
            "20\n"
          ]
        }
      ]
    },
    {
      "cell_type": "code",
      "source": [
        "print(make_incrementor(5)(10))"
      ],
      "metadata": {
        "colab": {
          "base_uri": "https://localhost:8080/"
        },
        "id": "YJXzsZWDEyKp",
        "outputId": "a4adf1b7-c69d-45ea-929f-138fa9d7e2b5"
      },
      "execution_count": 50,
      "outputs": [
        {
          "output_type": "stream",
          "name": "stdout",
          "text": [
            "15\n"
          ]
        }
      ]
    },
    {
      "cell_type": "code",
      "source": [
        "def make_power(n):\n",
        "    def test(x):\n",
        "\n",
        "        return x**n\n",
        "    return test\n"
      ],
      "metadata": {
        "id": "lRRGaodbKLV6"
      },
      "execution_count": 62,
      "outputs": []
    },
    {
      "cell_type": "code",
      "source": [
        "square =make_power(2)\n",
        "cube =make_power(3)\n",
        "\n",
        "print(square(5))\n",
        "print(cube(2))"
      ],
      "metadata": {
        "colab": {
          "base_uri": "https://localhost:8080/"
        },
        "id": "SIColD9vJ-ma",
        "outputId": "21fc06c8-e5fc-4bab-8d81-91423069d082"
      },
      "execution_count": 63,
      "outputs": [
        {
          "output_type": "stream",
          "name": "stdout",
          "text": [
            "25\n",
            "8\n"
          ]
        }
      ]
    },
    {
      "cell_type": "code",
      "source": [
        "def make_operator(op):\n",
        "    if op=='add':\n",
        "        def calc(x,y):\n",
        "            return x+y\n",
        "    elif op=='mul':\n",
        "        def calc(x,y):\n",
        "            return x*y\n",
        "    return calc"
      ],
      "metadata": {
        "id": "ilQ9N0uQLmPt"
      },
      "execution_count": 65,
      "outputs": []
    },
    {
      "cell_type": "code",
      "source": [
        "def make_operator2(op):\n",
        "    def calc(x,y):\n",
        "        if op=='add':\n",
        "            return x+y\n",
        "        elif op=='mul':\n",
        "            return x*y\n",
        "    return calc"
      ],
      "metadata": {
        "id": "4wVyc7-NMQx7"
      },
      "execution_count": 67,
      "outputs": []
    },
    {
      "cell_type": "code",
      "source": [
        "adder = make_operator(\"add\")\n",
        "multiplier = make_operator(\"mul\")\n",
        "adder2 = make_operator2(\"add\")\n",
        "multiplier2 = make_operator2(\"mul\")\n",
        "\n",
        "\n",
        "print(adder2(3, 4))      # 👉 7\n",
        "print(multiplier2(3, 4)) # 👉 12"
      ],
      "metadata": {
        "colab": {
          "base_uri": "https://localhost:8080/"
        },
        "id": "LX9ioFBcMFhT",
        "outputId": "7d555e7f-3663-42df-ae85-8fd7314ac85f"
      },
      "execution_count": 68,
      "outputs": [
        {
          "output_type": "stream",
          "name": "stdout",
          "text": [
            "7\n",
            "12\n"
          ]
        }
      ]
    },
    {
      "cell_type": "code",
      "source": [],
      "metadata": {
        "id": "F8_MC43OQW3D"
      },
      "execution_count": null,
      "outputs": []
    },
    {
      "cell_type": "code",
      "source": [
        "def make_filter(conditon):\n",
        "    def filter_list(lst):\n",
        "        for x in lst:\n",
        "\n",
        "        if conditon=='even':\n",
        "           if lst %2==0:\n",
        "            return lst\n",
        "        if conditon=='odd':\n",
        "           if lst %2==1:\n",
        "            return lst\n",
        "        if conditon=='positive':\n",
        "           if lst < 0:\n",
        "            return lst\n",
        "\n",
        "        if conditon=='negative':\n",
        "           if lst > 0:\n",
        "            return lst\n",
        "\n",
        "    return filter_list"
      ],
      "metadata": {
        "id": "8JjQupUoM1Da"
      },
      "execution_count": 108,
      "outputs": []
    },
    {
      "cell_type": "code",
      "source": [
        "a=make_filter('even')\n",
        "print(a(4))"
      ],
      "metadata": {
        "colab": {
          "base_uri": "https://localhost:8080/"
        },
        "id": "BDQum1tiOuua",
        "outputId": "5b49fab3-0215-49bf-8c88-7c91f8e76576"
      },
      "execution_count": 109,
      "outputs": [
        {
          "output_type": "stream",
          "name": "stdout",
          "text": [
            "4\n"
          ]
        }
      ]
    },
    {
      "cell_type": "code",
      "source": [
        "even_filter = make_filter(\"even\")\n",
        "print(even_filter([1, 2, 3, 4, 5]))     # 👉 [2, 4]\n",
        "\n",
        "neg_filter = make_filter(\"negative\")\n",
        "print(neg_filter([3, -1, -5, 2, 0]))    # 👉 [-1, -5]"
      ],
      "metadata": {
        "colab": {
          "base_uri": "https://localhost:8080/",
          "height": 348
        },
        "id": "Rl2aiOgRNfN6",
        "outputId": "a9a80c2e-dee1-45ed-b72d-0e7d66b9fc25"
      },
      "execution_count": 110,
      "outputs": [
        {
          "output_type": "error",
          "ename": "TypeError",
          "evalue": "unsupported operand type(s) for %: 'list' and 'int'",
          "traceback": [
            "\u001b[0;31m---------------------------------------------------------------------------\u001b[0m",
            "\u001b[0;31mTypeError\u001b[0m                                 Traceback (most recent call last)",
            "\u001b[0;32m<ipython-input-110-0842441ed0dd>\u001b[0m in \u001b[0;36m<cell line: 0>\u001b[0;34m()\u001b[0m\n\u001b[1;32m      1\u001b[0m \u001b[0meven_filter\u001b[0m \u001b[0;34m=\u001b[0m \u001b[0mmake_filter\u001b[0m\u001b[0;34m(\u001b[0m\u001b[0;34m\"even\"\u001b[0m\u001b[0;34m)\u001b[0m\u001b[0;34m\u001b[0m\u001b[0;34m\u001b[0m\u001b[0m\n\u001b[0;32m----> 2\u001b[0;31m \u001b[0mprint\u001b[0m\u001b[0;34m(\u001b[0m\u001b[0meven_filter\u001b[0m\u001b[0;34m(\u001b[0m\u001b[0;34m[\u001b[0m\u001b[0;36m1\u001b[0m\u001b[0;34m,\u001b[0m \u001b[0;36m2\u001b[0m\u001b[0;34m,\u001b[0m \u001b[0;36m3\u001b[0m\u001b[0;34m,\u001b[0m \u001b[0;36m4\u001b[0m\u001b[0;34m,\u001b[0m \u001b[0;36m5\u001b[0m\u001b[0;34m]\u001b[0m\u001b[0;34m)\u001b[0m\u001b[0;34m)\u001b[0m     \u001b[0;31m# 👉 [2, 4]\u001b[0m\u001b[0;34m\u001b[0m\u001b[0;34m\u001b[0m\u001b[0m\n\u001b[0m\u001b[1;32m      3\u001b[0m \u001b[0;34m\u001b[0m\u001b[0m\n\u001b[1;32m      4\u001b[0m \u001b[0mneg_filter\u001b[0m \u001b[0;34m=\u001b[0m \u001b[0mmake_filter\u001b[0m\u001b[0;34m(\u001b[0m\u001b[0;34m\"negative\"\u001b[0m\u001b[0;34m)\u001b[0m\u001b[0;34m\u001b[0m\u001b[0;34m\u001b[0m\u001b[0m\n\u001b[1;32m      5\u001b[0m \u001b[0mprint\u001b[0m\u001b[0;34m(\u001b[0m\u001b[0mneg_filter\u001b[0m\u001b[0;34m(\u001b[0m\u001b[0;34m[\u001b[0m\u001b[0;36m3\u001b[0m\u001b[0;34m,\u001b[0m \u001b[0;34m-\u001b[0m\u001b[0;36m1\u001b[0m\u001b[0;34m,\u001b[0m \u001b[0;34m-\u001b[0m\u001b[0;36m5\u001b[0m\u001b[0;34m,\u001b[0m \u001b[0;36m2\u001b[0m\u001b[0;34m,\u001b[0m \u001b[0;36m0\u001b[0m\u001b[0;34m]\u001b[0m\u001b[0;34m)\u001b[0m\u001b[0;34m)\u001b[0m    \u001b[0;31m# 👉 [-1, -5]\u001b[0m\u001b[0;34m\u001b[0m\u001b[0;34m\u001b[0m\u001b[0m\n",
            "\u001b[0;32m<ipython-input-108-e4f4e2d18bdb>\u001b[0m in \u001b[0;36mfilter_list\u001b[0;34m(lst)\u001b[0m\n\u001b[1;32m      2\u001b[0m     \u001b[0;32mdef\u001b[0m \u001b[0mfilter_list\u001b[0m\u001b[0;34m(\u001b[0m\u001b[0mlst\u001b[0m\u001b[0;34m)\u001b[0m\u001b[0;34m:\u001b[0m\u001b[0;34m\u001b[0m\u001b[0;34m\u001b[0m\u001b[0m\n\u001b[1;32m      3\u001b[0m         \u001b[0;32mif\u001b[0m \u001b[0mconditon\u001b[0m\u001b[0;34m==\u001b[0m\u001b[0;34m'even'\u001b[0m\u001b[0;34m:\u001b[0m\u001b[0;34m\u001b[0m\u001b[0;34m\u001b[0m\u001b[0m\n\u001b[0;32m----> 4\u001b[0;31m            \u001b[0;32mif\u001b[0m \u001b[0mlst\u001b[0m \u001b[0;34m%\u001b[0m\u001b[0;36m2\u001b[0m\u001b[0;34m==\u001b[0m\u001b[0;36m0\u001b[0m\u001b[0;34m:\u001b[0m\u001b[0;34m\u001b[0m\u001b[0;34m\u001b[0m\u001b[0m\n\u001b[0m\u001b[1;32m      5\u001b[0m             \u001b[0;32mreturn\u001b[0m \u001b[0mlst\u001b[0m\u001b[0;34m\u001b[0m\u001b[0;34m\u001b[0m\u001b[0m\n\u001b[1;32m      6\u001b[0m         \u001b[0;32mif\u001b[0m \u001b[0mconditon\u001b[0m\u001b[0;34m==\u001b[0m\u001b[0;34m'odd'\u001b[0m\u001b[0;34m:\u001b[0m\u001b[0;34m\u001b[0m\u001b[0;34m\u001b[0m\u001b[0m\n",
            "\u001b[0;31mTypeError\u001b[0m: unsupported operand type(s) for %: 'list' and 'int'"
          ]
        }
      ]
    }
  ]
}